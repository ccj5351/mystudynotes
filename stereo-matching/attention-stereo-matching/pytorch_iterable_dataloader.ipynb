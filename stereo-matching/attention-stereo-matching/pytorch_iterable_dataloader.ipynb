{
 "cells": [
  {
   "cell_type": "markdown",
   "metadata": {},
   "source": [
    "# PyTorch Iterable Datasetand DataLoaders\n",
    "\n",
    "> see [How to Build a Streaming DataLoader with PyTorch](https://medium.com/speechmatics/how-to-build-a-streaming-dataloader-with-pytorch-a66dd891d9dd)\n",
    "\n",
    "> see [How to use Pytorch Dataloaders to work with enormously large text files](https://medium.com/swlh/how-to-use-pytorch-dataloaders-to-work-with-enormously-large-text-files-bbd672e955a0)"
   ]
  },
  {
   "cell_type": "markdown",
   "metadata": {},
   "source": [
    "PyTorch Datasets are objects that have a single job: to return a single datapoint on request. The exact form of the datapoint varies between tasks: it could be a single image, a slice of a time series, a tabular record or something else entirely. These are then passed on to a Dataloader which handles batching of datapoints and parallelism.\n",
    "\n",
    "Before PyTorch 1.2 the only available dataset class was the original `“map-style”` dataset. This simply requires the user to inherit from the torch.utils.data.Dataset class and implement the `__len__` and `__getitem__` methods, where `__getitem__` receives an index which is mapped to some item in your dataset. Let’s see a very simple example."
   ]
  },
  {
   "cell_type": "code",
   "execution_count": 1,
   "metadata": {},
   "outputs": [],
   "source": [
    "import torch.utils.data as data\n",
    "class MyMapDataset(data.Dataset): \n",
    "    def __init__(self, data):\n",
    "        self.data = data\n",
    "    def __getitem__(self, index):\n",
    "        return self.data[index]\n",
    "\n",
    "    def __len__(self):\n",
    "        return len(self.data)"
   ]
  },
  {
   "cell_type": "markdown",
   "metadata": {},
   "source": [
    "This is instantiated and passed to the DataLoader, which is iterated over, returning batches of data to feed into our model."
   ]
  },
  {
   "cell_type": "code",
   "execution_count": 2,
   "metadata": {},
   "outputs": [
    {
     "name": "stdout",
     "output_type": "stream",
     "text": [
      "tensor([0, 1, 2, 3])\n",
      "tensor([4, 5, 6, 7])\n",
      "tensor([ 8,  9, 10, 11])\n"
     ]
    }
   ],
   "source": [
    "from itertools import islice\n",
    "from torch.utils.data import DataLoader\n",
    "my_data = [0, 1, 2, 3, 4, 5, 6, 7, 8, 9, 10, 11]\n",
    "map_dataset = MyMapDataset(my_data)\n",
    "loader = DataLoader(map_dataset, batch_size = 4)\n",
    "\n",
    "for batch in loader:\n",
    "    print(batch)"
   ]
  },
  {
   "cell_type": "markdown",
   "metadata": {},
   "source": [
    "This remains a flexible abstraction, however, the `assumption` that you can trivially map each data point in your dataset means that it is less suited to situations where the input data is arriving as part of a stream, for example, an audio or video feed. Alternatively, each datapoint might be a subset of a file which is too large to be held in memory and so requires incremental loading during training. These situations can be addressed with more complex logic in our dataset or additional pre-processing of our inputs, but there is now a more natural solution, enter the `IterableDataset`!"
   ]
  },
  {
   "cell_type": "code",
   "execution_count": 3,
   "metadata": {},
   "outputs": [
    {
     "name": "stdout",
     "output_type": "stream",
     "text": [
      "tensor([0, 1, 2, 3])\n",
      "tensor([4, 5, 6, 7])\n",
      "tensor([ 8,  9, 10, 11])\n"
     ]
    }
   ],
   "source": [
    "import torch.utils.data as data\n",
    "class MyIterableDataset(data.IterableDataset): \n",
    "    def __init__(self, data):\n",
    "        self.data = data\n",
    "    def __iter__(self):\n",
    "        return iter(self.data)\n",
    "    \n",
    "iterable_dataset = MyIterableDataset(my_data)\n",
    "loader = DataLoader(iterable_dataset, batch_size = 4)\n",
    "\n",
    "for batch in loader:\n",
    "    print(batch)"
   ]
  },
  {
   "cell_type": "markdown",
   "metadata": {},
   "source": [
    "For both examples, we are returning the same result. So, what is the practical difference between these objects?\n",
    "\n",
    "- At a high level, each time the DataLoader returns a batch from the “map-style” dataset, it is sampling a set of indices and retrieving them with `map_dataset[idx]`. \n",
    "\n",
    "- In contrast, for the `IterableDataset` the DataLoader is calling `next(iterable_dataset)` until it has built a full batch. One use-case where this latter approach excels is feeding data to a sequential model. A more concrete example is shown below."
   ]
  },
  {
   "cell_type": "code",
   "execution_count": 4,
   "metadata": {},
   "outputs": [
    {
     "name": "stdout",
     "output_type": "stream",
     "text": [
      "[***] img# = 50, file_list = driving/frames_finalpass/15mm_focallength/scene_backwards/slow/left/0419.png, ..., driving/frames_finalpass/15mm_focallength/scene_backwards/slow/left/0134.png\n",
      "['d', 'r', 'i', 'v', 'i', 'n', 'g', '/', 'f', 'r', 'a', 'm', 'e', 's', '_', 'f', 'i', 'n', 'a', 'l', 'p', 'a', 's', 's', '/', '1', '5', 'm', 'm', '_', 'f', 'o', 'c', 'a', 'l', 'l', 'e', 'n', 'g', 't', 'h', '/', 's', 'c', 'e', 'n', 'e', '_', 'b', 'a']\n",
      "['c', 'k', 'w', 'a', 'r', 'd', 's', '/', 's', 'l', 'o', 'w', '/', 'l', 'e', 'f', 't', '/', '0', '4', '1', '9', '.', 'p', 'n', 'g', 'm', 'o', 'n', 'k', 'a', 'a', '/', 'f', 'r', 'a', 'm', 'e', 's', '_', 'f', 'i', 'n', 'a', 'l', 'p', 'a', 's', 's', '/']\n",
      "['f', 'u', 'n', 'n', 'y', 'w', 'o', 'r', 'l', 'd', '_', 'a', 'u', 'g', 'm', 'e', 'n', 't', 'e', 'd', '0', '_', 'x', '2', '/', 'l', 'e', 'f', 't', '/', '0', '3', '5', '8', '.', 'p', 'n', 'g', 'm', 'o', 'n', 'k', 'a', 'a', '/', 'f', 'r', 'a', 'm', 'e']\n"
     ]
    }
   ],
   "source": [
    "from itertools import cycle, islice\n",
    "import torch.utils.data as data\n",
    "from torch.utils.data import DataLoader\n",
    "\n",
    "class MyIterableDatasetV2(data.IterableDataset): \n",
    "    def __init__(self, data_path, file_list_txt):\n",
    "        super(MyIterableDatasetV2, self).__init__()\n",
    "        self.file_list_txt = file_list_txt\n",
    "        self.data_path = data_path\n",
    "        f = open(self.file_list_txt, 'r')\n",
    "        self.file_list = [l.rstrip() for l in f.readlines()]\n",
    "        print (\"[***] img# = {}, file_list = {}, ..., {}\".format(len(self.file_list), \n",
    "            self.file_list[0], self.file_list[len(self.file_list) - 1]))\n",
    "    \n",
    "    def parse_file(self):\n",
    "        f = open(self.file_list_txt, 'r')\n",
    "        for l in f.readlines():\n",
    "            yield from l.rstrip()\n",
    "    def get_stream(self):\n",
    "        #return cycle(self.parse_file())\n",
    "        return iter(self.parse_file())\n",
    "        \n",
    "    def __iter__(self):\n",
    "        return self.get_stream()\n",
    "    \n",
    "data_path = '/media/ccjData2/datasets/SceneFlowDataset/'\n",
    "file_txt = '/home/ccj/atten-stereo/lists/sceneflow_train_small.list'\n",
    "iterable_dataset = MyIterableDatasetV2(data_path, file_txt)\n",
    "loader = DataLoader(iterable_dataset, batch_size = 50)\n",
    "\n",
    "for batch in islice(loader, 3):\n",
    "    print(batch)\n",
    "    \n",
    "#for batch in loader:\n",
    "#    print(batch)"
   ]
  },
  {
   "cell_type": "markdown",
   "metadata": {},
   "source": [
    "At each step of our very basic iterator, we are returning a single token from our dataset, which the `DataLoader` then aggregates into batches (each row of the output is a batch). We are using `itertools.cycle` here to create an infinite iterator, so when we reach the end of an epoch we loop back around to the start. This guarantees consistent batch sizes and avoids having to implement any file-end logic. Note that this example shows only a very short piece of text to illustrate the cycle in action. In practice, you would also want your dataset to return encoded indices instead of raw tokens.\n",
    "\n",
    "Hopefully, it should now be clear in which scenarios the `IterableDataset` is useful. For the next set of examples, we return to using a numeric dataset with trivial parsing logic as this makes it easier to illustrate key points. Here is the previous example re-implemented."
   ]
  },
  {
   "cell_type": "code",
   "execution_count": 5,
   "metadata": {},
   "outputs": [
    {
     "name": "stdout",
     "output_type": "stream",
     "text": [
      "epo # = 0\n",
      "tensor([0, 1, 2, 3])\n",
      "tensor([4, 5, 6, 7])\n",
      "tensor([ 8,  9, 10, 11])\n",
      "epo # = 1\n",
      "tensor([0, 1, 2, 3])\n",
      "tensor([4, 5, 6, 7])\n",
      "tensor([ 8,  9, 10, 11])\n",
      "epo # = 2\n",
      "tensor([0, 1, 2, 3])\n",
      "tensor([4, 5, 6, 7])\n",
      "tensor([ 8,  9, 10, 11])\n"
     ]
    }
   ],
   "source": [
    "import torch.utils.data as data\n",
    "\n",
    "class MyIterableDatasetV3(data.IterableDataset): \n",
    "    def __init__(self, data):\n",
    "        self.data = data\n",
    "    def process_data(self):\n",
    "        for x in self.data:\n",
    "            yield x\n",
    "\n",
    "    def get_stream(self):\n",
    "        #return cycle(self.process_data())\n",
    "        return self.process_data()\n",
    "        \n",
    "    def __iter__(self):\n",
    "        return self.get_stream()\n",
    "\n",
    "my_data = [0, 1, 2, 3, 4, 5, 6, 7, 8, 9, 10, 11]\n",
    "iterable_dataset2 = MyIterableDatasetV3(my_data)\n",
    "loader = data.DataLoader(iterable_dataset2, batch_size = 4)\n",
    "\n",
    "#for batch in islice(loader, 8):\n",
    "#    print(batch)\n",
    "for epo in range(0, 3):\n",
    "    print (\"epo # = %d\" % epo)\n",
    "    for batch in loader:\n",
    "        print(batch)"
   ]
  },
  {
   "cell_type": "markdown",
   "metadata": {},
   "source": [
    "This example assumes that our entire input is contained within a single file, but we can easily extend our dataset to include multiple files of potentially inconsistent length by passing in a list of data sources and chaining them together."
   ]
  },
  {
   "cell_type": "markdown",
   "metadata": {},
   "source": [
    "## Utility Function\n",
    "\n",
    "Here is a utility function to draw the timings, adopted from the orignal code at [here](https://gist.github.com/david-macleod/2b933d28fd3ac09766785728ee191f09), shown below:"
   ]
  },
  {
   "cell_type": "code",
   "execution_count": 6,
   "metadata": {},
   "outputs": [],
   "source": [
    "import matplotlib.pyplot as plt\n",
    "from matplotlib.patches import Rectangle\n",
    "import time\n",
    "import torch\n",
    "import numpy as np\n",
    "\n",
    "# added by CCJ;\n",
    "def count(start=0, step=1):\n",
    "    # count(10) --> 10 11 12 13 14 ...\n",
    "    # count(2.5, 0.5) -> 2.5 3.0 3.5 ...\n",
    "    n = start\n",
    "    while True:\n",
    "        yield n\n",
    "        n += step\n",
    "\n",
    "#> see:https://gist.github.com/david-macleod/2b933d28fd3ac09766785728ee191f09\n",
    "def plot_timings(loader, n_batches, model_time=0.2, max_time=2.5):\n",
    "    \n",
    "    fig, ax = plt.subplots()\n",
    "    ax.set_axisbelow(True)\n",
    "    ax.yaxis.grid(which=\"major\", color='black', linewidth=1)\n",
    "    \n",
    "    zero_time = time.time()\n",
    "    \n",
    "    worker_ids = {}\n",
    "    worker_count = count() # added by CCJ;\n",
    "    for result in islice(loader, n_batches):\n",
    "        start = time.time()\n",
    "        time.sleep(model_time)\n",
    "        end = time.time()\n",
    "                \n",
    "        # check if already batched\n",
    "        if isinstance(result[0], torch.Tensor):\n",
    "            result = zip(*result)\n",
    "            \n",
    "        batch = []\n",
    "        #print ('result = ', result)\n",
    "        for item in result:\n",
    "            data, worker, t1, t2 = tuple(map(scalar, item))\n",
    "            #print (\"processing worker id = %d\"% worker )\n",
    "            # fix worker position in plot\n",
    "            if worker != -1:\n",
    "                if worker not in worker_ids:\n",
    "                    worker_ids[worker] = next(worker_count)\n",
    "                worker = worker_ids[worker]\n",
    "   \n",
    "            plot_time_box(data, worker, t1-zero_time, t2-zero_time, ax)\n",
    "            batch.append(data)\n",
    "        \n",
    "        batch_str = \",\".join(map(str, batch))\n",
    "        plot_time_box(batch_str, -1, start-zero_time, end-zero_time, ax, color='firebrick')\n",
    "    \n",
    "    max_worker = len(worker_ids) - 1 \n",
    "        \n",
    "    ax.set_xlim(0, max_time)\n",
    "    ax.set_ylim(-1.5, max_worker + 0.5)\n",
    "    ax.set_xticks(np.arange(0, max_time, 0.2))\n",
    "    ax.set_yticks(np.arange(-1, max_worker+1, 1))\n",
    "    ax.set_yticklabels([])\n",
    "    ax.tick_params(axis='y', colors=(0,0,0,0))\n",
    "    \n",
    "    fig.set_figwidth(16)\n",
    "    fig.set_figheight((max_worker + 2) * 0.5)\n",
    "    \n",
    "    ax.xaxis.label.set_color('gray')\n",
    "    ax.tick_params(axis='x', colors='gray')\n",
    "    for spine in ax.spines.values():\n",
    "        spine.set_edgecolor((0,0,0,0))\n",
    "        \n",
    "def scalar(x):\n",
    "    return x.item() if hasattr(x, 'item') else x\n",
    "\n",
    "def plot_time_box(data, worker, t1, t2, ax, color='steelblue'):\n",
    "    x = t1\n",
    "    y = worker - 0.25\n",
    "    w = t2 - t1\n",
    "    h = 0.6\n",
    "    \n",
    "    rect = Rectangle((x, y), w, h, linewidth=2, edgecolor='black',facecolor=color)\n",
    "    \n",
    "    ax.add_patch(rect)\n",
    "    \n",
    "    ax.text(x + (w * 0.5), y + (h * 0.5), str(data), va='center', ha='center', color='white', weight='bold')  "
   ]
  },
  {
   "cell_type": "markdown",
   "metadata": {},
   "source": [
    "## Going Parallel in Map-style Dataset\n",
    "\n",
    "When training a model, the bottleneck for training speed can often be data loading, rather than the forward/backward pass through the model. There aren’t many benefits to using a GPU if it just spends most of its time sat around waiting for new data to arrive. We have already established that most use-cases for the `IterableDataset` rule out caching our entire dataset in memory, so we will instead look towards data loading in parallel as a potential solution for this.\n",
    "\n",
    "The good news is that Pytorch makes parallel data loading very easy. All you have to do is increase `num_workers` on your DataLoader object! The not so good news is that there are some caveats which must be considered when calling an `IterableDataset` in parallel to ensure that the data you return is what you are expecting.\n",
    "\n",
    "To explore this let’s go back to basics and revisit a simple map-style `Dataset` and `IterableDataset`, ignoring our earlier modifications for creating sequential streams. Rather than returning our data points, our datasets now time how long it takes to load each data point, as well as returning the id of the parallel worker that executed the task. We have inserted a constant delay into each dataset call to simulate loading a data point. We then plot a timeline which also includes a simulated pass through our model to illustrate the requirement for parallel loading.\n",
    "\n",
    "Here are the timelines for loading our map-style dataset with zero, one and two workers."
   ]
  },
  {
   "cell_type": "code",
   "execution_count": 7,
   "metadata": {},
   "outputs": [],
   "source": [
    "import torch.utils.data as data\n",
    "class MyMapDataset(data.Dataset): \n",
    "    def __init__(self, data):\n",
    "        self.data = data\n",
    "    def __getitem__(self, index):\n",
    "        worker = torch.utils.data.get_worker_info()\n",
    "        worker_id = worker.id if worker is not None else -1\n",
    "        start = time.time()\n",
    "        time.sleep(0.1)\n",
    "        end = time.time()\n",
    "        return self.data[index], worker_id, start, end\n",
    "\n",
    "    def __len__(self):\n",
    "        return len(self.data)\n",
    "    \n",
    "my_data = range(0, 17)\n",
    "map_dataset = MyMapDataset(my_data)\n",
    "my_batch_size = 4"
   ]
  },
  {
   "cell_type": "code",
   "execution_count": 8,
   "metadata": {},
   "outputs": [
    {
     "name": "stdout",
     "output_type": "stream",
     "text": [
      "[***] map-style dataset with 0 workers\n"
     ]
    },
    {
     "data": {
      "image/png": "[encoded data removed]",
      "text/plain": [
       "<Figure size 1152x36 with 1 Axes>"
      ]
     },
     "metadata": {},
     "output_type": "display_data"
    }
   ],
   "source": [
    "my_num_workers = 0\n",
    "print ('[***] map-style dataset with %d workers' % my_num_workers)\n",
    "loader = DataLoader(map_dataset, batch_size = my_batch_size, num_workers = my_num_workers)\n",
    "plot_timings(loader, model_time=0.2, n_batches=my_batch_size)"
   ]
  },
  {
   "cell_type": "code",
   "execution_count": 9,
   "metadata": {},
   "outputs": [
    {
     "name": "stdout",
     "output_type": "stream",
     "text": [
      "[***] map-style dataset with 1 workers\n"
     ]
    },
    {
     "data": {
      "image/png": "[encoded data removed]",
      "text/plain": [
       "<Figure size 1152x72 with 1 Axes>"
      ]
     },
     "metadata": {},
     "output_type": "display_data"
    }
   ],
   "source": [
    "my_num_workers = 1\n",
    "print ('[***] map-style dataset with %d workers' % my_num_workers)\n",
    "loader = DataLoader(map_dataset, batch_size = my_batch_size, num_workers = my_num_workers)\n",
    "plot_timings(loader, model_time=0.2, n_batches=my_batch_size)"
   ]
  },
  {
   "cell_type": "code",
   "execution_count": 10,
   "metadata": {},
   "outputs": [
    {
     "name": "stdout",
     "output_type": "stream",
     "text": [
      "[***] map-style dataset with 2 workers\n"
     ]
    },
    {
     "data": {
      "image/png": "[encoded data removed]",
      "text/plain": [
       "<Figure size 1152x108 with 1 Axes>"
      ]
     },
     "metadata": {},
     "output_type": "display_data"
    }
   ],
   "source": [
    "my_num_workers = 2\n",
    "print ('[***] map-style dataset with %d workers' % my_num_workers)\n",
    "loader = DataLoader(map_dataset, batch_size = my_batch_size, num_workers = my_num_workers)\n",
    "plot_timings(loader, model_time=0.2, n_batches=my_batch_size)"
   ]
  },
  {
   "cell_type": "markdown",
   "metadata": {},
   "source": [
    "The bottom row in each timeline represents the main Python process. Every other row shows a single subprocess (`parallel worker`). The red boxes show timings for the model forward/backwards pass while the blue boxes show timings for loading a single datapoint. Numbers inside boxes show the datapoint that was loaded, or in the case of the model, the datapoints that contributed to that batch.\n",
    "\n",
    "We can see that with `num_workers=0`, the main process takes charge of both the model pass and the data loading. Execution is completely in series with the model pass having to finish before data loading can continue.\n",
    "\n",
    "With `num_workers=1` we now have a separate process which is purely responsible for data loading. This allows us to start loading the next batch whilst the current batch is processed through the model. Note also that there is a slight delay at the start of processing due to the setup time incurred by the worker.\n",
    "\n",
    "With one worker the model still has waiting time, but this is solved by `setting num_workers=2`. This guarantees that we have enough data loaded and waiting each time the model is ready to receive a batch. Once this state has been achieved, there is no real benefit to further increase the number of workers. In any case, PyTorch will only pre-fetch up to two batches per worker. Once the data queue is saturated the workers will now be in a situation where they are waiting."
   ]
  },
  {
   "cell_type": "markdown",
   "metadata": {},
   "source": [
    "## Going Parallel in IterableDataset\n",
    "\n",
    "We will now replicate these results this time using the IterableDataset."
   ]
  },
  {
   "cell_type": "code",
   "execution_count": 11,
   "metadata": {},
   "outputs": [
    {
     "name": "stdout",
     "output_type": "stream",
     "text": [
      "[***] map-style dataset with 0 workers\n"
     ]
    },
    {
     "data": {
      "image/png": "[encoded data removed]",
      "text/plain": [
       "<Figure size 1152x36 with 1 Axes>"
      ]
     },
     "metadata": {},
     "output_type": "display_data"
    }
   ],
   "source": [
    "import torch.utils.data as data\n",
    "\n",
    "class MyIterableDatasetV4(data.IterableDataset): \n",
    "    def __init__(self, data):\n",
    "        self.data = data\n",
    "    def __iter__(self):\n",
    "        for x in self.data:\n",
    "            worker = data.get_worker_info()\n",
    "            worker_id = worker.id if worker is not None else -1\n",
    "            \n",
    "            start = time.time()\n",
    "            time.sleep(0.1)\n",
    "            end = time.time()\n",
    "            \n",
    "            yield x, worker_id, start, end\n",
    "\n",
    "my_data = range(0, 17)\n",
    "iterable_dataset = MyIterableDatasetV4(my_data)\n",
    "my_batch_size = 4\n",
    "\n",
    "my_num_workers = 0\n",
    "print ('[***] map-style dataset with %d workers' % my_num_workers)\n",
    "loader = DataLoader(iterable_dataset, batch_size = my_batch_size, num_workers = my_num_workers)\n",
    "plot_timings(loader, model_time=0.2, n_batches=my_batch_size)"
   ]
  },
  {
   "cell_type": "code",
   "execution_count": 12,
   "metadata": {},
   "outputs": [
    {
     "name": "stdout",
     "output_type": "stream",
     "text": [
      "[***] map-style dataset with 1 workers\n"
     ]
    },
    {
     "data": {
      "image/png": "[encoded data removed]",
      "text/plain": [
       "<Figure size 1152x72 with 1 Axes>"
      ]
     },
     "metadata": {},
     "output_type": "display_data"
    }
   ],
   "source": [
    "my_num_workers = 1\n",
    "print ('[***] map-style dataset with %d workers' % my_num_workers)\n",
    "loader = DataLoader(iterable_dataset, batch_size = my_batch_size, num_workers = my_num_workers)\n",
    "plot_timings(loader, model_time=0.2, n_batches=my_batch_size)"
   ]
  },
  {
   "cell_type": "markdown",
   "metadata": {},
   "source": [
    "With zero or one worker, we get the same result as the map-style dataset but look at what happens when we use two workers."
   ]
  },
  {
   "cell_type": "code",
   "execution_count": 13,
   "metadata": {},
   "outputs": [
    {
     "name": "stdout",
     "output_type": "stream",
     "text": [
      "[***] map-style dataset with 2 workers\n"
     ]
    },
    {
     "data": {
      "image/png": "[encoded data removed]",
      "text/plain": [
       "<Figure size 1152x108 with 1 Axes>"
      ]
     },
     "metadata": {},
     "output_type": "display_data"
    }
   ],
   "source": [
    "my_num_workers = 2\n",
    "print ('[***] map-style dataset with %d workers' % my_num_workers)\n",
    "loader = DataLoader(iterable_dataset, batch_size = my_batch_size, num_workers = my_num_workers)\n",
    "plot_timings(loader, model_time=0.2, n_batches=my_batch_size)"
   ]
  },
  {
   "cell_type": "markdown",
   "metadata": {},
   "source": [
    "### Using worker_init_fn to avoid duplicate data loading\n",
    "\n",
    "We are now returning `duplicate data` across our batches! The reason for this is that: \n",
    "> when each worker is initialised it receives a copy of the dataset. In the case of the map-style dataset, this is not an issue as the object is stateless and the data to be retrieved is defined by `index` samples sent to each worker. \n",
    "\n",
    "However, when using `IterableDataset` each worker iterates over its own separate object which results in a duplicated output. This issue is highlighted in the PyTorch docs and the proposed solution is to add a `worker_init_fn` telling each worker to only process a subset of the data.\n",
    "\n",
    "We can see a simple example below which divides our data across workers."
   ]
  },
  {
   "cell_type": "code",
   "execution_count": 14,
   "metadata": {},
   "outputs": [],
   "source": [
    "# Define a `worker_init_fn` that configures each dataset copy differently\n",
    "def my_worker_init_fn(unsed_arg):\n",
    "    worker_info = torch.utils.data.get_worker_info()\n",
    "    cur_dataset = worker_info.dataset  # the dataset copy in this worker process\n",
    "    worker_id = worker_info.id\n",
    "    # configure the dataset to only process the split workload\n",
    "    split_size = len(cur_dataset.data) // worker_info.num_workers\n",
    "    #print ('split_size = ', split_size)\n",
    "    cur_dataset.data = cur_dataset.data[worker_id*split_size : (worker_id + 1)*split_size]"
   ]
  },
  {
   "cell_type": "code",
   "execution_count": 15,
   "metadata": {},
   "outputs": [
    {
     "name": "stdout",
     "output_type": "stream",
     "text": [
      "[***] map-style dataset with 2 workers\n"
     ]
    },
    {
     "data": {
      "image/png": "[encoded data removed]",
      "text/plain": [
       "<Figure size 1152x108 with 1 Axes>"
      ]
     },
     "metadata": {},
     "output_type": "display_data"
    }
   ],
   "source": [
    "my_data2 = range(0, 32)\n",
    "iterable_dataset2 = MyIterableDatasetV4(my_data2)\n",
    "my_batch_size = 4\n",
    "\n",
    "my_num_workers = 2\n",
    "print ('[***] map-style dataset with %d workers' % my_num_workers)\n",
    "loader = DataLoader(iterable_dataset2, batch_size = my_batch_size, num_workers = my_num_workers,\n",
    "                   worker_init_fn = my_worker_init_fn)\n",
    "\n",
    "plot_timings(loader, model_time=0.2, n_batches=my_batch_size)"
   ]
  },
  {
   "cell_type": "code",
   "execution_count": 16,
   "metadata": {},
   "outputs": [
    {
     "name": "stdout",
     "output_type": "stream",
     "text": [
      "[***] map-style dataset with 4 workers\n"
     ]
    },
    {
     "data": {
      "image/png": "[encoded data removed]",
      "text/plain": [
       "<Figure size 1152x180 with 1 Axes>"
      ]
     },
     "metadata": {},
     "output_type": "display_data"
    }
   ],
   "source": [
    "my_num_workers = 4\n",
    "print ('[***] map-style dataset with %d workers' % my_num_workers)\n",
    "\n",
    "loader = DataLoader(iterable_dataset2, batch_size = my_batch_size, num_workers = my_num_workers,\n",
    "                   worker_init_fn = my_worker_init_fn)\n",
    "\n",
    "plot_timings(loader, model_time=0.2, n_batches=my_batch_size)"
   ]
  },
  {
   "cell_type": "markdown",
   "metadata": {},
   "source": [
    "Note the order in which the data is returned: workers alternate in returning a single, entire batch. PyTorch guarantees this `cyclic` behaviour and we can view the outstanding tasks directly by inspecting the `task_info` dictionary. Each key represents the `ordered` task id and its corresponding value is the worker which will carry out that task."
   ]
  },
  {
   "cell_type": "code",
   "execution_count": 17,
   "metadata": {},
   "outputs": [
    {
     "name": "stdout",
     "output_type": "stream",
     "text": [
      "--------------------\n",
      "{0: (0,), 1: (1,), 2: (2,), 3: (3,), 4: (0,), 5: (1,), 6: (2,), 7: (3,)}\n"
     ]
    }
   ],
   "source": [
    "print (\"-\"*20)\n",
    "print(iter(loader).task_info)"
   ]
  },
  {
   "cell_type": "markdown",
   "metadata": {},
   "source": [
    "Using this knowledge, we will now re-implement our “sequential” IterableDataset which we defined in the previous section and test that is it suitable for parallel execution."
   ]
  },
  {
   "cell_type": "code",
   "execution_count": 18,
   "metadata": {},
   "outputs": [],
   "source": [
    "import random\n",
    "from itertools import chain, cycle\n",
    "import torch.utils.data as data\n",
    "\n",
    "class MyIterableDatasetV5(data.IterableDataset):\n",
    "    def __init__(self, data_list, batch_size):\n",
    "        self.data_list = data_list\n",
    "        self.batch_size = batch_size\n",
    "    \n",
    "    @property\n",
    "    def shuffled_data_list(self):\n",
    "        return random.sample(self.data_list, len(self.data_list))\n",
    "    \n",
    "    def process_data(self, my_data):\n",
    "        for x in my_data:\n",
    "            worker = data.get_worker_info()\n",
    "            worker_id = worker.id if worker is not None else -1\n",
    "            \n",
    "            start = time.time()\n",
    "            time.sleep(0.1)\n",
    "            end = time.time()\n",
    "            \n",
    "            yield x, worker_id, start, end\n",
    "            \n",
    "    def get_stream(self, data_list):\n",
    "        return chain.from_iterable(map(self.process_data, cycle(data_list)))\n",
    "    \n",
    "    def get_streams(self):\n",
    "        return zip(*[self.get_stream(self.shuffled_data_list) for _ in range(0, self.batch_size)])\n",
    "    \n",
    "    def __iter__(self):\n",
    "        return self.get_streams()"
   ]
  },
  {
   "cell_type": "code",
   "execution_count": 19,
   "metadata": {},
   "outputs": [
    {
     "name": "stdout",
     "output_type": "stream",
     "text": [
      "--------------------\n"
     ]
    },
    {
     "data": {
      "image/png": "[encoded data removed]",
      "text/plain": [
       "<Figure size 1152x108 with 1 Axes>"
      ]
     },
     "metadata": {},
     "output_type": "display_data"
    }
   ],
   "source": [
    "my_data_list = [[10, 11, 12, 13],\n",
    "                [20, 21, 22, 23],\n",
    "                [30, 31, 32, 33],\n",
    "                [40, 41, 42, 43],\n",
    "                [50, 51, 52, 53],\n",
    "                [60, 61, 62, 63],\n",
    "                [70, 71, 72, 73],\n",
    "                [80, 81, 82, 83],\n",
    "                [90, 91, 92, 93],\n",
    "               ]\n",
    "\n",
    "my_batch_size = 4\n",
    "my_num_workers = 2\n",
    "iterable_dataset = MyIterableDatasetV5(my_data_list, batch_size = my_batch_size)\n",
    "loader = DataLoader(iterable_dataset, batch_size=None, num_workers=my_num_workers)\n",
    "print (\"-\"*20)\n",
    "#print(iter(loader).task_info)\n",
    "plot_timings(loader, model_time=0.2, n_batches = my_batch_size)"
   ]
  },
  {
   "cell_type": "markdown",
   "metadata": {},
   "source": [
    "Our shuffled streams have implicitly solved the issue of duplicate batches, as each worker now has its own random seed. However, this does not help our sequential model which requires that `consecutive` batches return contiguous items from each stream. We need each worker to be operating on the same streams but at a different `offset` so that the returned data is interleaved and in the correct order. One approach to this solution is to fix the random seed of our workers and slice our streams with an offset equal to the number of workers. We can implement this change by modifying the `__iter__` method of our class."
   ]
  },
  {
   "cell_type": "code",
   "execution_count": 20,
   "metadata": {},
   "outputs": [],
   "source": [
    "import random\n",
    "from itertools import chain, cycle\n",
    "import torch.utils.data as data\n",
    "\n",
    "class MyIterableDatasetV6(data.IterableDataset):\n",
    "    def __init__(self, data_list, batch_size):\n",
    "        self.data_list = data_list\n",
    "        self.batch_size = batch_size\n",
    "    \n",
    "    @property\n",
    "    def shuffled_data_list(self):\n",
    "        return random.sample(self.data_list, len(self.data_list))\n",
    "    \n",
    "    def process_data(self, my_data):\n",
    "        for x in my_data:\n",
    "            worker = data.get_worker_info()\n",
    "            worker_id = worker.id if worker is not None else -1\n",
    "            \n",
    "            start = time.time()\n",
    "            time.sleep(0.1)\n",
    "            end = time.time()\n",
    "            \n",
    "            yield x, worker_id, start, end\n",
    "            \n",
    "    def get_stream(self, data_list):\n",
    "        return chain.from_iterable(map(self.process_data, cycle(data_list)))\n",
    "    \n",
    "    def get_streams(self):\n",
    "        return zip(*[self.get_stream(self.shuffled_data_list) for _ in range(0, self.batch_size)])\n",
    "    \n",
    "    def __iter__(self):\n",
    "        worker_info = data.get_worker_info()\n",
    "        cur_data = worker_info.dataset\n",
    "        worker_id = worker_info.id\n",
    "        n_workers = worker_info.num_workers\n",
    "        random.seed(1234)\n",
    "        return islice(self.get_streams(), worker_id, None, n_workers)"
   ]
  },
  {
   "cell_type": "code",
   "execution_count": 21,
   "metadata": {},
   "outputs": [
    {
     "name": "stdout",
     "output_type": "stream",
     "text": [
      "--------------------\n"
     ]
    },
    {
     "data": {
      "image/png": "[encoded data removed]",
      "text/plain": [
       "<Figure size 1152x108 with 1 Axes>"
      ]
     },
     "metadata": {},
     "output_type": "display_data"
    }
   ],
   "source": [
    "my_data_list = [[10, 11, 12, 13],\n",
    "                [20, 21, 22, 23],\n",
    "                [30, 31, 32, 33],\n",
    "                [40, 41, 42, 43],\n",
    "                [50, 51, 52, 53],\n",
    "                [60, 61, 62, 63],\n",
    "                [70, 71, 72, 73],\n",
    "                [80, 81, 82, 83],\n",
    "                [90, 91, 92, 93],\n",
    "               ]\n",
    "\n",
    "my_batch_size = 4\n",
    "my_num_workers = 2\n",
    "iterable_dataset = MyIterableDatasetV6(my_data_list, batch_size = my_batch_size)\n",
    "loader = DataLoader(iterable_dataset, batch_size=None, num_workers=my_num_workers)\n",
    "print (\"-\"*20)\n",
    "#print(iter(loader).task_info)\n",
    "plot_timings(loader, model_time=0.2, n_batches = my_batch_size)"
   ]
  },
  {
   "cell_type": "markdown",
   "metadata": {},
   "source": [
    "This returns our data in the correct order, with each batch position a continuation of the same sequence from the previous batch. However, parallel performance is lost as `islice` still needs to process each item to increment the iterator for a given worker. In other words, each worker is processing the same data but just returning a subset of it. Herein lies the fundamental problem with `parallelism across batches` with a streaming input. What we actually require is parallelism within batches where each worker is responsible for loading a subset of a single batch."
   ]
  },
  {
   "cell_type": "markdown",
   "metadata": {},
   "source": [
    "## Parallelism Across Batches with a Streaming Input\n",
    "\n",
    "As PyTorch assumes that each parallel worker is returning an entire batch we will have to write our own DataLoader to achieve parallelism within batches. Rather than start from scratch, we can utilise subprocess management and data `pre-fetching` by splitting our batch into subsets, passing each part to a separate PyTorch DataLoader, then zipping the results together."
   ]
  },
  {
   "cell_type": "code",
   "execution_count": 31,
   "metadata": {},
   "outputs": [],
   "source": [
    "class MyIterableDatasetV7(data.IterableDataset):\n",
    "    def __init__(self, data_list, batch_size):\n",
    "        self.data_list = data_list\n",
    "        self.batch_size = batch_size\n",
    "    \n",
    "    @property\n",
    "    def shuffled_data_list(self):\n",
    "        return random.sample(self.data_list, len(self.data_list))\n",
    "    \n",
    "    def process_data(self, mydata):\n",
    "        for x in mydata:\n",
    "            worker = torch.utils.data.get_worker_info()\n",
    "            worker_id = id(self) if worker is not None else -1\n",
    "            \n",
    "            start = time.time()\n",
    "            time.sleep(0.1)\n",
    "            end = time.time()\n",
    "            \n",
    "            yield x, worker_id, start, end\n",
    "            \n",
    "    def get_stream(self, data_list):\n",
    "        return chain.from_iterable(map(self.process_data, cycle(data_list)))\n",
    "    \n",
    "    def get_streams(self):\n",
    "        return zip(*[self.get_stream(self.shuffled_data_list) for _ in range(self.batch_size)])\n",
    "\n",
    "    def __iter__(self):\n",
    "        return self.get_streams()\n",
    "\n",
    "    @classmethod\n",
    "    def split_datasets(cls, data_list, batch_size, max_workers):\n",
    "        for n in range(max_workers, 0, -1):\n",
    "            if batch_size % n ==0:\n",
    "                num_workers = n\n",
    "                break\n",
    "        \n",
    "        split_size = batch_size // num_workers\n",
    "        return [cls(data_list, batch_size=split_size) for _ in range(0, num_workers)]\n",
    "\n",
    "class multiStreamDataLoader:\n",
    "    def __init__(self, datasets):\n",
    "        self.datasets = datasets\n",
    "    def get_stream_loaders(self):\n",
    "        return zip(*[torch.utils.data.DataLoader(dataset, num_workers=1, batch_size=None) for dataset in self.datasets])\n",
    "    def __iter__(self):\n",
    "        for batch_parts in self.get_stream_loaders():\n",
    "            yield list(chain(* batch_parts))"
   ]
  },
  {
   "cell_type": "markdown",
   "metadata": {},
   "source": [
    "Our new DataLoader now accepts multiple datasets as input and creates a corresponding DataLoader with exactly one worker. The only modification we have made to our original dataset is to add a factory method which `instantiates` multiple datasets, each contributing to part of a batch which is passed as input to our DataLoader. Note that rather than defining an absolute number of workers we now set a maximum number of workers and adjust the number of datasets we return accordingly. If our number of workers is not evenly divisible by batch size the workers will receive unbalanced loads. Whilst this is not really a problem, the additional workers are effectively redundant as we require all parts to be processed before returning a batch and so `max_workers` accounts for this by only using as many workers as will provide benefit.\n",
    "\n",
    "Here is an example which utilises a single worker to build the entire batch."
   ]
  },
  {
   "cell_type": "code",
   "execution_count": 34,
   "metadata": {},
   "outputs": [
    {
     "data": {
      "image/png": "[encoded data removed]",
      "text/plain": [
       "<Figure size 1152x72 with 1 Axes>"
      ]
     },
     "metadata": {},
     "output_type": "display_data"
    }
   ],
   "source": [
    "tmp_data_list = [\n",
    "                [0, 1, 2, 3],\n",
    "                [10, 11, 12, 13],\n",
    "                [20, 21, 22, 23],\n",
    "                [30, 31, 32, 33],\n",
    "                [40, 41, 42, 43],\n",
    "                [50, 51, 52, 53],\n",
    "                [60, 61, 62, 63],\n",
    "                [70, 71, 72, 73],\n",
    "                [80, 81, 82, 83],\n",
    "                [90, 91, 92, 93],\n",
    "               ]\n",
    "\n",
    "my_batch_size = 4\n",
    "my_num_workers = 2\n",
    "dataset_tmp = MyIterableDatasetV7.split_datasets(tmp_data_list, batch_size = my_batch_size, max_workers=1)\n",
    "loader = multiStreamDataLoader(dataset_tmp)\n",
    "plot_timings(loader, model_time=0.2, n_batches = my_batch_size)"
   ]
  },
  {
   "cell_type": "markdown",
   "metadata": {},
   "source": [
    "The order of the data being returned is correct, however, we still have some waiting time for the model. To rectify this, here is an example which uses two workers, where each worker is processing half of each batch. We also increase the `n_batches` returned to illustrate processing of multiple sequences."
   ]
  },
  {
   "cell_type": "code",
   "execution_count": 39,
   "metadata": {},
   "outputs": [
    {
     "name": "stdout",
     "output_type": "stream",
     "text": [
      "[***] iterable dataset with 2 workers\n"
     ]
    },
    {
     "data": {
      "image/png": "[encoded data removed]",
      "text/plain": [
       "<Figure size 1152x108 with 1 Axes>"
      ]
     },
     "metadata": {},
     "output_type": "display_data"
    }
   ],
   "source": [
    "my_data_list = [\n",
    "    [10, 11, 12, 13, 14, 15],\n",
    "    [20, 21, 22, 23, 24, 25],\n",
    "    [30, 31, 32, 33, 34, 35],\n",
    "    [40, 41, 42, 43, 44, 45],\n",
    "    [50, 51, 52, 53, 54, 55],\n",
    "    [60, 61, 62, 63, 64, 65],\n",
    "    [70, 71, 72, 73, 74, 75],\n",
    "    [80, 81, 82, 83, 84, 85],\n",
    "    [90, 91, 92, 93, 94, 95],\n",
    "]\n",
    "\n",
    "my_batch_size = 4\n",
    "my_num_workers = 2\n",
    "print ('[***] iterable dataset with %d workers' % my_num_workers)\n",
    "dataset_tmp = MyIterableDatasetV7.split_datasets(my_data_list, batch_size = my_batch_size, max_workers= my_num_workers)\n",
    "loader = multiStreamDataLoader(dataset_tmp)\n",
    "plot_timings(loader, model_time=0.2, n_batches = 6)"
   ]
  },
  {
   "cell_type": "markdown",
   "metadata": {},
   "source": [
    "Note that as the internal DataLoaders are instantiated in series there is a slight delay in start time for each worker, just as we were seeing previously when a single DataLoader was created. This, in turn, causes a slight delay in returning the very first batch.\n",
    "\n",
    "Lastly, we will show an example with four workers, each processing a single item in each batch, although in this scenario having two workers is actually sufficient as we can see from the previous plot that DataLoaders are queuing sufficient data to avoid waiting times for the model pass."
   ]
  },
  {
   "cell_type": "code",
   "execution_count": 42,
   "metadata": {},
   "outputs": [
    {
     "name": "stdout",
     "output_type": "stream",
     "text": [
      "[***] iterable dataset with 4 workers\n"
     ]
    },
    {
     "data": {
      "image/png": "[encoded data removed]",
      "text/plain": [
       "<Figure size 1152x180 with 1 Axes>"
      ]
     },
     "metadata": {},
     "output_type": "display_data"
    }
   ],
   "source": [
    "my_data_list = [\n",
    "    [10, 11, 12, 13, 14, 15],\n",
    "    [20, 21, 22, 23, 24, 25],\n",
    "    [30, 31, 32, 33, 34, 35],\n",
    "    [40, 41, 42, 43, 44, 45],\n",
    "    [50, 51, 52, 53, 54, 55],\n",
    "    [60, 61, 62, 63, 64, 65],\n",
    "    [70, 71, 72, 73, 74, 75],\n",
    "    [80, 81, 82, 83, 84, 85],\n",
    "]\n",
    "my_batch_size = 4\n",
    "my_num_workers = 4\n",
    "print ('[***] iterable dataset with %d workers' % my_num_workers)\n",
    "dataset_tmp = MyIterableDatasetV7.split_datasets(my_data_list, batch_size = my_batch_size, max_workers= my_num_workers)\n",
    "loader = multiStreamDataLoader(dataset_tmp)\n",
    "plot_timings(loader, model_time=0.2, n_batches = 6)"
   ]
  },
  {
   "cell_type": "markdown",
   "metadata": {},
   "source": [
    "## Note:\n",
    "There is something wrong with the result run in notebook. I would like to show the following result run in my local machine, \n",
    "\n",
    "<img src=\"../files/fig-para-within-batch.png\" alt=\"drawing\" width=\"2500\"/>"
   ]
  },
  {
   "cell_type": "markdown",
   "metadata": {},
   "source": [
    "We again see the ramp-on in timings as each internal DataLoader is created and beyond that, we have full batches being fetched in unison across workers.\n",
    "\n",
    "One final point which should be emphasised is that `parallelism within batches` relies heavily on balanced loads as each batch is only as fast as its slowest worker. This should not be an issue in the streaming scenario as each batch is processing inputs of constant size, but we should be wary of operations that have an irregular overhead. For example, unzipping or downloading an entire file before feeding it into a generator will have a high cost for specific batches. The effects of which are multiplied when working with multiple streams. In these scenarios, incremental unzipping or iterating over a streaming response should be preferred where possible.\n",
    "\n",
    "Hopefully, these examples will help you on your way to building your own streaming dataset in PyTorch!"
   ]
  },
  {
   "cell_type": "markdown",
   "metadata": {},
   "source": [
    "Uploaded the modified code at https://gist.github.com/ccj5351/67e6392200dd9ddcf6f838d326392618."
   ]
  },
  {
   "cell_type": "markdown",
   "metadata": {},
   "source": []
  }
 ],
 "metadata": {
  "kernelspec": {
   "display_name": "Python 3",
   "language": "python",
   "name": "python3"
  },
  "language_info": {
   "codemirror_mode": {
    "name": "ipython",
    "version": 3
   },
   "file_extension": ".py",
   "mimetype": "text/x-python",
   "name": "python",
   "nbconvert_exporter": "python",
   "pygments_lexer": "ipython3",
   "version": "3.7.2"
  }
 },
 "nbformat": 4,
 "nbformat_minor": 4
}
