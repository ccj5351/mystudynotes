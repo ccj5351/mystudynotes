{
 "cells": [
  {
   "cell_type": "markdown",
   "metadata": {},
   "source": [
    "# How to finish float multiplication in Bash"
   ]
  },
  {
   "cell_type": "markdown",
   "metadata": {},
   "source": [
    "```bash\n",
    "SIGMA_S=1.7\n",
    "KERNEL_WIDTH_FLOAT=$(echo |awk \"{ print $SIGMA_S*3+1}\")\n",
    "KERNEL_WIDTH_INT=${KERNEL_WIDTH_FLOAT%.*}\n",
    "SIGMA_V=0.1\n",
    "IS_EMBED='true'\n",
    "#IS_EMBED='false'\n",
    "IS_FREEZE_EMBED='true'\n",
    "K_WIDTH=$(( KERNEL_WIDTH_INT*2 + 1))\n",
    "echo \"Kernek size = $K_WIDTH x $K_WIDTH\"\n",
    "```"
   ]
  },
  {
   "cell_type": "code",
   "execution_count": null,
   "metadata": {},
   "outputs": [],
   "source": []
  }
 ],
 "metadata": {
  "kernelspec": {
   "display_name": "Python 3",
   "language": "python",
   "name": "python3"
  },
  "language_info": {
   "codemirror_mode": {
    "name": "ipython",
    "version": 3
   },
   "file_extension": ".py",
   "mimetype": "text/x-python",
   "name": "python",
   "nbconvert_exporter": "python",
   "pygments_lexer": "ipython3",
   "version": "3.7.2"
  }
 },
 "nbformat": 4,
 "nbformat_minor": 4
}
