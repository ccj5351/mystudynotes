{
 "cells": [
  {
   "cell_type": "markdown",
   "metadata": {
    "colab_type": "text",
    "id": "view-in-github"
   },
   "source": [
    "<a href=\"https://colab.research.google.com/github/ccj5351/studynotes/blob/master/STATIC_QUANTIZATION_WITH_EAGER_MODE_IN_PYTORCH.ipynb\" target=\"_parent\"><img src=\"https://colab.research.google.com/assets/colab-badge.svg\" alt=\"Open In Colab\"/></a>"
   ]
  },
  {
   "cell_type": "markdown",
   "metadata": {
    "id": "DY71rNBy21fA"
   },
   "source": [
    "# STATIC QUANTIZATION WITH EAGER MODE IN PYTORCH\n",
    "\n",
    "> see: https://pytorch.org/tutorials/advanced/static_quantization_tutorial.html  \n",
    "> see: https://leimao.github.io/blog/PyTorch-Quantization-Aware-Training/  "
   ]
  },
  {
   "cell_type": "markdown",
   "metadata": {
    "id": "sqlX8utH9cb3"
   },
   "source": [
    "This tutorial shows how to do post-training static quantization, as well as illustrating two more advanced techniques - per-channel quantization and quantization-aware training - to further improve the model’s accuracy. Note that quantization is currently only supported for CPUs, so we will not be utilizing GPUs / CUDA in this tutorial. By the end of this tutorial, you will see how quantization in PyTorch can result in significant decreases in model size while increasing speed. Furthermore, you’ll see how to easily apply some advanced quantization techniques shown here so that your quantized models take much less of an accuracy hit than they would otherwise. Warning: we use a lot of boilerplate code from other PyTorch repos to, for example, define the MobileNetV2 model architecture, define data loaders, and so on. We of course encourage you to read it; but if you want to get to the quantization features, feel free to skip to the “4. Post-training static quantization” section. We’ll start by doing the necessary imports:"
   ]
  },
  {
   "cell_type": "code",
   "execution_count": 2,
   "metadata": {
    "colab": {
     "base_uri": "https://localhost:8080/"
    },
    "id": "KEcbEKIF3KiQ",
    "outputId": "ffbcf086-acfd-4bc5-a0e4-26a4eb3d4ff4"
   },
   "outputs": [
    {
     "data": {
      "text/plain": [
       "<torch._C.Generator at 0x7f97ddcd2290>"
      ]
     },
     "execution_count": 2,
     "metadata": {},
     "output_type": "execute_result"
    }
   ],
   "source": [
    "import os\n",
    "import sys\n",
    "import time\n",
    "import numpy as np\n",
    "\n",
    "import torch\n",
    "import torch.nn as nn\n",
    "from torch.utils.data import DataLoader\n",
    "\n",
    "import torchvision\n",
    "from torchvision import datasets\n",
    "import torchvision.transforms as transforms\n",
    "\n",
    "# Set up warnings\n",
    "import warnings\n",
    "warnings.filterwarnings(\n",
    "    action='ignore',\n",
    "    category=DeprecationWarning,\n",
    "    module=r'.*'\n",
    ")\n",
    "warnings.filterwarnings(\n",
    "    action='default',\n",
    "    module=r'torch.ao.quantization'\n",
    ")\n",
    "\n",
    "# Specify random seed for repeatable results\n",
    "torch.manual_seed(191009)"
   ]
  },
  {
   "cell_type": "markdown",
   "metadata": {
    "id": "yrzHnGVs3USg"
   },
   "source": [
    "## 1. Model architecture\n",
    "\n",
    "We first define the `MobileNetV2` model architecture, with several notable modifications to enable quantization:\n",
    "\n",
    "- Replacing addition with nn.quantized.FloatFunctional\n",
    "\n",
    "- Insert `QuantStub` and `DeQuantStub` at the beginning and end of the network.\n",
    "\n",
    "- Replace `ReLU6` with `ReLU`\n",
    "\n",
    "Note: this code is taken from [here](https://github.com/pytorch/vision/blob/master/torchvision/models/mobilenet.py)."
   ]
  },
  {
   "cell_type": "code",
   "execution_count": 3,
   "metadata": {
    "id": "W-XhtoJx3tut"
   },
   "outputs": [],
   "source": [
    "from torch.ao.quantization import QuantStub, DeQuantStub\n",
    "\n",
    "def _make_divisible(v, divisor, min_value=None):\n",
    "    \"\"\"\n",
    "    This function is taken from the original tf repo.\n",
    "    It ensures that all layers have a channel number that is divisible by 8\n",
    "    It can be seen here:\n",
    "    https://github.com/tensorflow/models/blob/master/research/slim/nets/mobilenet/mobilenet.py\n",
    "    :param v:\n",
    "    :param divisor:\n",
    "    :param min_value:\n",
    "    :return:\n",
    "    \"\"\"\n",
    "    if min_value is None:\n",
    "        min_value = divisor\n",
    "    new_v = max(min_value, int(v + divisor / 2) // divisor * divisor)\n",
    "    # Make sure that round down does not go down by more than 10%.\n",
    "    if new_v < 0.9 * v:\n",
    "        new_v += divisor\n",
    "    return new_v\n",
    "\n",
    "\n",
    "class ConvBNReLU(nn.Sequential):\n",
    "    def __init__(self, in_planes, out_planes, kernel_size=3, stride=1, groups=1):\n",
    "        padding = (kernel_size - 1) // 2\n",
    "        super(ConvBNReLU, self).__init__(\n",
    "            nn.Conv2d(in_planes, out_planes, kernel_size, stride, padding, groups=groups, bias=False),\n",
    "            nn.BatchNorm2d(out_planes, momentum=0.1),\n",
    "            # Replace with ReLU\n",
    "            nn.ReLU(inplace=False)\n",
    "        )\n",
    "\n",
    "\n",
    "class InvertedResidual(nn.Module):\n",
    "    def __init__(self, inp, oup, stride, expand_ratio):\n",
    "        super(InvertedResidual, self).__init__()\n",
    "        self.stride = stride\n",
    "        assert stride in [1, 2]\n",
    "\n",
    "        hidden_dim = int(round(inp * expand_ratio))\n",
    "        self.use_res_connect = self.stride == 1 and inp == oup\n",
    "\n",
    "        layers = []\n",
    "        if expand_ratio != 1:\n",
    "            # pw\n",
    "            layers.append(ConvBNReLU(inp, hidden_dim, kernel_size=1))\n",
    "        layers.extend([\n",
    "            # dw\n",
    "            ConvBNReLU(hidden_dim, hidden_dim, stride=stride, groups=hidden_dim),\n",
    "            # pw-linear\n",
    "            nn.Conv2d(hidden_dim, oup, 1, 1, 0, bias=False),\n",
    "            nn.BatchNorm2d(oup, momentum=0.1),\n",
    "        ])\n",
    "        self.conv = nn.Sequential(*layers)\n",
    "        # Replace torch.add with floatfunctional\n",
    "        self.skip_add = nn.quantized.FloatFunctional()\n",
    "\n",
    "    def forward(self, x):\n",
    "        if self.use_res_connect:\n",
    "            return self.skip_add.add(x, self.conv(x))\n",
    "        else:\n",
    "            return self.conv(x)\n",
    "\n",
    "\n",
    "class MobileNetV2(nn.Module):\n",
    "    def __init__(self, num_classes=1000, width_mult=1.0, inverted_residual_setting=None, round_nearest=8):\n",
    "        \"\"\"\n",
    "        MobileNet V2 main class\n",
    "        Args:\n",
    "            num_classes (int): Number of classes\n",
    "            width_mult (float): Width multiplier - adjusts number of channels in each layer by this amount\n",
    "            inverted_residual_setting: Network structure\n",
    "            round_nearest (int): Round the number of channels in each layer to be a multiple of this number\n",
    "            Set to 1 to turn off rounding\n",
    "        \"\"\"\n",
    "        super(MobileNetV2, self).__init__()\n",
    "        block = InvertedResidual\n",
    "        input_channel = 32\n",
    "        last_channel = 1280\n",
    "\n",
    "        if inverted_residual_setting is None:\n",
    "            inverted_residual_setting = [\n",
    "                # t, c, n, s\n",
    "                [1, 16, 1, 1],\n",
    "                [6, 24, 2, 2],\n",
    "                [6, 32, 3, 2],\n",
    "                [6, 64, 4, 2],\n",
    "                [6, 96, 3, 1],\n",
    "                [6, 160, 3, 2],\n",
    "                [6, 320, 1, 1],\n",
    "            ]\n",
    "\n",
    "        # only check the first element, assuming user knows t,c,n,s are required\n",
    "        if len(inverted_residual_setting) == 0 or len(inverted_residual_setting[0]) != 4:\n",
    "            raise ValueError(\"inverted_residual_setting should be non-empty \"\n",
    "                             \"or a 4-element list, got {}\".format(inverted_residual_setting))\n",
    "\n",
    "        # building first layer\n",
    "        input_channel = _make_divisible(input_channel * width_mult, round_nearest)\n",
    "        self.last_channel = _make_divisible(last_channel * max(1.0, width_mult), round_nearest)\n",
    "        features = [ConvBNReLU(3, input_channel, stride=2)]\n",
    "        # building inverted residual blocks\n",
    "        for t, c, n, s in inverted_residual_setting:\n",
    "            output_channel = _make_divisible(c * width_mult, round_nearest)\n",
    "            for i in range(n):\n",
    "                stride = s if i == 0 else 1\n",
    "                features.append(block(input_channel, output_channel, stride, expand_ratio=t))\n",
    "                input_channel = output_channel\n",
    "        # building last several layers\n",
    "        features.append(ConvBNReLU(input_channel, self.last_channel, kernel_size=1))\n",
    "        # make it nn.Sequential\n",
    "        self.features = nn.Sequential(*features)\n",
    "        self.quant = QuantStub()\n",
    "        self.dequant = DeQuantStub()\n",
    "        # building classifier\n",
    "        self.classifier = nn.Sequential(\n",
    "            nn.Dropout(0.2),\n",
    "            nn.Linear(self.last_channel, num_classes),\n",
    "        )\n",
    "\n",
    "        # weight initialization\n",
    "        for m in self.modules():\n",
    "            if isinstance(m, nn.Conv2d):\n",
    "                nn.init.kaiming_normal_(m.weight, mode='fan_out')\n",
    "                if m.bias is not None:\n",
    "                    nn.init.zeros_(m.bias)\n",
    "            elif isinstance(m, nn.BatchNorm2d):\n",
    "                nn.init.ones_(m.weight)\n",
    "                nn.init.zeros_(m.bias)\n",
    "            elif isinstance(m, nn.Linear):\n",
    "                nn.init.normal_(m.weight, 0, 0.01)\n",
    "                nn.init.zeros_(m.bias)\n",
    "\n",
    "    def forward(self, x):\n",
    "        x = self.quant(x)\n",
    "        x = self.features(x)\n",
    "        x = x.mean([2, 3])\n",
    "        x = self.classifier(x)\n",
    "        x = self.dequant(x)\n",
    "        return x\n",
    "\n",
    "    # Fuse Conv+BN and Conv+BN+Relu modules prior to quantization\n",
    "    # This operation does not change the numerics\n",
    "    def fuse_model(self):\n",
    "        for m in self.modules():\n",
    "            if type(m) == ConvBNReLU:\n",
    "                torch.ao.quantization.fuse_modules(m, ['0', '1', '2'], inplace=True)\n",
    "            if type(m) == InvertedResidual:\n",
    "                for idx in range(len(m.conv)):\n",
    "                    if type(m.conv[idx]) == nn.Conv2d:\n",
    "                        torch.ao.quantization.fuse_modules(m.conv, [str(idx), str(idx + 1)], inplace=True)"
   ]
  },
  {
   "cell_type": "markdown",
   "metadata": {
    "id": "WXpcl8925qpG"
   },
   "source": [
    "## 2. Helper functions\n",
    "We next define several helper functions to help with model evaluation. These mostly come from [here](https://github.com/pytorch/examples/blob/main/imagenet/main.py)."
   ]
  },
  {
   "cell_type": "code",
   "execution_count": 4,
   "metadata": {
    "id": "Vxa2LGiH52dG"
   },
   "outputs": [],
   "source": [
    "class AverageMeter(object):\n",
    "    \"\"\"Computes and stores the average and current value\"\"\"\n",
    "    def __init__(self, name, fmt=':f'):\n",
    "        self.name = name\n",
    "        self.fmt = fmt\n",
    "        self.reset()\n",
    "\n",
    "    def reset(self):\n",
    "        self.val = 0\n",
    "        self.avg = 0\n",
    "        self.sum = 0\n",
    "        self.count = 0\n",
    "\n",
    "    def update(self, val, n=1):\n",
    "        self.val = val\n",
    "        self.sum += val * n\n",
    "        self.count += n\n",
    "        self.avg = self.sum / self.count\n",
    "\n",
    "    def __str__(self):\n",
    "        fmtstr = '{name} {val' + self.fmt + '} ({avg' + self.fmt + '})'\n",
    "        return fmtstr.format(**self.__dict__)\n",
    "\n",
    "\n",
    "def accuracy(output, target, topk=(1,)):\n",
    "    \"\"\"Computes the accuracy over the k top predictions for the specified values of k\"\"\"\n",
    "    with torch.no_grad():\n",
    "        maxk = max(topk)\n",
    "        batch_size = target.size(0)\n",
    "\n",
    "        _, pred = output.topk(maxk, 1, True, True)\n",
    "        pred = pred.t()\n",
    "        correct = pred.eq(target.view(1, -1).expand_as(pred))\n",
    "\n",
    "        res = []\n",
    "        for k in topk:\n",
    "            correct_k = correct[:k].reshape(-1).float().sum(0, keepdim=True)\n",
    "            res.append(correct_k.mul_(100.0 / batch_size))\n",
    "        return res\n",
    "\n",
    "\n",
    "def evaluate(model, criterion, data_loader, neval_batches):\n",
    "    model.eval()\n",
    "    top1 = AverageMeter('Acc@1', ':6.2f')\n",
    "    top5 = AverageMeter('Acc@5', ':6.2f')\n",
    "    cnt = 0\n",
    "    with torch.no_grad():\n",
    "        for image, target in data_loader:\n",
    "            output = model(image)\n",
    "            loss = criterion(output, target)\n",
    "            cnt += 1\n",
    "            acc1, acc5 = accuracy(output, target, topk=(1, 5))\n",
    "            print('.', end = '')\n",
    "            top1.update(acc1[0], image.size(0))\n",
    "            top5.update(acc5[0], image.size(0))\n",
    "            if cnt >= neval_batches:\n",
    "                 return top1, top5\n",
    "\n",
    "    return top1, top5\n",
    "\n",
    "def load_model(model_file):\n",
    "    model = MobileNetV2()\n",
    "    state_dict = torch.load(model_file)\n",
    "    model.load_state_dict(state_dict)\n",
    "    model.to('cpu')\n",
    "    return model\n",
    "\n",
    "def print_size_of_model(model):\n",
    "    torch.save(model.state_dict(), \"temp.p\")\n",
    "    print('Size (MB):', os.path.getsize(\"temp.p\")/1e6)\n",
    "    os.remove('temp.p')"
   ]
  },
  {
   "cell_type": "markdown",
   "metadata": {
    "id": "mTpCiO54595J"
   },
   "source": [
    "## 3. Define dataset and data loaders\n",
    "As our last major setup step, we define our dataloaders for our training and testing set.\n",
    "\n",
    "### ImageNet Data - You Download it\n",
    "To run the code in this tutorial using the entire ImageNet dataset, first download imagenet by following the instructions at here ImageNet Data. Unzip the downloaded file into the ‘data_path’ folder.\n",
    "\n",
    "With the data downloaded, we show functions below that define dataloaders we’ll use to read in this data. These functions mostly come from [here](https://github.com/pytorch/vision/blob/master/references/detection/train.py).\n",
    "\n",
    "- If running in local Linux machines, make sure download the data to some dir, say `/home/ccj/disk2/imagenet64`.\n",
    "    \n",
    "\n",
    "### ImageNet Data - Connecting Google Drive\n",
    "\n",
    "The full ImageNet dataset has about 14 million images and ~22,000 categories but it is very noisy, imbalanced, and has a number of other issues.\n",
    "\n",
    "The version of ImageNet we'll be using has 1.2 million images and 1,000 classes (known as the competition/2012/ILSVRC2012 version, it is the most common subset to use). It still has lots of issues but it's more practical to train on.\n",
    "\n",
    "For this tutorial we'll use Google Drive to store the dataset and checkpoints of the model during training. Training on ImageNet takes a long time and Colab might restart or we may have issues so it's important to save intermediate versions of our model during training to make sure we don't lose anything.\n",
    "\n",
    "The following commands connect to Google Drive and set up the folder to hold files for this project under the checkpoints variable, you can change the path if you want."
   ]
  },
  {
   "cell_type": "code",
   "execution_count": 5,
   "metadata": {
    "colab": {
     "base_uri": "https://localhost:8080/"
    },
    "id": "pGrFFtfIE0eo",
    "outputId": "975035ed-eea5-45fc-cf2d-8861bcd5b823"
   },
   "outputs": [],
   "source": [
    "if 0: # if running in colab\n",
    "    import os\n",
    "    from google.colab import drive\n",
    "    drive.mount('/content/drive')\n",
    "    checkpoints = '/content/drive/MyDrive/colab_files/imagenet64/'\n",
    "    if not os.path.exists(checkpoints):\n",
    "        os.makedirs(checkpoints)"
   ]
  },
  {
   "cell_type": "markdown",
   "metadata": {
    "id": "GrNO50IpE_CS"
   },
   "source": [
    "### Downloading ImageNet64\n",
    "If you don't have it downloaded already this will download ImageNet to your Google Drive folder, copy it to the local environment, and then extract it."
   ]
  },
  {
   "cell_type": "code",
   "execution_count": 6,
   "metadata": {
    "colab": {
     "base_uri": "https://localhost:8080/"
    },
    "id": "IoxMm8OFFMex",
    "outputId": "f3cc53ec-48d9-4d97-9b76-ffc4dd74628b"
   },
   "outputs": [],
   "source": [
    "if 0:\n",
    "    import os\n",
    "    import shutil\n",
    "    !pwd\n",
    "    if not os.path.exists('imagenet64'):\n",
    "      if not os.path.exists(checkpoints + 'imagenet64.tar'):\n",
    "        print(\"Downloading archive...\")\n",
    "        os.chdir(checkpoints)\n",
    "        !wget https://pjreddie.com/media/files/imagenet64.tar\n",
    "        os.chdir('/content/')\n",
    "      print(\"Copying to local runtime...\")\n",
    "      shutil.copy(checkpoints + 'imagenet64.tar', './imagenet64.tar')\n",
    "      !pwd\n",
    "      print(\"Uncompressing...\")\n",
    "      !tar -xf imagenet64.tar\n",
    "    !ls '/content'\n",
    "    print(\"Data ready!\")"
   ]
  },
  {
   "cell_type": "code",
   "execution_count": 7,
   "metadata": {
    "id": "THrTwyT46YDY"
   },
   "outputs": [],
   "source": [
    "def prepare_data_loaders(data_path, train_batch_size, eval_batch_size):\n",
    "    normalize = transforms.Normalize(mean=[0.485, 0.456, 0.406],\n",
    "                                     std=[0.229, 0.224, 0.225])\n",
    "    dataset = torchvision.datasets.ImageNet(\n",
    "          data_path, split=\"train\", \n",
    "          transform=transforms.Compose([\n",
    "            transforms.RandomResizedCrop(224),\n",
    "            transforms.RandomHorizontalFlip(),\n",
    "            transforms.ToTensor(),\n",
    "            normalize,\n",
    "        ]))\n",
    "    dataset_test = torchvision.datasets.ImageNet(\n",
    "        data_path, split=\"val\", \n",
    "        transform=transforms.Compose([\n",
    "            transforms.Resize(256),\n",
    "            transforms.CenterCrop(224),\n",
    "            transforms.ToTensor(),\n",
    "            normalize,\n",
    "        ]))\n",
    "\n",
    "    train_sampler = torch.utils.data.RandomSampler(dataset)\n",
    "    test_sampler = torch.utils.data.SequentialSampler(dataset_test)\n",
    "\n",
    "    data_loader = torch.utils.data.DataLoader(\n",
    "        dataset, batch_size=train_batch_size,\n",
    "        sampler=train_sampler)\n",
    "\n",
    "    data_loader_test = torch.utils.data.DataLoader(\n",
    "        dataset_test, batch_size=eval_batch_size,\n",
    "        sampler=test_sampler)\n",
    "\n",
    "    return data_loader, data_loader_test"
   ]
  },
  {
   "cell_type": "code",
   "execution_count": 8,
   "metadata": {
    "id": "bNoLlyDUKB8R"
   },
   "outputs": [],
   "source": [
    "def get_imagenet64_data(data_path, train_batch_size, eval_batch_size):\n",
    "  normalize = transforms.Normalize(mean=[0.485, 0.456, 0.406],\n",
    "                                     std=[0.229, 0.224, 0.225])\n",
    "  \n",
    "  # Data augmentation transformations. Not for Testing!\n",
    "  transform_train = transforms.Compose([\n",
    "            transforms.RandomResizedCrop(224),\n",
    "            transforms.RandomHorizontalFlip(),\n",
    "            transforms.ToTensor(),\n",
    "            normalize,\n",
    "        ])\n",
    "\n",
    "  transform_test = transforms.Compose([\n",
    "            transforms.Resize(256),\n",
    "            transforms.CenterCrop(224),\n",
    "            transforms.ToTensor(),\n",
    "            normalize,\n",
    "        ])\n",
    "\n",
    "  trainset = torchvision.datasets.ImageFolder(root= data_path + '/train/', transform=transform_train)\n",
    "  trainloader = torch.utils.data.DataLoader(trainset, batch_size=train_batch_size, shuffle=True, num_workers=2)\n",
    "\n",
    "  testset = torchvision.datasets.ImageFolder(root= data_path + '/val/', transform=transform_test)\n",
    "  testloader = torch.utils.data.DataLoader(testset, batch_size=eval_batch_size, shuffle=False, num_workers=2)\n",
    "\n",
    "  return trainloader, testloader"
   ]
  },
  {
   "cell_type": "markdown",
   "metadata": {
    "id": "-52aQhLm62FH"
   },
   "source": [
    "Next, we’ll load in the pre-trained MobileNetV2 model. We provide the URL to download the model [here](https://download.pytorch.org/models/mobilenet_v2-b0353104.pth)."
   ]
  },
  {
   "cell_type": "code",
   "execution_count": 9,
   "metadata": {
    "colab": {
     "base_uri": "https://localhost:8080/",
     "height": 261
    },
    "id": "STuLnVb0LFI2",
    "outputId": "0cd56cf5-ce79-406e-a0dc-230a95dc8c33"
   },
   "outputs": [],
   "source": [
    "if 0:\n",
    "    !pwd\n",
    "    !wget https://download.pytorch.org/models/mobilenet_v2-b0353104.pth\n",
    "    !ls 'mobilenet_v2-b0353104.pth.1'\n",
    "    if not os.path.exists('./checkpoints'):\n",
    "        os.makedirs('./checkpoints')\n",
    "    shutil.copy('mobilenet_v2-b0353104.pth.1', './checkpoints/mobilenet_pretrained_float.pth')"
   ]
  },
  {
   "cell_type": "code",
   "execution_count": 10,
   "metadata": {
    "colab": {
     "base_uri": "https://localhost:8080/"
    },
    "id": "G5PRvYFP68xB",
    "outputId": "ab026fec-b635-4e27-8363-b7f013a5e7b7"
   },
   "outputs": [
    {
     "name": "stdout",
     "output_type": "stream",
     "text": [
      "\n",
      " Inverted Residual Block: Before fusion \n",
      "\n",
      " Sequential(\n",
      "  (0): ConvBNReLU(\n",
      "    (0): Conv2d(32, 32, kernel_size=(3, 3), stride=(1, 1), padding=(1, 1), groups=32, bias=False)\n",
      "    (1): BatchNorm2d(32, eps=1e-05, momentum=0.1, affine=True, track_running_stats=True)\n",
      "    (2): ReLU()\n",
      "  )\n",
      "  (1): Conv2d(32, 16, kernel_size=(1, 1), stride=(1, 1), bias=False)\n",
      "  (2): BatchNorm2d(16, eps=1e-05, momentum=0.1, affine=True, track_running_stats=True)\n",
      ")\n",
      "\n",
      " Inverted Residual Block: After fusion\n",
      "\n",
      " Sequential(\n",
      "  (0): ConvBNReLU(\n",
      "    (0): ConvReLU2d(\n",
      "      (0): Conv2d(32, 32, kernel_size=(3, 3), stride=(1, 1), padding=(1, 1), groups=32)\n",
      "      (1): ReLU()\n",
      "    )\n",
      "    (1): Identity()\n",
      "    (2): Identity()\n",
      "  )\n",
      "  (1): Conv2d(32, 16, kernel_size=(1, 1), stride=(1, 1))\n",
      "  (2): Identity()\n",
      ")\n"
     ]
    }
   ],
   "source": [
    "#data_path = './imagenet64' # running in Colab;\n",
    "#saved_model_dir = './checkpoints/' # running in Colab;\n",
    "from os.path import join as pjoin\n",
    "data_path = '/home/ccj/disk2/imagenet64'\n",
    "saved_model_dir = '/home/ccj/code/studynotes/model_conversion/checkpoints/' \n",
    "\n",
    "float_model_file = 'mobilenet_pretrained_float.pth'\n",
    "scripted_float_model_file = 'mobilenet_quantization_scripted.pth'\n",
    "scripted_quantized_model_file = 'mobilenet_quantization_scripted_quantized.pth'\n",
    "\n",
    "train_batch_size = 30\n",
    "eval_batch_size = 50\n",
    "\n",
    "data_loader, data_loader_test = get_imagenet64_data(data_path, train_batch_size, eval_batch_size)\n",
    "#data_loader, data_loader_test = prepare_data_loaders(data_path, train_batch_size, eval_batch_size)\n",
    "\n",
    "criterion = nn.CrossEntropyLoss()\n",
    "float_model = load_model( pjoin (saved_model_dir, float_model_file)).to('cpu')\n",
    "\n",
    "# Next, we'll \"fuse modules\"; this can both make the model faster by saving on memory access\n",
    "# while also improving numerical accuracy. While this can be used with any model, this is\n",
    "# especially common with quantized models.\n",
    "\n",
    "print('\\n Inverted Residual Block: Before fusion \\n\\n', float_model.features[1].conv)\n",
    "float_model.eval()\n",
    "\n",
    "# Fuses modules\n",
    "float_model.fuse_model()\n",
    "\n",
    "# Note fusion of Conv+BN+Relu and Conv+Relu\n",
    "print('\\n Inverted Residual Block: After fusion\\n\\n',float_model.features[1].conv)"
   ]
  },
  {
   "cell_type": "markdown",
   "metadata": {
    "id": "X5k_YbUz7jiX"
   },
   "source": [
    "Finally to get a “baseline” accuracy, let’s see the accuracy of our un-quantized model with fused modules:"
   ]
  },
  {
   "cell_type": "code",
   "execution_count": 10,
   "metadata": {
    "colab": {
     "base_uri": "https://localhost:8080/"
    },
    "id": "QWiRQ38C7oYQ",
    "outputId": "d167228e-f332-4822-a65a-5101543d78a0"
   },
   "outputs": [
    {
     "name": "stdout",
     "output_type": "stream",
     "text": [
      "Size of baseline model\n",
      "Size (MB): 13.996525\n",
      "........................................................................................................................................................................................................................................................................................................................................................................................................................................................................................................................................................................................................................................................................................................................................................................................................................................................................................................................................................................................................................................\n",
      "Evaluation accuracy on 50000 images, top1=34.20, top5=59.87\n"
     ]
    }
   ],
   "source": [
    "num_eval_batches = 1000\n",
    "\n",
    "print(\"Size of baseline model\")\n",
    "print_size_of_model(float_model)\n",
    "\n",
    "top1, top5 = evaluate(float_model, criterion, data_loader_test, neval_batches=num_eval_batches)\n",
    "\n",
    "print('\\nEvaluation accuracy on %d images, top1=%2.2f, top5=%2.2f'%(num_eval_batches * eval_batch_size, top1.avg, top5.avg))\n",
    "torch.jit.save(torch.jit.script(float_model), saved_model_dir + scripted_float_model_file)"
   ]
  },
  {
   "cell_type": "markdown",
   "metadata": {
    "id": "zLh2tZ0I7tIr"
   },
   "source": [
    "On the entire model, we get an accuracy of `71.9%` (here we just got top5=59.87) on the eval dataset of 50,000 images.\n",
    "\n",
    "This will be our baseline to compare to. Next, let’s try different quantization methods"
   ]
  },
  {
   "cell_type": "markdown",
   "metadata": {
    "id": "lO710RQ77zCB"
   },
   "source": [
    "## 4. Post-training static quantization\n",
    "\n",
    "Post-training static quantization involves not just converting the weights from float to int, as in dynamic quantization, but also performing the additional step of first feeding batches of data through the network and computing the resulting distributions of the different activations (specifically, this is done by inserting observer modules at different points that record this data). These distributions are then used to determine how specifically the different activations should be quantized at inference time (a simple technique would be to simply divide the entire range of activations into 256 levels, but we support more sophisticated methods as well). Importantly, this additional step allows us to `pass quantized values between operations` instead of converting these values to floats - and then back to ints - between every operation, resulting in a significant speed-up."
   ]
  },
  {
   "cell_type": "code",
   "execution_count": 15,
   "metadata": {
    "id": "57-tC_Jb8bJT"
   },
   "outputs": [
    {
     "name": "stdout",
     "output_type": "stream",
     "text": [
      "default_qconfig myModel.qconfig =  QConfig(activation=functools.partial(<class 'torch.ao.quantization.observer.MinMaxObserver'>, quant_min=0, quant_max=127){}, weight=functools.partial(<class 'torch.ao.quantization.observer.MinMaxObserver'>, dtype=torch.qint8, qscheme=torch.per_tensor_symmetric){})\n",
      "\n",
      "Post Training Quantization Prepare: Inserting Observers\n",
      "Inverted Residual Block:After observer insertion \n",
      "\n",
      " Sequential(\n",
      "  (0): ConvBNReLU(\n",
      "    (0): ConvReLU2d(\n",
      "      (0): Conv2d(32, 32, kernel_size=(3, 3), stride=(1, 1), padding=(1, 1), groups=32)\n",
      "      (1): ReLU()\n",
      "      (activation_post_process): MinMaxObserver(min_val=inf, max_val=-inf)\n",
      "    )\n",
      "    (1): Identity()\n",
      "    (2): Identity()\n",
      "  )\n",
      "  (1): Conv2d(\n",
      "    32, 16, kernel_size=(1, 1), stride=(1, 1)\n",
      "    (activation_post_process): MinMaxObserver(min_val=inf, max_val=-inf)\n",
      "  )\n",
      "  (2): Identity()\n",
      ")\n",
      "................................\n",
      " Post Training Quantization: Calibration done\n",
      "Post Training Quantization: Convert done\n",
      "\n",
      " Inverted Residual Block: After fusion and quantization, note fused modules: \n",
      "\n",
      " Sequential(\n",
      "  (0): ConvBNReLU(\n",
      "    (0): QuantizedConvReLU2d(32, 32, kernel_size=(3, 3), stride=(1, 1), scale=0.08880201727151871, zero_point=0, padding=(1, 1), groups=32)\n",
      "    (1): Identity()\n",
      "    (2): Identity()\n",
      "  )\n",
      "  (1): QuantizedConv2d(32, 16, kernel_size=(1, 1), stride=(1, 1), scale=0.11746250838041306, zero_point=68)\n",
      "  (2): Identity()\n",
      ")\n",
      "Size of model after quantization\n",
      "Size (MB): 3.627281\n",
      "........................................................................................................................................................................................................................................................................................................................................................................................................................................................................................................................................................................................................................................................................................................................................................................................................................................................................................................................................................................................................................................Evaluation accuracy on 50000 images, top1=23.55, top5=45.77\n"
     ]
    }
   ],
   "source": [
    "num_calibration_batches = 32\n",
    "\n",
    "myModel = load_model(\n",
    "    pjoin(saved_model_dir, float_model_file)).to('cpu')\n",
    "myModel.eval()\n",
    "\n",
    "# Fuse Conv, bn and relu\n",
    "myModel.fuse_model()\n",
    "\n",
    "# Specify quantization configuration\n",
    "# Start with simple min/max range estimation and per-tensor quantization of weights\n",
    "myModel.qconfig = torch.ao.quantization.default_qconfig\n",
    "print(\"default_qconfig myModel.qconfig = \", myModel.qconfig)\n",
    "torch.ao.quantization.prepare(myModel, inplace=True)\n",
    "\n",
    "# Calibrate first\n",
    "print('\\nPost Training Quantization Prepare: Inserting Observers')\n",
    "print('Inverted Residual Block:After observer insertion \\n\\n', myModel.features[1].conv)\n",
    "\n",
    "# Calibrate with the training set\n",
    "evaluate(myModel, criterion, data_loader, neval_batches=num_calibration_batches)\n",
    "print('\\n Post Training Quantization: Calibration done')\n",
    "\n",
    "# Convert to quantized model\n",
    "torch.ao.quantization.convert(myModel, inplace=True)\n",
    "print('Post Training Quantization: Convert done')\n",
    "print('\\n Inverted Residual Block: After fusion and quantization, note fused modules: \\n\\n',myModel.features[1].conv)\n",
    "\n",
    "print(\"Size of model after quantization\")\n",
    "print_size_of_model(myModel)\n",
    "\n",
    "top1, top5 = evaluate(myModel, criterion, data_loader_test, neval_batches=num_eval_batches)\n",
    "print('Evaluation accuracy on %d images, top1=%2.2f, top5=%2.2f'%(num_eval_batches * eval_batch_size, top1.avg, top5.avg))"
   ]
  },
  {
   "cell_type": "markdown",
   "metadata": {
    "id": "MqVuslx48ewC"
   },
   "source": [
    "For this quantized model, we see an accuracy of 56.7% (here we got top5=45.77) on the eval dataset. This is because we used a simple min/max observer to determine quantization parameters. Nevertheless, we did reduce the size of our model down to just under 3.6 MB, almost a 4x decrease.\n",
    "\n",
    "In addition, we can significantly improve on the accuracy simply by using a different quantization configuration. We repeat the same exercise with the recommended configuration for quantizing for x86 architectures. This configuration does the following:\n",
    "\n",
    "- Quantizes weights on a per-channel basis\n",
    "\n",
    "- Uses a histogram observer that collects a histogram of activations and then picks quantization parameters in an optimal manner."
   ]
  },
  {
   "cell_type": "code",
   "execution_count": 16,
   "metadata": {
    "id": "TEMGeRxK8jRa"
   },
   "outputs": [
    {
     "name": "stdout",
     "output_type": "stream",
     "text": [
      "x86 default_qconfig QConfig(activation=functools.partial(<class 'torch.ao.quantization.observer.MinMaxObserver'>, quant_min=0, quant_max=127){}, weight=functools.partial(<class 'torch.ao.quantization.observer.MinMaxObserver'>, dtype=torch.qint8, qscheme=torch.per_tensor_symmetric){})\n",
      "........................................................................................................................................................................................................................................................................................................................................................................................................................................................................................................................................................................................................................................................................................................................................................................................................................................................................................................................................................................................................................................................................Evaluation accuracy on 50000 images, top1=24.70, top5=46.96\n"
     ]
    }
   ],
   "source": [
    "per_channel_quantized_model = load_model( pjoin(saved_model_dir, float_model_file) )\n",
    "per_channel_quantized_model.eval()\n",
    "per_channel_quantized_model.fuse_model()\n",
    "# The old 'fbgemm' is still available but 'x86' is the recommended default.\n",
    "per_channel_quantized_model.qconfig = torch.ao.quantization.get_default_qconfig('x86')\n",
    "print(\"x86 default_qconfig\", per_channel_quantized_model.qconfig)\n",
    "\n",
    "torch.ao.quantization.prepare(per_channel_quantized_model, inplace=True)\n",
    "evaluate(per_channel_quantized_model,criterion, data_loader, num_calibration_batches)\n",
    "torch.ao.quantization.convert(per_channel_quantized_model, inplace=True)\n",
    "\n",
    "top1, top5 = evaluate(per_channel_quantized_model, criterion, data_loader_test, neval_batches=num_eval_batches)\n",
    "print('Evaluation accuracy on %d images, top1=%2.2f, top5=%2.2f'%(num_eval_batches * eval_batch_size, top1.avg, top5.avg))\n",
    "torch.jit.save(torch.jit.script(per_channel_quantized_model), saved_model_dir + scripted_quantized_model_file)"
   ]
  },
  {
   "cell_type": "markdown",
   "metadata": {
    "id": "g_pZl2xr8kGy"
   },
   "source": [
    "Changing just this quantization configuration method resulted in an increase of the accuracy to over 67.3%! Still, this is 4% worse than the baseline of 71.9% achieved above. So lets try quantization aware training."
   ]
  },
  {
   "cell_type": "markdown",
   "metadata": {
    "id": "qNlTd-hJ8nHS"
   },
   "source": [
    "## 5. Quantization-aware training\n",
    "Quantization-aware training (QAT) is the quantization method that typically results in the highest accuracy. With QAT, all weights and activations are “fake quantized” during both the forward and backward passes of training: that is, float values are rounded to mimic int8 values, but all computations are still done with floating point numbers. Thus, all the weight adjustments during training are made while `“aware”` of the fact that the model will ultimately be quantized; after quantizing, therefore, this method will usually yield higher accuracy than either dynamic quantization or post-training static quantization.\n",
    "\n",
    "The overall workflow for actually performing QAT is very similar to before:\n",
    "\n",
    "- We can use the same model as before: there is no additional preparation needed for quantization-aware training.\n",
    "\n",
    "- We need to use a `qconfig` specifying what kind of `fake-quantization` is to be inserted after weights and activations, instead of specifying observers.\n",
    "\n",
    "We first define a training function:"
   ]
  },
  {
   "cell_type": "code",
   "execution_count": 16,
   "metadata": {
    "id": "Nyz0SpcO8rbz"
   },
   "outputs": [],
   "source": [
    "def train_one_epoch(model, criterion, optimizer, data_loader, device, ntrain_batches):\n",
    "    model.to(device)\n",
    "    model.train()\n",
    "    top1 = AverageMeter('Acc@1', ':6.2f')\n",
    "    top5 = AverageMeter('Acc@5', ':6.2f')\n",
    "    avgloss = AverageMeter('Loss', '1.5f')\n",
    "\n",
    "    cnt = 0\n",
    "    for image, target in data_loader:\n",
    "        start_time = time.time()\n",
    "        print('.', end = '')\n",
    "        cnt += 1\n",
    "        image, target = image.to(device), target.to(device)\n",
    "        output = model(image)\n",
    "        loss = criterion(output, target)\n",
    "        optimizer.zero_grad()\n",
    "        loss.backward()\n",
    "        optimizer.step()\n",
    "        acc1, acc5 = accuracy(output, target, topk=(1, 5))\n",
    "        top1.update(acc1[0], image.size(0))\n",
    "        top5.update(acc5[0], image.size(0))\n",
    "        avgloss.update(loss, image.size(0))\n",
    "        if cnt >= ntrain_batches:\n",
    "            print('Loss', avgloss.avg)\n",
    "\n",
    "            print('Training: * Acc@1 {top1.avg:.3f} Acc@5 {top5.avg:.3f}'\n",
    "                  .format(top1=top1, top5=top5))\n",
    "            return\n",
    "\n",
    "    print('Full imagenet train set:  * Acc@1 {top1.global_avg:.3f} Acc@5 {top5.global_avg:.3f}'\n",
    "          .format(top1=top1, top5=top5))\n",
    "    return"
   ]
  },
  {
   "cell_type": "markdown",
   "metadata": {
    "id": "WGAHNeRD8uF4"
   },
   "source": [
    "We fuse modules as before"
   ]
  },
  {
   "cell_type": "code",
   "execution_count": 17,
   "metadata": {
    "id": "UxneV3jI8waU"
   },
   "outputs": [],
   "source": [
    "qat_model = load_model(pjoin(saved_model_dir, float_model_file))\n",
    "\n",
    "# The model has to be switched to training mode before any layer fusion.\n",
    "# Otherwise the quantization aware training will not work correctly.\n",
    "qat_model.eval()\n",
    "qat_model.fuse_model()\n",
    "\n",
    "qat_model.train()\n",
    "optimizer = torch.optim.SGD(qat_model.parameters(), lr = 0.0001)\n",
    "# The old 'fbgemm' is still available but 'x86' is the recommended default.\n",
    "qat_model.qconfig = torch.ao.quantization.get_default_qat_qconfig('x86')"
   ]
  },
  {
   "cell_type": "markdown",
   "metadata": {
    "id": "yQgTMpt58xnk"
   },
   "source": [
    "Finally, `prepare_qat` performs the “fake quantization”, preparing the model for quantization-aware training."
   ]
  },
  {
   "cell_type": "code",
   "execution_count": 18,
   "metadata": {
    "id": "bY0B2nr5804x"
   },
   "outputs": [
    {
     "name": "stdout",
     "output_type": "stream",
     "text": [
      "Inverted Residual Block: After preparation for QAT, note fake-quantization modules \n",
      " Sequential(\n",
      "  (0): ConvBNReLU(\n",
      "    (0): ConvReLU2d(\n",
      "      32, 32, kernel_size=(3, 3), stride=(1, 1), padding=(1, 1), groups=32\n",
      "      (weight_fake_quant): FusedMovingAvgObsFakeQuantize(\n",
      "        fake_quant_enabled=tensor([1]), observer_enabled=tensor([1]), scale=tensor([1.]), zero_point=tensor([0], dtype=torch.int32), dtype=torch.qint8, quant_min=-128, quant_max=127, qscheme=torch.per_tensor_symmetric, reduce_range=False\n",
      "        (activation_post_process): MovingAverageMinMaxObserver(min_val=inf, max_val=-inf)\n",
      "      )\n",
      "      (activation_post_process): FusedMovingAvgObsFakeQuantize(\n",
      "        fake_quant_enabled=tensor([1]), observer_enabled=tensor([1]), scale=tensor([1.]), zero_point=tensor([0], dtype=torch.int32), dtype=torch.quint8, quant_min=0, quant_max=255, qscheme=torch.per_tensor_affine, reduce_range=False\n",
      "        (activation_post_process): MovingAverageMinMaxObserver(min_val=inf, max_val=-inf)\n",
      "      )\n",
      "    )\n",
      "    (1): Identity()\n",
      "    (2): Identity()\n",
      "  )\n",
      "  (1): Conv2d(\n",
      "    32, 16, kernel_size=(1, 1), stride=(1, 1)\n",
      "    (weight_fake_quant): FusedMovingAvgObsFakeQuantize(\n",
      "      fake_quant_enabled=tensor([1]), observer_enabled=tensor([1]), scale=tensor([1.]), zero_point=tensor([0], dtype=torch.int32), dtype=torch.qint8, quant_min=-128, quant_max=127, qscheme=torch.per_tensor_symmetric, reduce_range=False\n",
      "      (activation_post_process): MovingAverageMinMaxObserver(min_val=inf, max_val=-inf)\n",
      "    )\n",
      "    (activation_post_process): FusedMovingAvgObsFakeQuantize(\n",
      "      fake_quant_enabled=tensor([1]), observer_enabled=tensor([1]), scale=tensor([1.]), zero_point=tensor([0], dtype=torch.int32), dtype=torch.quint8, quant_min=0, quant_max=255, qscheme=torch.per_tensor_affine, reduce_range=False\n",
      "      (activation_post_process): MovingAverageMinMaxObserver(min_val=inf, max_val=-inf)\n",
      "    )\n",
      "  )\n",
      "  (2): Identity()\n",
      ")\n"
     ]
    }
   ],
   "source": [
    "torch.ao.quantization.prepare_qat(qat_model, inplace=True)\n",
    "print('Inverted Residual Block: After preparation for QAT, note fake-quantization modules \\n',qat_model.features[1].conv)"
   ]
  },
  {
   "cell_type": "markdown",
   "metadata": {
    "id": "hiUn5R63867g"
   },
   "source": [
    "Training a quantized model with high accuracy requires accurate modeling of numerics at inference. For quantization aware training, therefore, we modify the training loop by:\n",
    "\n",
    "- Switch batch norm to use running mean and variance towards the end of training to better match inference numerics.\n",
    "\n",
    "- We also freeze the quantizer parameters (scale and zero-point) and fine tune the weights."
   ]
  },
  {
   "cell_type": "code",
   "execution_count": 22,
   "metadata": {},
   "outputs": [],
   "source": [
    "def save_torchscript_model(model, model_dir, model_filename):\n",
    "\n",
    "    if not os.path.exists(model_dir):\n",
    "        os.makedirs(model_dir)\n",
    "    model_filepath = os.path.join(model_dir, model_filename)\n",
    "    torch.jit.save(torch.jit.script(model), model_filepath)\n",
    "\n",
    "def load_torchscript_model(model_filepath, device):\n",
    "\n",
    "    model = torch.jit.load(model_filepath, map_location=device)\n",
    "\n",
    "    return model"
   ]
  },
  {
   "cell_type": "code",
   "execution_count": 31,
   "metadata": {
    "id": "vAYxYhhc85VL"
   },
   "outputs": [
    {
     "name": "stdout",
     "output_type": "stream",
     "text": [
      "Number of available GPU devices: 3\n",
      "..................................................Loss tensor(2.6398, device='cuda:0', grad_fn=<DivBackward0>)\n",
      "Training: * Acc@1 43.906 Acc@5 66.250\n",
      "........................................................................................................................................................................................................................................................................................................................................................................................................................................................................................................................................................................................................................................................................................................................................................................................................................................................................................................................................................................................................................................Epoch 0 :Evaluation accuracy on 50000 images, top1=46.98, top5=72.25\n",
      "..................................................Loss tensor(2.7403, device='cuda:0', grad_fn=<DivBackward0>)\n",
      "Training: * Acc@1 41.844 Acc@5 65.781\n",
      "........................................................................................................................................................................................................................................................................................................................................................................................................................................................................................................................................................................................................................................................................................................................................................................................................................................................................................................................................................................................................................................Epoch 1 :Evaluation accuracy on 50000 images, top1=47.77, top5=72.85\n",
      "..................................................Loss tensor(2.6443, device='cuda:0', grad_fn=<DivBackward0>)\n",
      "Training: * Acc@1 44.625 Acc@5 67.094\n",
      "........................................................................................................................................................................................................................................................................................................................................................................................................................................................................................................................................................................................................................................................................................................................................................................................................................................................................................................................................................................................................................................Epoch 2 :Evaluation accuracy on 50000 images, top1=47.28, top5=72.36\n",
      "..................................................Loss tensor(2.6165, device='cuda:0', grad_fn=<DivBackward0>)\n",
      "Training: * Acc@1 44.406 Acc@5 67.375\n",
      "........................................................................................................................................................................................................................................................................................................................................................................................................................................................................................................................................................................................................................................................................................................................................................................................................................................................................................................................................................................................................................................Epoch 3 :Evaluation accuracy on 50000 images, top1=45.03, top5=70.11\n",
      "..................................................Loss tensor(2.6900, device='cuda:0', grad_fn=<DivBackward0>)\n",
      "Training: * Acc@1 42.938 Acc@5 66.438\n",
      "........................................................................................................................................................................................................................................................................................................................................................................................................................................................................................................................................................................................................................................................................................................................................................................................................................................................................................................................................................................................................................................Epoch 4 :Evaluation accuracy on 50000 images, top1=45.29, top5=70.22\n",
      "..................................................Loss tensor(2.7214, device='cuda:0', grad_fn=<DivBackward0>)\n",
      "Training: * Acc@1 42.219 Acc@5 66.000\n",
      "........................................................................................................................................................................................................................................................................................................................................................................................................................................................................................................................................................................................................................................................................................................................................................................................................................................................................................................................................................................................................................................Epoch 5 :Evaluation accuracy on 50000 images, top1=46.69, top5=71.82\n",
      "..................................................Loss tensor(2.6214, device='cuda:0', grad_fn=<DivBackward0>)\n",
      "Training: * Acc@1 43.938 Acc@5 67.750\n",
      "........................................................................................................................................................................................................................................................................................................................................................................................................................................................................................................................................................................................................................................................................................................................................................................................................................................................................................................................................................................................................................................Epoch 6 :Evaluation accuracy on 50000 images, top1=46.80, top5=71.77\n",
      "..................................................Loss tensor(2.6914, device='cuda:0', grad_fn=<DivBackward0>)\n",
      "Training: * Acc@1 41.938 Acc@5 65.781\n",
      "........................................................................................................................................................................................................................................................................................................................................................................................................................................................................................................................................................................................................................................................................................................................................................................................................................................................................................................................................................................................................................................Epoch 7 :Evaluation accuracy on 50000 images, top1=47.31, top5=72.54\n",
      "..................................................Loss tensor(2.7023, device='cuda:0', grad_fn=<DivBackward0>)\n",
      "Training: * Acc@1 42.406 Acc@5 66.250\n",
      "........................................................................................................................................................................................................................................................................................................................................................................................................................................................................................................................................................................................................................................................................................................................................................................................................................................................................................................................................................................................................................................Epoch 8 :Evaluation accuracy on 50000 images, top1=46.80, top5=71.76\n",
      "..................................................Loss tensor(2.6382, device='cuda:0', grad_fn=<DivBackward0>)\n",
      "Training: * Acc@1 42.781 Acc@5 67.531\n",
      "........................................................................................................................................................................................................................................................................................................................................................................................................................................................................................................................................................................................................................................................................................................................................................................................................................................................................................................................................................................................................................................Epoch 9 :Evaluation accuracy on 50000 images, top1=47.58, top5=72.62\n",
      "..................................................Loss tensor(2.6079, device='cuda:0', grad_fn=<DivBackward0>)\n",
      "Training: * Acc@1 43.562 Acc@5 67.781\n",
      "........................................................................................................................................................................................................................................................................................................................................................................................................................................................................................................................................................................................................................................................................................................................................................................................................................................................................................................................................................................................................................................Epoch 10 :Evaluation accuracy on 50000 images, top1=47.82, top5=72.96\n",
      "..................................................Loss tensor(2.5092, device='cuda:0', grad_fn=<DivBackward0>)\n",
      "Training: * Acc@1 46.188 Acc@5 69.906\n",
      "........................................................................................................................................................................................................................................................................................................................................................................................................................................................................................................................................................................................................................................................................................................................................................................................................................................................................................................................................................................................................................................Epoch 11 :Evaluation accuracy on 50000 images, top1=48.01, top5=73.10\n",
      "..................................................Loss tensor(2.6551, device='cuda:0', grad_fn=<DivBackward0>)\n",
      "Training: * Acc@1 43.844 Acc@5 66.562\n",
      "........................................................................................................................................................................................................................................................................................................................................................................................................................................................................................................................................................................................................................................................................................................................................................................................................................................................................................................................................................................................................................................Epoch 12 :Evaluation accuracy on 50000 images, top1=47.66, top5=72.51\n",
      "..................................................Loss tensor(2.6394, device='cuda:0', grad_fn=<DivBackward0>)\n",
      "Training: * Acc@1 44.000 Acc@5 67.219\n",
      "........................................................................................................................................................................................................................................................................................................................................................................................................................................................................................................................................................................................................................................................................................................................................................................................................................................................................................................................................................................................................................................Epoch 13 :Evaluation accuracy on 50000 images, top1=48.28, top5=73.30\n",
      "..................................................Loss tensor(2.5759, device='cuda:0', grad_fn=<DivBackward0>)\n",
      "Training: * Acc@1 45.156 Acc@5 68.125\n",
      "........................................................................................................................................................................................................................................................................................................................................................................................................................................................................................................................................................................................................................................................................................................................................................................................................................................................................................................................................................................................................................................Epoch 14 :Evaluation accuracy on 50000 images, top1=48.13, top5=73.21\n",
      "..................................................Loss tensor(2.6398, device='cuda:0', grad_fn=<DivBackward0>)\n",
      "Training: * Acc@1 44.219 Acc@5 67.281\n",
      "........................................................................................................................................................................................................................................................................................................................................................................................................................................................................................................................................................................................................................................................................................................................................................................................................................................................................................................................................................................................................................................Epoch 15 :Evaluation accuracy on 50000 images, top1=48.69, top5=73.85\n",
      "..................................................Loss tensor(2.5926, device='cuda:0', grad_fn=<DivBackward0>)\n",
      "Training: * Acc@1 44.438 Acc@5 68.250\n",
      "........................................................................................................................................................................................................................................................................................................................................................................................................................................................................................................................................................................................................................................................................................................................................................................................................................................................................................................................................................................................................................................Epoch 16 :Evaluation accuracy on 50000 images, top1=48.68, top5=73.83\n",
      "..................................................Loss tensor(2.6128, device='cuda:0', grad_fn=<DivBackward0>)\n",
      "Training: * Acc@1 43.188 Acc@5 67.719\n",
      "........................................................................................................................................................................................................................................................................................................................................................................................................................................................................................................................................................................................................................................................................................................................................................................................................................................................................................................................................................................................................................................Epoch 17 :Evaluation accuracy on 50000 images, top1=49.16, top5=73.92\n",
      "..................................................Loss tensor(2.5867, device='cuda:0', grad_fn=<DivBackward0>)\n",
      "Training: * Acc@1 43.969 Acc@5 68.125\n",
      "........................................................................................................................................................................................................................................................................................................................................................................................................................................................................................................................................................................................................................................................................................................................................................................................................................................................................................................................................................................................................................................Epoch 18 :Evaluation accuracy on 50000 images, top1=49.71, top5=74.64\n",
      "..................................................Loss tensor(2.5949, device='cuda:0', grad_fn=<DivBackward0>)\n",
      "Training: * Acc@1 43.250 Acc@5 68.375\n",
      "........................................................................................................................................................................................................................................................................................................................................................................................................................................................................................................................................................................................................................................................................................................................................................................................................................................................................................................................................................................................................................................Epoch 19 :Evaluation accuracy on 50000 images, top1=49.31, top5=74.36\n"
     ]
    }
   ],
   "source": [
    "train_batch_size = 64\n",
    "eval_batch_size = 50\n",
    "data_loader, data_loader_test = get_imagenet64_data(data_path, train_batch_size, eval_batch_size)\n",
    "\n",
    "num_train_batches = 50\n",
    "num_eval_batches = 1000\n",
    "# Get the number of available GPU devices\n",
    "num_gpus = torch.cuda.device_count()\n",
    "\n",
    "print(f'Number of available GPU devices: {num_gpus}')\n",
    "\n",
    "cuda_device = torch.device(\"cuda:0\")\n",
    "cpu_device = torch.device(\"cpu:0\")\n",
    "\n",
    "# QAT takes time and one needs to train over a few epochs.\n",
    "# Train and check accuracy after each epoch\n",
    "for nepoch in range(20):\n",
    "    train_one_epoch(qat_model, criterion, optimizer, data_loader, cuda_device, num_train_batches)\n",
    "    if nepoch > 4:\n",
    "        # Freeze quantizer parameters\n",
    "        qat_model.apply(torch.ao.quantization.disable_observer)\n",
    "    if nepoch > 3:\n",
    "        # Freeze batch norm mean and variance estimates\n",
    "        qat_model.apply(torch.nn.intrinsic.qat.freeze_bn_stats)\n",
    "\n",
    "    # Check the accuracy after each epoch\n",
    "    qat_model.to(cpu_device)\n",
    "    quantized_model = torch.ao.quantization.convert(qat_model.eval(), inplace=False)\n",
    "    quantized_model.eval()\n",
    "    top1, top5 = evaluate(quantized_model,criterion, data_loader_test, neval_batches=num_eval_batches)\n",
    "    print('Epoch %d :Evaluation accuracy on %d images, top1=%2.2f, top5=%2.2f'%(\n",
    "        nepoch, num_eval_batches * eval_batch_size, top1.avg, top5.avg))\n",
    "    \n",
    "    quantized_model_filename = f\"mobilenet_qat_quantized_epo{nepoch:02d}.pth\"\n",
    "    #print (\"quantized_model_filename = \", quantized_model_filename)\n",
    "    torch.jit.save(\n",
    "        torch.jit.script(quantized_model), \n",
    "        pjoin(saved_model_dir, quantized_model_filename))"
   ]
  },
  {
   "cell_type": "markdown",
   "metadata": {
    "id": "hSEtnY-s9A74"
   },
   "source": [
    "Quantization-aware training yields an accuracy of over 71.5% (here we got top1=49.715, top5=74.645) on the entire imagenet dataset, which is close to the floating point accuracy of 71.9%.\n",
    "\n",
    "More on quantization-aware training:\n",
    "\n",
    "- QAT is a super-set of post training quant techniques that allows for more debugging. For example, we can analyze if the accuracy of the model is limited by weight or activation quantization.\n",
    "\n",
    "- We can also simulate the accuracy of a quantized model in floating point since we are using fake-quantization to model the numerics of actual quantized arithmetic.\n",
    "\n",
    "- We can mimic post training quantization easily too."
   ]
  },
  {
   "cell_type": "markdown",
   "metadata": {
    "id": "PIBUT9ZV9Doz"
   },
   "source": [
    "## Speedup from quantization\n",
    "Finally, let’s confirm something we alluded to above: do our quantized models actually perform inference faster? Let’s test:"
   ]
  },
  {
   "cell_type": "code",
   "execution_count": 43,
   "metadata": {
    "id": "qWHqaTJd9Bgo"
   },
   "outputs": [],
   "source": [
    "def run_float_model(model_file, img_loader):\n",
    "    elapsed = 0\n",
    "    model = load_model(model_file)\n",
    "    model.eval()\n",
    "    num_batches = 10\n",
    "    # Run the scripted model on a few batches of images\n",
    "    for i, (images, target) in enumerate(img_loader):\n",
    "        if i < num_batches:\n",
    "            start = time.time()\n",
    "            output = model(images)\n",
    "            end = time.time()\n",
    "            elapsed = elapsed + (end-start)\n",
    "        else:\n",
    "            break\n",
    "    num_images = images.size()[0] * num_batches\n",
    "\n",
    "    print('Elapsed time: %3.0f ms' % (elapsed/num_images*1000))\n",
    "    return elapsed\n",
    "\n",
    "def run_benchmark(model_file, img_loader):\n",
    "    elapsed = 0\n",
    "    model = torch.jit.load(model_file)\n",
    "    model.eval()\n",
    "    num_batches = 10\n",
    "    # Run the scripted model on a few batches of images\n",
    "    for i, (images, target) in enumerate(img_loader):\n",
    "        if i < num_batches:\n",
    "            start = time.time()\n",
    "            output = model(images)\n",
    "            end = time.time()\n",
    "            elapsed = elapsed + (end-start)\n",
    "        else:\n",
    "            break\n",
    "    num_images = images.size()[0] * num_batches\n",
    "\n",
    "    print('Elapsed time: %3.0f ms' % (elapsed/num_images*1000))\n",
    "    return elapsed"
   ]
  },
  {
   "cell_type": "markdown",
   "metadata": {},
   "source": [
    "Let us run them:"
   ]
  },
  {
   "cell_type": "code",
   "execution_count": 46,
   "metadata": {},
   "outputs": [
    {
     "name": "stdout",
     "output_type": "stream",
     "text": [
      " Loading mobilenet_pretrained_float.pth ...\n",
      "Elapsed time:  13 ms\n",
      "\n",
      "\n",
      " Loading mobilenet_quantization_scripted.pth ...\n",
      "Elapsed time:  11 ms\n",
      "\n",
      "\n",
      " Loading mobilenet_quantization_scripted_quantized.pth ...\n",
      "Elapsed time:  33 ms\n",
      "\n",
      "\n",
      " Loading mobilenet_qat_quantized_epo18.pth ...\n",
      "Elapsed time:  32 ms\n"
     ]
    },
    {
     "data": {
      "text/plain": [
       "16.237030267715454"
      ]
     },
     "execution_count": 46,
     "metadata": {},
     "output_type": "execute_result"
    }
   ],
   "source": [
    "float_model_file = 'mobilenet_pretrained_float.pth'\n",
    "print (f\" Loading {float_model_file} ...\")\n",
    "run_float_model(saved_model_dir + float_model_file, data_loader_test)\n",
    "\n",
    "\n",
    "scripted_float_model_file = 'mobilenet_quantization_scripted.pth'\n",
    "print (f\"\\n\\n Loading {scripted_float_model_file} ...\")\n",
    "run_benchmark(saved_model_dir + scripted_float_model_file, data_loader_test)\n",
    "\n",
    "scripted_quantized_model_file = 'mobilenet_quantization_scripted_quantized.pth'\n",
    "print (f\"\\n\\n Loading {scripted_quantized_model_file} ...\")\n",
    "run_benchmark(saved_model_dir + scripted_quantized_model_file, data_loader_test)\n",
    "\n",
    "quantized_model_file = 'mobilenet_qat_quantized_epo18.pth'\n",
    "print (f\"\\n\\n Loading {quantized_model_file} ...\")\n",
    "run_benchmark(saved_model_dir + scripted_quantized_model_file, data_loader_test)"
   ]
  },
  {
   "cell_type": "markdown",
   "metadata": {},
   "source": [
    "[???] Running this locally on a MacBook pro yielded 61 ms for the regular model, and just 20 ms for the quantized model, illustrating the typical 2-4x speedup we see for quantized models compared to floating point ones."
   ]
  },
  {
   "cell_type": "markdown",
   "metadata": {},
   "source": [
    "Let us try this latency function below (see https://leimao.github.io/blog/PyTorch-Quantization-Aware-Training/)."
   ]
  },
  {
   "cell_type": "code",
   "execution_count": 21,
   "metadata": {},
   "outputs": [],
   "source": [
    "def measure_inference_latency(model,\n",
    "                              device,\n",
    "                              input_size=(1, 3, 32, 32),\n",
    "                              num_samples=100,\n",
    "                              num_warmups=10):\n",
    "    model.to(device)\n",
    "    model.eval()\n",
    "\n",
    "    x = torch.rand(size=input_size).to(device)\n",
    "\n",
    "    with torch.no_grad():\n",
    "        for _ in range(num_warmups):\n",
    "            _ = model(x)\n",
    "    torch.cuda.synchronize()\n",
    "\n",
    "    with torch.no_grad():\n",
    "        start_time = time.time()\n",
    "        for _ in range(num_samples):\n",
    "            _ = model(x)\n",
    "            torch.cuda.synchronize()\n",
    "        end_time = time.time()\n",
    "    elapsed_time = end_time - start_time\n",
    "    elapsed_time_ave = elapsed_time / num_samples\n",
    "\n",
    "    return elapsed_time_ave"
   ]
  },
  {
   "cell_type": "code",
   "execution_count": 38,
   "metadata": {},
   "outputs": [
    {
     "name": "stdout",
     "output_type": "stream",
     "text": [
      "FP32 CPU Inference Latency: 12.59 ms / sample\n",
      "FP32 CUDA Inference Latency: 5.23 ms / sample\n",
      "INT8 CPU Inference Latency: 7.65 ms / sample\n",
      "INT8 JIT CPU Inference Latency: 7.59 ms / sample\n"
     ]
    }
   ],
   "source": [
    "import copy\n",
    "input_size = (1, 3, 224, 224)\n",
    "\"\"\" FP32 evaluation \"\"\"\n",
    "float_model_file = 'mobilenet_pretrained_float.pth'\n",
    "fp32_model = load_model(pjoin(saved_model_dir, float_model_file))\n",
    "fp32_cpu_inference_latency = measure_inference_latency(\n",
    "    model  =  fp32_model,\n",
    "    device = cpu_device, input_size=input_size, num_samples=100)\n",
    "print(\"FP32 CPU Inference Latency: {:.2f} ms / sample\".format(fp32_cpu_inference_latency * 1000))\n",
    "fp32_gpu_inference_latency = measure_inference_latency(\n",
    "    model  =  fp32_model,\n",
    "    device =  cuda_device, input_size=input_size, num_samples=100)\n",
    "print(\"FP32 CUDA Inference Latency: {:.2f} ms / sample\".format(fp32_gpu_inference_latency * 1000))    \n",
    "\n",
    "\"\"\" INT8 evaluation: quantization \"\"\"\n",
    "\n",
    "# Make a copy of the model for layer fusion\n",
    "qat_model = copy.deepcopy(fp32_model)\n",
    "# The model has to be switched to training mode before any layer fusion.\n",
    "# Otherwise the quantization aware training will not work correctly.\n",
    "qat_model.eval()\n",
    "qat_model.fuse_model()\n",
    "\n",
    "qat_model.train()\n",
    "qat_model.qconfig = torch.ao.quantization.get_default_qat_qconfig('x86')\n",
    "torch.ao.quantization.prepare_qat(qat_model, inplace=True)\n",
    "qat_model.to(cpu_device)\n",
    "quantized_model = torch.ao.quantization.convert(qat_model.eval(), inplace=False)\n",
    "int8_cpu_inference_latency = measure_inference_latency(\n",
    "    model  =  quantized_model,\n",
    "    device = cpu_device, input_size=input_size, num_samples=100)\n",
    "print(\"INT8 CPU Inference Latency: {:.2f} ms / sample\".format(int8_cpu_inference_latency * 1000))\n",
    "\n",
    "\"\"\" INT8 evaluation: load from pth via jit \"\"\"\n",
    "quantized_model_file = 'mobilenet_qat_quantized_epo18.pth'\n",
    "quantized_jit_model = torch.jit.load(pjoin(saved_model_dir, quantized_model_file))\n",
    "int8_jit_cpu_inference_latency = measure_inference_latency(\n",
    "    model  =  quantized_model,\n",
    "    device = cpu_device, input_size=input_size, num_samples=100)\n",
    "print(\"INT8 JIT CPU Inference Latency: {:.2f} ms / sample\".format(int8_jit_cpu_inference_latency * 1000))"
   ]
  },
  {
   "cell_type": "markdown",
   "metadata": {
    "id": "IpXvED_V9Ifg"
   },
   "source": [
    "## Conclusion\n",
    "In this tutorial, we showed two quantization methods - post-training static quantization, and quantization-aware training - describing what they do “under the hood” and how to use them in PyTorch.\n",
    "\n",
    "Thanks for reading! As always, we welcome any feedback, so please create an issue [here](https://github.com/pytorch/pytorch/issues) if you have any."
   ]
  },
  {
   "cell_type": "code",
   "execution_count": null,
   "metadata": {},
   "outputs": [],
   "source": []
  }
 ],
 "metadata": {
  "colab": {
   "authorship_tag": "ABX9TyNvBr0Ix0Sn8OGSw4OIFp7S",
   "include_colab_link": true,
   "provenance": []
  },
  "kernelspec": {
   "display_name": "Python 3 (ipykernel)",
   "language": "python",
   "name": "python3"
  },
  "language_info": {
   "codemirror_mode": {
    "name": "ipython",
    "version": 3
   },
   "file_extension": ".py",
   "mimetype": "text/x-python",
   "name": "python",
   "nbconvert_exporter": "python",
   "pygments_lexer": "ipython3",
   "version": "3.8.10"
  }
 },
 "nbformat": 4,
 "nbformat_minor": 4
}
