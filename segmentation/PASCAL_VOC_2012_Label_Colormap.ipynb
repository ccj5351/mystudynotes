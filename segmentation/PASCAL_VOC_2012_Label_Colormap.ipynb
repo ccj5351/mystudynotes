{
 "cells": [
  {
   "cell_type": "markdown",
   "metadata": {},
   "source": [
    "# PASCAL VOC 2012 Image Segmentation\n",
    "\n",
    "## [PASCAL VOC2012 Example Segmentations](http://host.robots.ox.ac.uk/pascal/VOC/voc2012/segexamples/index.html)\n",
    "\n",
    "Below are training examples for the segmentation taster, each consisting of:\n",
    "\n",
    "- the training image\n",
    "- the object segmentation : pixel indices correspond to the first, second, third object etc.\n",
    "- the class segmentation: pixel indices correspond to classes in alphabetical order (1=aeroplane, 2=bicycle, 3=bird, 4=boat, 5=bottle, 6=bus, 7=car , 8=cat, 9=chair, 10=cow, 11=diningtable, 12=dog, 13=horse, 14=motorbike, 15=person, 16=potted plant, 17=sheep, 18=sofa, 19=train, 20=tv/monitor)\n",
    "\n",
    "For both types of segmentation image, `index 0` corresponds to background and `index 255` corresponds to 'void' or unlabeled.\n",
    "\n",
    "![segmentation image](./files/voc2012-segexamples.png)"
   ]
  },
  {
   "cell_type": "markdown",
   "metadata": {},
   "source": [
    "## Convert 1-D Label to 3-D RGB Vector\n",
    "The label image is a `single-channel 8-bit paletted image`. In an `8-bit paletted image` every pixel value is an index into an array of 256 RGB values. The color palette in `PASCAL VOC` is chosen such that adjacent values map to very different colors in order to make classes more easily distinguishable during visual inspection, which can be found in [the official Matlab code](http://host.robots.ox.ac.uk/pascal/VOC/voc2012/index.html#devkit). Or in this [Python version at my gist repository](https://gist.github.com/ccj5351/ae554ea70cef79ab1efdb3f9f92d2b37). The following `color_map()` function returns the color palette in PASCAL VOC:"
   ]
  },
  {
   "cell_type": "code",
   "execution_count": 3,
   "metadata": {},
   "outputs": [],
   "source": [
    "import numpy as np\n",
    "from skimage.io import imshow\n",
    "import matplotlib.pyplot as plt\n",
    "\n",
    "def color_map(N=256, normalized=False):\n",
    "    def bitget(byteval, idx):\n",
    "        return ((byteval & (1 << idx)) != 0)\n",
    "\n",
    "    dtype = 'float32' if normalized else 'uint8'\n",
    "    cmap = np.zeros((N, 3), dtype=dtype)\n",
    "    for i in range(N):\n",
    "        r = g = b = 0\n",
    "        c = i\n",
    "        for j in range(8):\n",
    "            r = r | (bitget(c, 0) << 7-j)\n",
    "            g = g | (bitget(c, 1) << 7-j)\n",
    "            b = b | (bitget(c, 2) << 7-j)\n",
    "            c = c >> 3\n",
    "\n",
    "        cmap[i] = np.array([r, g, b])\n",
    "\n",
    "    cmap = cmap/255 if normalized else cmap\n",
    "    return cmap"
   ]
  },
  {
   "cell_type": "markdown",
   "metadata": {},
   "source": [
    "Classes/labels are mapped to numerical IDs as follows: \n",
    "\n",
    "```plain\n",
    "#0:   background\n",
    "#1:   aeroplane\n",
    "#2:   bicycle\n",
    "#3:   bird\n",
    "#4:   boat\n",
    "#5:   bottle\n",
    "#6:   bus\n",
    "#7:   car\n",
    "#8:   cat\n",
    "#9:   chair\n",
    "#10:  cow\n",
    "#11:  diningtable\n",
    "#12:  dog\n",
    "#13:  horse\n",
    "#14:  motorbike\n",
    "#15:  person\n",
    "#16:  pottedplant\n",
    "#17:  sheep\n",
    "#18:  sofa\n",
    "#19:  train\n",
    "#20:  tvmonitor\n",
    "#255: void/unlabelled\n",
    "```\n",
    "\n",
    "As shown in the following fuction:"
   ]
  },
  {
   "cell_type": "code",
   "execution_count": 4,
   "metadata": {},
   "outputs": [
    {
     "name": "stdout",
     "output_type": "stream",
     "text": [
      "class colormap and palette = {r,g,b}\n",
      "#   0: background           (R,G,B) = 0,0,0\n",
      "#   1: aeroplane            (R,G,B) = 128,0,0\n",
      "#   2: bicycle              (R,G,B) = 0,128,0\n",
      "#   3: bird                 (R,G,B) = 128,128,0\n",
      "#   4: boat                 (R,G,B) = 0,0,128\n",
      "#   5: bottle               (R,G,B) = 128,0,128\n",
      "#   6: bus                  (R,G,B) = 0,128,128\n",
      "#   7: car                  (R,G,B) = 128,128,128\n",
      "#   8: cat                  (R,G,B) = 64,0,0\n",
      "#   9: chair                (R,G,B) = 192,0,0\n",
      "#  10: cow                  (R,G,B) = 64,128,0\n",
      "#  11: diningtable          (R,G,B) = 192,128,0\n",
      "#  12: dog                  (R,G,B) = 64,0,128\n",
      "#  13: horse                (R,G,B) = 192,0,128\n",
      "#  14: motorbike            (R,G,B) = 64,128,128\n",
      "#  15: person               (R,G,B) = 192,128,128\n",
      "#  16: pottedplant          (R,G,B) = 0,64,0\n",
      "#  17: sheep                (R,G,B) = 128,64,0\n",
      "#  18: sofa                 (R,G,B) = 0,192,0\n",
      "#  19: train                (R,G,B) = 128,192,0\n",
      "#  20: tv/monitor           (R,G,B) = 0,64,128\n",
      "# 255: void/unlabelled      (R,G,B) = 224,224,192\n"
     ]
    }
   ],
   "source": [
    "\"\"\" get the mapping from label to RGB-color, given the color palette in PASCAL VOC \"\"\"\n",
    "\n",
    "def color_map_info(palette):\n",
    "    labels = [\n",
    "          'background', #0\n",
    "          'aeroplane', #1\n",
    "          'bicycle', #2\n",
    "          'bird', #3\n",
    "          'boat', #4\n",
    "          'bottle', #5\n",
    "          'bus', #6\n",
    "          'car', #7\n",
    "          'cat', #8\n",
    "          'chair', #9\n",
    "          'cow', #10\n",
    "          'diningtable', #11\n",
    "          'dog', #12\n",
    "          'horse', #13\n",
    "          'motorbike', #14\n",
    "          'person', #15\n",
    "          'pottedplant', #16\n",
    "          'sheep', #17\n",
    "          'sofa', #18\n",
    "          'train', #19\n",
    "          'tv/monitor', #20\n",
    "          \"void/unlabelled\", #255\n",
    "          ] \n",
    "    print 'class colormap and palette = {r,g,b}'\n",
    "    for i in range(0,21*3,3):\n",
    "        print '# {:>3d}: {:<20} (R,G,B) = {},{},{}'.format(i/3, labels[i/3], palette[i], palette[i+1],palette[i+2])\n",
    "    i = 255*3\n",
    "    print '# {:>3d}: {:<20} (R,G,B) = {},{},{}'.format(i/3, labels[21], palette[i], palette[i+1],palette[i+2])\n",
    "\n",
    "\n",
    "\"\"\" generate the color palette in PASCAL VOC via the color_map() function shown as above \"\"\"\n",
    "palette1 = color_map(N = 256)\n",
    "palette1 = np.reshape(palette1, [-1,]) # reshape to 1-D array;\n",
    "color_map_info(palette1)"
   ]
  },
  {
   "cell_type": "markdown",
   "metadata": {},
   "source": [
    "We can compare the palette above with the palette in any segmentation class label. For example, load the image label `VOC2012/SegmentationClass/2011_003078.png` in the following:"
   ]
  },
  {
   "cell_type": "code",
   "execution_count": 13,
   "metadata": {},
   "outputs": [
    {
     "name": "stdout",
     "output_type": "stream",
     "text": [
      "class colormap and palette = {r,g,b}\n",
      "#   0: background           (R,G,B) = 0,0,0\n",
      "#   1: aeroplane            (R,G,B) = 128,0,0\n",
      "#   2: bicycle              (R,G,B) = 0,128,0\n",
      "#   3: bird                 (R,G,B) = 128,128,0\n",
      "#   4: boat                 (R,G,B) = 0,0,128\n",
      "#   5: bottle               (R,G,B) = 128,0,128\n",
      "#   6: bus                  (R,G,B) = 0,128,128\n",
      "#   7: car                  (R,G,B) = 128,128,128\n",
      "#   8: cat                  (R,G,B) = 64,0,0\n",
      "#   9: chair                (R,G,B) = 192,0,0\n",
      "#  10: cow                  (R,G,B) = 64,128,0\n",
      "#  11: diningtable          (R,G,B) = 192,128,0\n",
      "#  12: dog                  (R,G,B) = 64,0,128\n",
      "#  13: horse                (R,G,B) = 192,0,128\n",
      "#  14: motorbike            (R,G,B) = 64,128,128\n",
      "#  15: person               (R,G,B) = 192,128,128\n",
      "#  16: pottedplant          (R,G,B) = 0,64,0\n",
      "#  17: sheep                (R,G,B) = 128,64,0\n",
      "#  18: sofa                 (R,G,B) = 0,192,0\n",
      "#  19: train                (R,G,B) = 128,192,0\n",
      "#  20: tv/monitor           (R,G,B) = 0,64,128\n",
      "# 255: void/unlabelled      (R,G,B) = 224,224,192\n",
      "\n",
      "Sum(palette - palette1) =  0\n"
     ]
    }
   ],
   "source": [
    "from PIL import Image\n",
    "annotation = \"/home/ccj/seg-depth/datasets/pascal_voc_seg/VOCdevkit/VOC2012/SegmentationClass/2011_003078.png\"\n",
    "palette = Image.open(annotation).getpalette()\n",
    "color_map_info(palette1)\n",
    "# compare these two color maps\n",
    "res = np.sum(palette - palette1)\n",
    "print \"\\nSum(palette - palette1) =  {}\".format(res)"
   ]
  },
  {
   "cell_type": "markdown",
   "metadata": {},
   "source": [
    "So until now, we check that the color_map() function does generate the color palette in PASCAL VOC.\n",
    "\n",
    "## Color Map Visualization\n",
    "\n",
    "See the following function to show the color map:"
   ]
  },
  {
   "cell_type": "code",
   "execution_count": 15,
   "metadata": {},
   "outputs": [
    {
     "data": {
      "image/png": "[encoded data removed]",
      "text/plain": [
       "<Figure size 432x288 with 1 Axes>"
      ]
     },
     "metadata": {},
     "output_type": "display_data"
    }
   ],
   "source": [
    "# added by CCJ:\n",
    "\"\"\" arrange these 21 classes to 2D matrix with 3 rows and 7 columns\"\"\"\n",
    "def color_map_viz(fname = None):\n",
    "    labels = ['B-ground', 'Aero plane', 'Bicycle', 'Bird', 'Boat', 'Bottle', \n",
    "            'Bus', 'Car', 'Cat', 'Chair', 'Cow', 'Dining-Table', 'Dog', 'Horse',\n",
    "            'Motorbike', 'Person', 'Potted-Plant', 'Sheep', 'Sofa', 'Train', \n",
    "            'TV/Monitor', 'Void/Unlabelled']\n",
    "\n",
    "    nclasses = 21\n",
    "    row_size = 80\n",
    "    col_size = 250\n",
    "    cmap = color_map()\n",
    "\n",
    "    \"\"\" arrange these 21 classes to 2D matrix with 3 rows and 7 columns\"\"\"\n",
    "    r = 3\n",
    "    c = 7\n",
    "    delta = 10\n",
    "    array = np.empty((row_size*(r+1), col_size*c, cmap.shape[1]), dtype=cmap.dtype)\n",
    "    fig=plt.figure()\n",
    "    for r_idx in range(0,r):\n",
    "        for c_idx in range(0,c):\n",
    "            i = r_idx *c + c_idx\n",
    "            array[r_idx*row_size:(r_idx+1)*row_size, c_idx*col_size: (c_idx+1)*col_size, :] = cmap[i]\n",
    "            x = c_idx*col_size + delta\n",
    "            y = r_idx*row_size + row_size/2\n",
    "            s = labels[i]\n",
    "            plt.text(x, y,s, fontsize=9, color='white')\n",
    "            #print \"write {} at pixel (r={},c={})\".format(labels[i], y,x)\n",
    "\n",
    "    array[r*row_size:(r+1)*row_size, :] = cmap[-1]\n",
    "    x = 3*col_size + delta\n",
    "    y = r*row_size + row_size/2\n",
    "    s = labels[-1]\n",
    "    plt.text(x, y,s, fontsize=9, color='black')\n",
    "    #print \"write {} at pixel (r={},c={})\".format(labels[i], y,x)\n",
    "    plt.title(\"PASCAL VOC Label Color Map\")\n",
    "    imshow(array)\n",
    "    axis = plt.subplot(1, 1, 1)\n",
    "    plt.axis('off')\n",
    "    if fname and fname is not '':\n",
    "        plt.savefig(fname, dpi=300,bbox_inches='tight', pad_inches=0.1)\n",
    "    else:\n",
    "        plt.show()\n",
    "        \n",
    "#color_map_viz(fname = \"/home/ccj/seg-depth/datasets/pascal_voc_seg/pascal-voc-label-color-map.jpg\")\n",
    "color_map_viz()"
   ]
  },
  {
   "cell_type": "markdown",
   "metadata": {},
   "source": [
    "## [Convert 3-D RGB Vector to 1-D Label](https://github.com/NVIDIA/DIGITS/tree/master/examples/semantic-segmentation)\n",
    "\n",
    "If your segmentation masks are RGB images, you would need to convert each 3-D RGB vector into a 1-D label.\n",
    "\n",
    "### Just based on the color_map definition\n",
    "Just mannually map the RGB color to 1-d class label based on the abvoe color map definition.\n",
    "\n",
    "### Check How it is finished in the Deeplab Official Code\n",
    "\n",
    "I checked the function [deeplab/datasets/remove_gt_colormap.py](https://github.com/tensorflow/models/blob/master/research/deeplab/datasets/remove_gt_colormap.py) in the [TensorFlow code of Deeplab](https://github.com/tensorflow/models/tree/master/research/deeplab) for loading and converting the segmentation labels."
   ]
  },
  {
   "cell_type": "code",
   "execution_count": 40,
   "metadata": {},
   "outputs": [
    {
     "name": "stdout",
     "output_type": "stream",
     "text": [
      "src_annota shape =  (367, 500, 3)\n",
      "<type 'numpy.uint8'> <type 'numpy.uint8'>\n",
      "src pixel (151, 160) = [0 0 0](BRG), raw pixel (151, 160) = 0(class id)\n",
      "src pixel (153, 270) = [128 128 192](BGR), raw pixel (153, 270) = 15(class id)\n"
     ]
    }
   ],
   "source": [
    "from PIL import Image\n",
    "import tensorflow as tf\n",
    "import cv2\n",
    "\n",
    "def _remove_colormap_deeplab(filename):\n",
    "  \"\"\"Removes the color map from the annotation.\n",
    "\n",
    "  Args:\n",
    "    filename: Ground truth annotation filename.\n",
    "\n",
    "  Returns:\n",
    "    Annotation without color map.\n",
    "  \"\"\"\n",
    "  return np.array(Image.open(filename))\n",
    "\n",
    "def _save_annotation_deeplab(annotation, filename):\n",
    "  \"\"\"Saves the annotation as png file.\n",
    "\n",
    "  Args:\n",
    "    annotation: Segmentation annotation.\n",
    "    filename: Output filename.\n",
    "  \"\"\"\n",
    "  pil_image = Image.fromarray(annotation.astype(dtype=np.uint8))\n",
    "  with tf.gfile.Open(filename, mode='w') as f:\n",
    "      pil_image.save(f, 'PNG')\n",
    "\n",
    "\n",
    "# Testing the conversion\n",
    "annotation = \"/home/ccj/seg-depth/datasets/pascal_voc_seg/VOCdevkit/VOC2012/SegmentationClass/2011_003078.png\"\n",
    "raw_annotation = _remove_colormap_deeplab(annotation)\n",
    "raw_annotation_fname = \"/home/ccj/seg-depth/datasets/pascal_voc_seg/VOCdevkit/VOC2012/SegmentationClassRaw/2011_003078.png\"\n",
    "_save_annotation_deeplab(raw_annotation, raw_annotation_fname)\n",
    "\n",
    "src_annota = cv2.imread(annotation)\n",
    "print 'src_annota shape = ', src_annota.shape\n",
    "#cv2.imshow('src_annota',src_annota)\n",
    "#cv2.waitKey()\n",
    "print type(src_annota[151,160, 0]), type(raw_annotation[151,160])\n",
    "r=151\n",
    "c=160\n",
    "print 'src pixel ({}, {}) = {}(BRG), raw pixel ({}, {}) = {}(class id)'.format(r,c,src_annota[r,c], r,c,raw_annotation[r,c])\n",
    "r=153\n",
    "c=270\n",
    "print 'src pixel ({}, {}) = {}(BGR), raw pixel ({}, {}) = {}(class id)'.format(r,c,src_annota[r,c], r,c,raw_annotation[r,c])"
   ]
  },
  {
   "cell_type": "markdown",
   "metadata": {},
   "source": [
    "### Analysis in details:\n",
    "Let us do some analysis to these two functions:"
   ]
  },
  {
   "cell_type": "code",
   "execution_count": 49,
   "metadata": {},
   "outputs": [
    {
     "name": "stdout",
     "output_type": "stream",
     "text": [
      "The loaded iame via Image.open(filename) has the mode : P, size : (500, 367)\n",
      "The converted numpy array from Image object, has the shape =  (367, 500)\n",
      " - where, pixel (151, 160) = 0\n",
      " - and    pixel (153, 270) = 15\n",
      "cv2 loaded image at numpy src_annota shape =  (367, 500, 3)\n",
      "<type 'numpy.uint8'> <type 'numpy.uint8'>\n",
      "src pixel (151, 160) = [0 0 0](BRG), raw pixel (151, 160) = 0(class id)\n",
      "src pixel (153, 270) = [128 128 192](BGR), raw pixel (153, 270) = 15(class id)\n"
     ]
    }
   ],
   "source": [
    "def _remove_colormap(filename):\n",
    "  \"\"\"Removes the color map from the annotation.\n",
    "\n",
    "  Args:\n",
    "    filename: Ground truth annotation filename.\n",
    "\n",
    "  Returns:\n",
    "    Annotation without color map.\n",
    "  \"\"\"\n",
    "  img = Image.open(filename)\n",
    "  print 'The loaded iame via Image.open(filename) has the mode : {}, size : {}'.format(img.mode, img.size)\n",
    "  res = np.array(img)\n",
    "  print 'The converted numpy array from Image object, has the shape = ', res.shape\n",
    "  r=151\n",
    "  c=160\n",
    "  print ' - where, pixel ({}, {}) = {}'.format(r,c,res[r,c])\n",
    "  r=153\n",
    "  c=270\n",
    "  print ' - and    pixel ({}, {}) = {}'.format(r,c,res[r,c])\n",
    "  #return np.array(Image.open(filename))\n",
    "  return res\n",
    "\n",
    "def _save_annotation(annotation, filename):\n",
    "  \"\"\"Saves the annotation as png file.\n",
    "  Args:\n",
    "    annotation: Segmentation annotation.\n",
    "    filename: Output filename.\n",
    "  \"\"\"\n",
    "\n",
    "  #pil_image = Image.fromarray(annotation.astype(dtype=np.uint8))\n",
    "  pil_image = Image.fromarray(annotation)\n",
    "  pil_image.save(filename, 'PNG')\n",
    "\n",
    "# Testing the conversion\n",
    "annotation = \"/home/ccj/seg-depth/datasets/pascal_voc_seg/VOCdevkit/VOC2012/SegmentationClass/2011_003078.png\"\n",
    "raw_annotation = _remove_colormap(annotation)\n",
    "raw_annotation_fname = \"/home/ccj/seg-depth/datasets/pascal_voc_seg/VOCdevkit/VOC2012/SegmentationClassRaw/2011_003078.png\"\n",
    "_save_annotation(raw_annotation, raw_annotation_fname)\n",
    "\n",
    "src_annota = cv2.imread(annotation)\n",
    "print 'cv2 loaded image at numpy src_annota shape = ', src_annota.shape\n",
    "#cv2.imshow('src_annota',src_annota)\n",
    "#cv2.waitKey()\n",
    "print type(src_annota[151,160, 0]), type(raw_annotation[151,160])\n",
    "r=151\n",
    "c=160\n",
    "print 'src pixel ({}, {}) = {}(BRG), raw pixel ({}, {}) = {}(class id)'.format(r,c,src_annota[r,c], r,c,raw_annotation[r,c])\n",
    "r=153\n",
    "c=270\n",
    "print 'src pixel ({}, {}) = {}(BGR), raw pixel ({}, {}) = {}(class id)'.format(r,c,src_annota[r,c], r,c,raw_annotation[r,c])"
   ]
  },
  {
   "cell_type": "markdown",
   "metadata": {},
   "source": [
    "The generated 1-d label is shown  \n",
    "![seg_class_raw_2011_003078.png](./files/seg_class_raw_2011_003078.png)\n",
    "\n",
    "So three important things [????]:\n",
    "- 1) The label images provided by PASCAL VOC 2012 is in `.png` format, which already contains the PASCAL VOC color palette in it;\n",
    "- 2) So once this '.png' label image is loaded as a Pillow Image object, it will have the `'P' mode`, meaning 8-bit pixels, mapped to any other mode using `a color palette`;\n",
    "- 3) Due to the `'P' mode`, converting this PIL Image object into a numpy array, will map every pixel value into an index into the palette array of 256 RGB values.\n",
    "\n",
    "Could check this question - [How to convert a PIL Image into a numpy array?](https://stackoverflow.com/questions/384759/how-to-convert-a-pil-image-into-a-numpy-array/37675266) and the Pillow Image Class [source code](https://github.com/python-pillow/Pillow/blob/730cf93c32ffb747c018afffe597ef9ae264a20a/PIL/Image.py#L633)."
   ]
  },
  {
   "cell_type": "markdown",
   "metadata": {},
   "source": [
    "### Pillow : Image Modes\n",
    "\n",
    "The mode of an image defines the type and depth of a pixel in the image. The current release supports the following standard modes:\n",
    "\n",
    "- 1 (1-bit pixels, black and white, stored with one pixel per byte)\n",
    "- L (8-bit pixels, black and white)\n",
    "- `P (8-bit pixels, mapped to any other mode using a color palette)`\n",
    "- RGB (3x8-bit pixels, true color)\n",
    "- RGBA (4x8-bit pixels, true color with transparency mask)\n",
    "- CMYK (4x8-bit pixels, color separation)\n",
    "- YCbCr (3x8-bit pixels, color video format)\n",
    "- LAB (3x8-bit pixels, the L*a*b color space)\n",
    "- HSV (3x8-bit pixels, Hue, Saturation, Value color space)\n",
    "- I (32-bit signed integer pixels)\n",
    "- F (32-bit floating point pixels)"
   ]
  }
 ],
 "metadata": {
  "kernelspec": {
   "display_name": "Python 3",
   "language": "python",
   "name": "python3"
  },
  "language_info": {
   "codemirror_mode": {
    "name": "ipython",
    "version": 3
   },
   "file_extension": ".py",
   "mimetype": "text/x-python",
   "name": "python",
   "nbconvert_exporter": "python",
   "pygments_lexer": "ipython3",
   "version": "3.7.2"
  }
 },
 "nbformat": 4,
 "nbformat_minor": 4
}
