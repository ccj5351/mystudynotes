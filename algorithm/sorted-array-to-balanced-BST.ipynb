{
 "cells": [
  {
   "cell_type": "markdown",
   "metadata": {},
   "source": [
    "# LeetCode 108. Convert Sorted Array to Binary Search Tree (Easy)\n",
    "\n",
    "> see: https://leetcode.com/problems/convert-sorted-array-to-binary-search-tree/"
   ]
  },
  {
   "cell_type": "markdown",
   "metadata": {},
   "source": [
    "Given an array where elements are sorted in ascending order, convert it to a height balanced BST.\n",
    "\n",
    "For this problem, a height-balanced binary tree is defined as a binary tree in which the depth of the two subtrees of every node never differ by more than 1.\n",
    "\n",
    "Example:\n",
    "\n",
    "```\n",
    "Given the sorted array: [-10,-3,0,5,9],\n",
    "\n",
    "One possible answer is: [0,-3,9,-10,null,5], which represents the following height balanced BST:\n",
    "\n",
    "      0\n",
    "     / \\\n",
    "   -3   9\n",
    "   /   /\n",
    " -10  5\n",
    "\n",
    "```"
   ]
  },
  {
   "cell_type": "markdown",
   "metadata": {},
   "source": [
    "## 1. CCJ's Solution\n",
    "\n",
    "> Basically, the height-balanced restriction means that at each step one has to pick up the number in the middle as a root.\n",
    "\n",
    "> It's known that inorder traversal of BST is an array sorted in the ascending order."
   ]
  },
  {
   "cell_type": "code",
   "execution_count": 1,
   "metadata": {},
   "outputs": [],
   "source": [
    "# Definition for a binary tree node.\n",
    "# class TreeNode(object):\n",
    "#     def __init__(self, val=0, left=None, right=None):\n",
    "#         self.val = val\n",
    "#         self.left = left\n",
    "#         self.right = right\n",
    "class Solution(object):\n",
    "    def sortedArrayToBST(self, nums):\n",
    "        \"\"\"\n",
    "        :type nums: List[int]\n",
    "        :rtype: TreeNode\n",
    "        \"\"\"\n",
    "        \n",
    "        if nums is None or len(nums) == 0:\n",
    "            return None\n",
    "        elif len(nums) == 1:\n",
    "            return TreeNode(nums[0])\n",
    "        else:\n",
    "            n = len(nums)\n",
    "            k = n//2\n",
    "            val = nums[k]\n",
    "            #print (n, k, \"root = \", val)\n",
    "            root = TreeNode(val)\n",
    "            ## preorder traversal: node -> left -> right\n",
    "            # pay attention to the index included or excluded: \n",
    "            root.left =  self.sortedArrayToBST(nums[0:k])\n",
    "            root.right = self.sortedArrayToBST(nums[k+1:n])\n",
    "            return root"
   ]
  },
  {
   "cell_type": "markdown",
   "metadata": {},
   "source": [
    "### 1.1 Results\n",
    "\n",
    "<img src=\"../files/leet-code-108-2020-11-07.png\" alt=\"drawing\" width=\"500\"/>\n"
   ]
  },
  {
   "cell_type": "markdown",
   "metadata": {},
   "source": [
    "### 1.2 Errors You Possibly Make\n",
    "\n",
    "Pay attention to the index included or excluded: with index k as current root position, \n",
    "\n",
    "- the first half will be $0, 1, \\dots, k-1$, thus in Python we use nums[0:k] instead of [0:k-1].\n",
    "- the last half will be $k+1:$ in Python."
   ]
  },
  {
   "cell_type": "markdown",
   "metadata": {},
   "source": [
    "## 2. Solutions and Analysis from `LeetCode Solution`"
   ]
  },
  {
   "cell_type": "markdown",
   "metadata": {},
   "source": [
    "## 2.1 How to Traverse the Tree. DFS: Preorder, Inorder, Postorder; BFS.\n",
    "\n",
    "There are two general strategies to traverse a tree:\n",
    "\n",
    "- Depth First Search (DFS): \n",
    "\n",
    " - In this strategy, we adopt the depth as the priority, so that one would start from a root and reach all the way down to certain leaf, and then back to root to reach another branch.\n",
    "\n",
    " - The DFS strategy can further be distinguished as preorder, inorder, and postorder depending on the relative order among the root node, left node and right node.\n",
    "\n",
    "- Breadth First Search (BFS):\n",
    " - We scan through the tree level by level, following the order of height, from top to bottom. The nodes on higher level would be visited before the ones with lower levels.\n",
    "\n",
    "\n",
    "On the following figure the nodes are enumerated in the order you visit them, please follow 1-2-3-4-5 to compare different strategies.\n",
    "\n",
    "\n",
    "<img src=\"../files/bfs_dfs.png\" alt=\"drawing\" width=\"800\"/>"
   ]
  },
  {
   "cell_type": "markdown",
   "metadata": {},
   "source": [
    "## 2.2 Construct BST from Inorder Traversal: Why the Solution is Not Unique\n",
    "\n",
    "> It's known that inorder traversal of BST is an array sorted in the ascending order.\n",
    "\n",
    "Having sorted array as an input, we could rewrite the problem as `Construct Binary Search Tree from Inorder Traversal`.\n",
    "\n",
    "> Does this problem have a unique solution, i.e. could inorder traversal be used as a unique identifier to encore/decode BST? The answer is no.\n",
    "\n",
    "Here is the funny thing about BST. Inorder traversal is not a unique identifier of BST. At the same time both preorder and postorder traversals are unique identifiers of BST. From these traversals one could restore the inorder one: inorder = sorted(postorder) = sorted(preorder), and inorder + postorder or inorder + preorder are both unique identifiers of whatever binary tree.\n",
    "\n",
    "So, the problem \"sorted array -> BST\" has multiple solutions.\n",
    "\n",
    "<img src=\"../files/bst2.png\" alt=\"drawing\" width=\"800\"/>\n",
    "\n",
    "Here we have an additional condition: the tree should be height-balanced, i.e. the depths of the two subtrees of every node never differ by more than 1.\n",
    "\n",
    "> Does it make the solution to be unique? Still no.\n",
    "\n",
    "<img src=\"../files/height.png\" alt=\"drawing\" width=\"800\"/>\n",
    "\n",
    "Basically, the height-balanced restriction means that at each step one has to `pick up the number in the middle as a root`. That works fine with arrays containing odd number of elements but there is no predefined choice for arrays with `even` number of elements.\n",
    "\n",
    "<img src=\"../files/pick.png\" alt=\"drawing\" width=\"800\"/>"
   ]
  },
  {
   "cell_type": "markdown",
   "metadata": {},
   "source": [
    "One could choose left middle element, or right middle one, and both choices will lead to different height-balanced BSTs. \n",
    "\n",
    "Let's see that in practice: in `Approach 1` we will always pick up left middle element, in Approach 2 - right middle one. That will generate different BSTs but both solutions will be accepted.\n",
    "\n",
    "## 2.3 Approach 1: Preorder Traversal: Always Choose Left Middle Node as a Root\n",
    "\n",
    "**Algorithm**\n",
    "\n",
    "<img src=\"../files/bst_pick_left.png\" alt=\"bst_pick_left\" width=\"600\"/>\n",
    "\n",
    "\n",
    "- Implement helper function `helper(left, right)`, which constructs BST from `nums` elements between indexes `left` and `right`:\n",
    "\n",
    "- If left > right, then there is no elements available for that subtree. Return None.\n",
    "\n",
    " - Pick left middle element: p = (left + right) // 2.\n",
    "\n",
    " - Initiate the root: root = TreeNode(nums[p]).\n",
    " \n",
    " - Compute recursively left and right subtrees: root.left = helper(left, p - 1), root.right = helper(p + 1, right).\n",
    "\n",
    "- Return helper(0, len(nums) - 1).\n",
    "\n"
   ]
  },
  {
   "cell_type": "code",
   "execution_count": 6,
   "metadata": {},
   "outputs": [],
   "source": [
    "# Definition for a binary tree node.\n",
    "class TreeNode(object):\n",
    "     def __init__(self, val=0, left=None, right=None):\n",
    "         self.val = val\n",
    "         self.left = left\n",
    "         self.right = right\n",
    "\n",
    "class Solution:\n",
    "    def sortedArrayToBST(self, nums):\n",
    "        \"\"\"\n",
    "        :type nums: List[int]\n",
    "        :rtype: TreeNode\n",
    "        \"\"\"\n",
    "        def helper(left, right):\n",
    "            if left > right:\n",
    "                return None\n",
    "\n",
    "            # always choose left middle node as a root\n",
    "            p = (left + right) // 2\n",
    "\n",
    "            # preorder traversal: node -> left -> right\n",
    "            root = TreeNode(nums[p])\n",
    "            root.left = helper(left, p - 1)\n",
    "            root.right = helper(p + 1, right)\n",
    "            return root\n",
    "        \n",
    "        return helper(0, len(nums) - 1)"
   ]
  },
  {
   "cell_type": "markdown",
   "metadata": {},
   "source": [
    "**Complexity Analysis**\n",
    "\n",
    "- Time complexity: $\\mathcal{O}(N)$ since we visit each node exactly once.\n",
    "\n",
    "- Space complexity: $\\mathcal{O}(N)$. Here $\\mathcal{O}(N)$ to keep the output, and $\\mathcal{O}(\\log N)$ for the recursion stack."
   ]
  },
  {
   "cell_type": "markdown",
   "metadata": {},
   "source": [
    "<img src=\"../files/leet-code-108-2020-11-07-try2.png\" alt=\"drawing\" width=\"500\"/>"
   ]
  },
  {
   "cell_type": "markdown",
   "metadata": {},
   "source": [
    "## 2.4 Approach 2: Preorder Traversal: Always Choose Right Middle Node as a Root\n",
    "\n",
    "**Algorithm**\n",
    "\n",
    "<img src=\"../files/bst_pick_right.png\" alt=\"drawing\" width=\"600\"/>\n",
    "\n",
    "\n",
    "- Implement helper function `helper(left, right)`, which constructs BST from nums elements between indexes `left` and `right`:\n",
    "\n",
    " - If `left` > `right`, then there is no elements available for that subtree. Return None.\n",
    "\n",
    " - Pick right middle element: \n",
    "  - p = (left + right + 1) // 2.\n",
    "\n",
    " - Initiate the root: root = TreeNode(nums[p]).\n",
    "\n",
    " - Compute recursively left and right subtrees: root.left = helper(left, p - 1), root.right = helper(p + 1, right).\n",
    "\n",
    "- Return helper(0, len(nums) - 1)."
   ]
  },
  {
   "cell_type": "code",
   "execution_count": 2,
   "metadata": {},
   "outputs": [],
   "source": [
    "class Solution:\n",
    "    def sortedArrayToBST(self, nums):        \n",
    "        def helper(left, right):\n",
    "            if left > right:\n",
    "                return None\n",
    "            \n",
    "            # always choose right middle node as a root\n",
    "            p = (left + right + 1) // 2\n",
    "            \n",
    "            # preorder traversal: node -> left -> right\n",
    "            root = TreeNode(nums[p])\n",
    "            root.left = helper(left, p - 1)\n",
    "            root.right = helper(p + 1, right)\n",
    "            return root\n",
    "        \n",
    "        return helper(0, len(nums) - 1)"
   ]
  },
  {
   "cell_type": "markdown",
   "metadata": {},
   "source": [
    "Complexity is the same as before."
   ]
  },
  {
   "cell_type": "code",
   "execution_count": null,
   "metadata": {},
   "outputs": [],
   "source": []
  }
 ],
 "metadata": {
  "kernelspec": {
   "display_name": "Python 3",
   "language": "python",
   "name": "python3"
  },
  "language_info": {
   "codemirror_mode": {
    "name": "ipython",
    "version": 3
   },
   "file_extension": ".py",
   "mimetype": "text/x-python",
   "name": "python",
   "nbconvert_exporter": "python",
   "pygments_lexer": "ipython3",
   "version": "3.7.9"
  }
 },
 "nbformat": 4,
 "nbformat_minor": 4
}
