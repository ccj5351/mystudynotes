{
 "cells": [
  {
   "cell_type": "markdown",
   "metadata": {},
   "source": [
    "\n",
    "## Introduction to Block matching\n",
    "> see this link http://www.diegm.uniud.it/fusiello/teaching/mvg/stereo.pdf\n",
    "> see this link https://www.cs.montana.edu/courses/spring2009/525/presentations/Shahriar1.pdf\n",
    "\n",
    "\n",
    "### Stereo analysis\n",
    "\n",
    "<img src=\"img-WX20190113-211941@2x.png\" width=\"400\">\n",
    "\n",
    "- Find the (corresponding) points $m_l$ and $m_r$ in the two images that are projections of the same 3D point $M$.\n",
    "- **Epipolar constraint** reduces the search to one dimension;\n",
    "- **Rectification** reduces the search along columns;\n",
    "- The horizontal shift of the point is called **disparity**;\n",
    "\n",
    "### Assumption \n",
    "\n",
    "The main underlying assumption that allow to search for conjugate points is that image patches that are projection of the same surface patch are **similar**.\n",
    "\n",
    "This may not be true because of:\n",
    "- **Occlusions**: some points are visible in one image but not in the other\n",
    "- **Non-lambertian lighting effect**: the radiance of nonlambertian surfaces depends on the viewpoint (eg. specular effects)\n",
    "- **Perspective**: the projected shape depends on the viewpoint (eg. Frontal vs slanted)\n",
    "\n",
    "### Constraints\n",
    "\n",
    "- Similarity constraint shown as above:\n",
    "- Epipolar constraint\n",
    "- Uniqueness constraint: a point in one image has at most one corresponding point in the other image (fails with transparent  objects)\n",
    "- Continuity: disparity is piecewise smooth\n",
    "- Ordering constraint. Fails for points in the forbidden zone\n",
    "\n",
    "\n",
    "### Block matching\n",
    "\n",
    "- Estimate disparity at a point by comparing a small region about that point with congruent regions extracted from the other image.\n",
    "- Three classes of metrics used for the comparision:\n",
    " - Correlation (NCC)\n",
    " - Intensity difference (SAD, SSD)\n",
    " - Rank (rank transform, census transform)\n",
    "\n",
    "- Block matching searches one image for the best corresponding region for a template in the other image.\n",
    "- Shift the template along the epipolar line in a predefined disparity range.\n",
    "\n",
    "\n",
    "## Block-matching costs:\n",
    "\n",
    "- NCC (Normalized Cross-Correlation): \n",
    "$$NCC(x,y,d) = \\frac{\\sum_{(x,y) \\in W} (I_L(x , y) - \\mu_L)   \\cdot (I_R(x-d,y) - \\mu_R)}{\\sigma_L \\cdot \\sigma_R \\cdot |W|} $$\n",
    "\n",
    "- SAD (Sum of Absoilute Difference): $$ \\text{SAD}(x,y,d) = \\sum_{(x,y) \\in W} \\lvert I_L(x, y) - I_R(x - d, y) \\rvert $$\n",
    "\n",
    "- Census transform: $$ Census(x,y,d) = \\sum_{ (x,y) \\in W} \\text{H}((s_L(x,y)), s_R(x-d, y)))$$\n",
    "where $H(\\cdot)$ is the hamming distance, and $s(\\cdot)$ is the encoded bit string whether each pixel of the window is greater or less than the central pixel.\n",
    "\n",
    "### Ceusus\n",
    "\n",
    "Census transform is defined in a window:\n",
    "- Encode in a bit string whether each pixel of the window is greater or less than the central pixel\n",
    "- Then compare strings with Hamming distance\n",
    "- Eliminate sensitivity to absolute intensity and to outliers\n",
    "![Alt text|center](census-WX20190113-211259@2x.png)\n",
    "\n",
    "#### Hamming distance: \n",
    "> see Wiki at https://en.wikipedia.org/wiki/Hamming_distance\n",
    "> In information theory, the Hamming distance between two strings of equal length is the number of positions at which the corresponding symbols are different. In other words, it measures the minimum number of substitutions required to change one string into the other, or the minimum number of errors that could have transformed one string into the other. In a more general context, the Hamming distance is one of several string metrics for measuring the edit distance between two sequences. It is named after the American mathematician Richard Hamming (1915-1998)."
   ]
  },
  {
   "cell_type": "markdown",
   "metadata": {},
   "source": [
    "The following is the function hamming_distance(), implemented in Python:"
   ]
  },
  {
   "cell_type": "code",
   "execution_count": 4,
   "metadata": {},
   "outputs": [
    {
     "name": "stdout",
     "output_type": "stream",
     "text": [
      "The hamming distance between 00000011 and 00110001 is : 3\n"
     ]
    }
   ],
   "source": [
    "def hamming_distance(s1, s2):\n",
    "    \"\"\"Return the Hamming distance between equal-length sequences\"\"\"\n",
    "    if len(s1) != len(s2):\n",
    "        raise ValueError(\"Undefined for sequences of unequal length\")\n",
    "    return sum(el1 != el2 for el1, el2 in zip(s1, s2))\n",
    "\n",
    "s1 = \"00000011\"\n",
    "s2 = \"00110001\"\n",
    "r = hamming_distance(s1, s2)\n",
    "print \"The hamming distance between {} and {} is : {}\".format(s1, s2, r)"
   ]
  },
  {
   "cell_type": "code",
   "execution_count": null,
   "metadata": {},
   "outputs": [],
   "source": []
  }
 ],
 "metadata": {
  "kernelspec": {
   "display_name": "Python 2",
   "language": "python",
   "name": "python2"
  },
  "language_info": {
   "codemirror_mode": {
    "name": "ipython",
    "version": 2
   },
   "file_extension": ".py",
   "mimetype": "text/x-python",
   "name": "python",
   "nbconvert_exporter": "python",
   "pygments_lexer": "ipython2",
   "version": "2.7.15"
  }
 },
 "nbformat": 4,
 "nbformat_minor": 2
}
