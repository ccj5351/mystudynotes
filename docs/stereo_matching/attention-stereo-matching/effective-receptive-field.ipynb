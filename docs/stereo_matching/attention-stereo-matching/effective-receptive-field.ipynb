{
 "cells": [
  {
   "cell_type": "markdown",
   "metadata": {},
   "source": [
    "## Receptive Field Calculation (copied)\n",
    "\n",
    "> see https://github.com/rogertrullo/Receptive-Field-in-Pytorch/blob/master/Receptive_Field.ipynb\n",
    "> see https://www.reddit.com/r/MachineLearning/comments/7zibsy/r_guide_on_how_to_calculate_and_visualize_the/duppacq/\n"
   ]
  },
  {
   "cell_type": "markdown",
   "metadata": {},
   "source": [
    "## Analitycal Computation of the Receptive Field (RF) "
   ]
  },
  {
   "cell_type": "markdown",
   "metadata": {},
   "source": [
    "If you have worked a little or you are somewhat familiar with Convolutional Network, you probably have heard about the term receptive field (RF). It is defined as the window size of input voxels that affects one particular output voxel. This hyperparameter is important since it indicates the context size that the network is using in order to compute one particular output voxel. There are some posts that explain more in detail about it, and how to compute it analitycally for simple architectures like AlexNet. Look here for example.\n",
    "\n",
    "To make it more clear I think is better to use a 1D image:\n",
    "\n",
    "<img src=\"../files/RF1.png\" alt=\"drawing\" width=\"700\"/>\n",
    "\n",
    "In this image, I show an input with say $12$ positions, and I will apply $2$ convolutional layers (1D in this case). For each layer we need to define a size and a stride. Here I used a kernel size $F=3$ and a stride $s=1$. We can see that every position in the first output depends on 3 input positions. Now if we apply the second convolution, each position in the final output depends on 5 input positions! You can imgine that adding more layers the RF will keep increasing. How can we compute it? Well, as explained in the linked post, it is easy to compute by finding the necessary input size that produces an output of exactly one voxel. This can be computed by a recursive program which starts at the last layer by setting the output size to one and finding the necessary input size. This size will be used for the previous layer as the desired output and we keep going until the first layer. For a given convolutional (and pooling layer) we have\n",
    "\n",
    "$$ O_{sz}=\\frac{I_{sz}-F}{s}+1 $$\n",
    "\n",
    "where $O_{sz}$ and $I_{sz}$ refer to the output and input sizes, $F$ is the filter (or kernel) size and $s$ is the stride. If we want to compute the RF we first set $O_{sz}=1$ and find the corresponding $I_{sz}$. In this case we would find $I_{sz}=3$. That is the RF of the last layer. Now if we keep going for the additional first layer, now setting $O_{sz}=3$ (the value we just found), we get $I_{sz}=5$. This is the RF of the network of the figure!\n",
    "\n",
    "We can build a simple script to compute this value"
   ]
  },
  {
   "cell_type": "code",
   "execution_count": 1,
   "metadata": {},
   "outputs": [],
   "source": [
    "def compute_N(out,f,s):\n",
    "    return s*(out-1)+f if s>0.5 else ((out+(f-2))/2)+1#\n",
    "\n",
    "def compute_RF(layers):\n",
    "    out=1\n",
    "    for f,s in reversed(layers):\n",
    "        out=compute_N(out,f,s)\n",
    "    return out"
   ]
  },
  {
   "cell_type": "markdown",
   "metadata": {},
   "source": [
    "Here we just pass a list of tuples ($F$,$s$) For example"
   ]
  },
  {
   "cell_type": "code",
   "execution_count": 8,
   "metadata": {},
   "outputs": [
    {
     "data": {
      "text/plain": [
       "35"
      ]
     },
     "execution_count": 8,
     "metadata": {},
     "output_type": "execute_result"
    }
   ],
   "source": [
    "layers=[(9,1),(3,1),(3,1),(3,1),(9,1),(3,1),(3,1),(7,1),(3,1)]\n",
    "compute_RF(layers)"
   ]
  },
  {
   "cell_type": "markdown",
   "metadata": {},
   "source": [
    "## Numerical Computation of the Receptive Field (RF)\n",
    "\n",
    "For that network we find that the RF is 35.\n",
    "\n",
    "But what if the network is very complicated, and it does not have a structred architecture? It can be really tedious to do it analitycally and sometimes just not possible. Turns out there is another way to compute this value `numerically`. In particular, we can use only one output channel in the last layer which we call $f=[f_1,\\dots,f_N]$. Now if we define a dummy loss function $l$ and we set its gradient with respect to $f, i.e., \\nabla_f l$ to be zero everywhere except in a particular location $j$ which for convenience we set to 1:\n",
    "\n",
    "$$\n",
    "\\frac{\\partial l}{\\partial f_i}=\n",
    "\\begin{cases}\n",
    "    0, \\, \\forall i \\neq j \\\\\n",
    "    1, \\, \\text{otherwise}\n",
    "\\end{cases}\n",
    "$$\n",
    "\n",
    "If we perform backpropagation until the input $x=[x_1,\\dots,x_N]$ which is equivalent to compute $\\nabla_x l$ using the chain rule, we would find that $\\frac{\\partial l}{\\partial x_i} \\neq 0$ only if $x_i$ has some effect in $f_j$ which in turn, equals to find the `RF`. To be more precise, we chose the position $j$ to be in the center of the image, we set the weights of the network to be a positive constant ($1$ in our case), and the biases to $0$. This is because we use `ReLUs` as activation functions which would set to zero any negative value. In addition, the `Max-Pooling` layers are changed to `Average-Pooling` in order to avoid sparsity in the gradients.\n",
    "\n",
    "I will show an implementation using PyTorch. Fisrt I implement the same CNN that I defined through the layers list. The code is fairly simple:"
   ]
  },
  {
   "cell_type": "code",
   "execution_count": 11,
   "metadata": {},
   "outputs": [
    {
     "name": "stdout",
     "output_type": "stream",
     "text": [
      "analytical RF: 35\n",
      "[0, 0, 42, 42]\n",
      "numerical RF [35, 35]\n"
     ]
    }
   ],
   "source": [
    "def compute_RF_numerical(net,img_np):\n",
    "    '''\n",
    "    @param net: Pytorch network\n",
    "    @param img_np: numpy array to use as input to the networks, it must be full of ones and with the correct\n",
    "    shape.\n",
    "    '''\n",
    "    def weights_init(m):\n",
    "        classname = m.__class__.__name__\n",
    "        if classname.find('Conv') != -1:\n",
    "            m.weight.data.fill_(1)\n",
    "            m.bias.data.fill_(0)\n",
    "    net.apply(weights_init)\n",
    "    img_ = torch.tensor(img_np.astype(np.float32), requires_grad=True)\n",
    "    out_cnn=net(img_)\n",
    "    out_shape=out_cnn.size()\n",
    "    ndims=len(out_cnn.size())\n",
    "    grad=torch.zeros(out_cnn.size())\n",
    "    l_tmp=[]\n",
    "    for i in range(ndims):\n",
    "        if i==0 or i ==1:#batch or channel\n",
    "            l_tmp.append(0)\n",
    "        else:\n",
    "            l_tmp.append(out_shape[i]//2)\n",
    "    print( l_tmp)       \n",
    "    grad[tuple(l_tmp)]=1\n",
    "    out_cnn.backward(gradient=grad)\n",
    "    grad_np=img_.grad[0,0].data.numpy()\n",
    "    idx_nonzeros=np.where(grad_np!=0)\n",
    "    RF=[np.max(idx)-np.min(idx)+1 for idx in idx_nonzeros]\n",
    "    return RF\n",
    "\n",
    "class my_CNN(nn.Module):\n",
    "    def __init__(self,layer_list):\n",
    "        #layers is a list of tuples [(f,s)]\n",
    "        super(my_CNN, self).__init__()\n",
    "        f_ini,s_ini=layer_list[0]\n",
    "        f_end,s_end=layer_list[-1]\n",
    "        self.layers=[]\n",
    "        self.layers.append(nn.Conv2d(1, 16, kernel_size=f_ini, padding=1,stride=s_ini,dilation=1))\n",
    "        for f,s in layer_list[1:-1]:\n",
    "            self.layers.append(nn.Conv2d(16, 16, kernel_size=f, padding=1,stride=s,dilation=1))\n",
    "            self.layers.append(nn.ReLU(inplace=True))\n",
    "        self.layers.append(nn.Conv2d(16, 1, kernel_size=f_end, padding=1,stride=s_end,dilation=1))\n",
    "        self.all_layers=nn.Sequential(*self.layers)\n",
    "        \n",
    "        \n",
    "    def forward(self, x):\n",
    "        out = self.all_layers(x)\n",
    "        return out\n",
    "###########################################################\n",
    "\n",
    "if __name__ == \"__main__\":\n",
    "    layers = [(9,1),(3,1),(3,1),(3,1),(9,1),(3,1),(3,1),(7,1),(3,1)] \n",
    "    print ('analytical RF:',compute_RF(layers))\n",
    "    mycnn = my_CNN(layers)\n",
    "\n",
    "    img_np=np.ones((1,1,100,100))\n",
    "    print ('numerical RF', compute_RF_numerical(mycnn, img_np))"
   ]
  }
 ],
 "metadata": {
  "kernelspec": {
   "display_name": "Python 3",
   "language": "python",
   "name": "python3"
  },
  "language_info": {
   "codemirror_mode": {
    "name": "ipython",
    "version": 3
   },
   "file_extension": ".py",
   "mimetype": "text/x-python",
   "name": "python",
   "nbconvert_exporter": "python",
   "pygments_lexer": "ipython3",
   "version": "3.7.2"
  }
 },
 "nbformat": 4,
 "nbformat_minor": 4
}
