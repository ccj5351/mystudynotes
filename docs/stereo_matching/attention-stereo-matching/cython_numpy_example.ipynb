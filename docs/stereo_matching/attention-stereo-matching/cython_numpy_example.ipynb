{
 "cells": [
  {
   "cell_type": "markdown",
   "metadata": {},
   "source": [
    "# An Example of Cython and Numpy\n",
    "\n",
    "> see https://cython.readthedocs.io/en/latest/src/userguide/numpy_tutorial.html#numpy-tutorial"
   ]
  },
  {
   "cell_type": "markdown",
   "metadata": {},
   "source": [
    "## Write the code"
   ]
  },
  {
   "cell_type": "code",
   "execution_count": 3,
   "metadata": {},
   "outputs": [
    {
     "ename": "SyntaxError",
     "evalue": "invalid syntax (<ipython-input-3-f737de3de595>, line 4)",
     "output_type": "error",
     "traceback": [
      "\u001b[0;36m  File \u001b[0;32m\"<ipython-input-3-f737de3de595>\"\u001b[0;36m, line \u001b[0;32m4\u001b[0m\n\u001b[0;31m    cimport cython\u001b[0m\n\u001b[0m                 ^\u001b[0m\n\u001b[0;31mSyntaxError\u001b[0m\u001b[0;31m:\u001b[0m invalid syntax\n"
     ]
    }
   ],
   "source": [
    "# cython: infer_types=True\n",
    "from __future__ import print_function\n",
    "import numpy as np\n",
    "cimport cython\n",
    "#The primitive types supported are tied closely to those in C:\n",
    "ctypedef float MY_DTYPE # means float in C type\n",
    "\n",
    "# cdef means here that this function is a plain C function (so faster).\n",
    "# To get all the benefits, we type the arguments and the return value.\n",
    "cdef float clip(float a, float min_value, float max_value):\n",
    "    return min(max(a, min_value), max_value)\n",
    "\n",
    "@cython.boundscheck(False)\n",
    "@cython.wraparound(False)\n",
    "\n",
    "#For extra speed gains, if you know that the NumPy arrays \n",
    "#you are providing are contiguous in memory, you can \n",
    "#declare the memoryview as contiguous. \n",
    "    \n",
    "#We give an example on an array that has 3 dimensions. \n",
    "#If you want to give Cython the information that the \n",
    "#data is C-contiguous you have to declare the memoryview like this:\n",
    "#cdef int [:,:,::1] a\n",
    "\n",
    "\n",
    "#The cdef statement is used to declare C variables, either local or module-level:\n",
    "def writeKT15FalseColor(MY_DTYPE [:,::1] array_disp):\n",
    "    clr_map = np.array(\n",
    "            [[0,0,0,114],[0,0,1,185],[1,0,0,114],[1,0,1,174],\n",
    "             [0,1,0,114],[0,1,1,185],[1,1,0,114],[1,1,1,0],], \n",
    "            dtype=np.float32)\n",
    "    \n",
    "    cdef MY_DTYPE[:,::1] clr_map_view = clr_map\n",
    "    \n",
    "    cdef float mySum = .0\n",
    "    cdef Py_ssize_t i, j, k\n",
    "    \n",
    "    for i in range(0,8):\n",
    "        mySum += clr_map_view[i][3]\n",
    "    \n",
    "    weights = np.zeros((8), dtype = np.float32)\n",
    "    cumsum  = np.zeros((8), dtype = np.float32)\n",
    "    cdef MY_DTYPE [::1] weights_view = weights\n",
    "    cdef MY_DTYPE [::1] cumsum_view = cumsum\n",
    "    \n",
    "    for i in range(0,7):\n",
    "        weights_view[i] = mySum / clr_map_view[i,3]\n",
    "        cumsum_view[i+1] = cumsum_view[i] + clr_map_view[i,3] / mySum\n",
    "    #print ('weights: ', weights)\n",
    "    #print ('cumsum: ', cumsum)\n",
    "\n",
    "    cdef Py_ssize_t h = array_disp.shape[0]\n",
    "    cdef Py_ssize_t w = array_disp.shape[1]\n",
    "    cdef float max_val = -1.0\n",
    "    for i in range(h):\n",
    "        for j in range(w):\n",
    "            if max_val < array_disp[i,j]:\n",
    "                max_val = array_disp[i,j]\n",
    "    #print (\"max_val = \", max_val)\n",
    "\n",
    "    disp_out = np.zeros([h, w, 3], dtype=np.float32)\n",
    "    cdef MY_DTYPE[:,:,::1] disp_out_view = disp_out\n",
    "    cdef MY_DTYPE tmp_w\n",
    "    for i in range(0, h):\n",
    "        for j in range(0, w):\n",
    "            # get normalized value\n",
    "            val = clip(array_disp[i,j]/ max_val, .0, 1.0)\n",
    "            # find bin;\n",
    "            for k in range(0,7):\n",
    "                if val < cumsum_view[k+1]:\n",
    "                    #print (i,j,k, val, cumsum[k+1])\n",
    "                    break\n",
    "            # compute red/green/blue values\n",
    "            tmp_w = 1.0 - (val-cumsum_view[k]) * weights_view[k]\n",
    "            # r, g, b\n",
    "            disp_out_view[i,j, 0] = (tmp_w*clr_map_view[k, 0] + (1.0-tmp_w)*clr_map_view[k+1,0])*255.0\n",
    "            disp_out_view[i,j, 1] = (tmp_w*clr_map_view[k, 1] + (1.0-tmp_w)*clr_map_view[k+1,1])*255.0\n",
    "            disp_out_view[i,j, 2] = (tmp_w*clr_map_view[k, 2] + (1.0-tmp_w)*clr_map_view[k+1,2])*255.0\n",
    "            #if i == 200 and j == 300:\n",
    "                #print ('disp_out[200,300] = ', disp_out[i,j,:])\n",
    "                #print (i,j,k, val, cumsum[k+1])\n",
    "    return disp_out"
   ]
  },
  {
   "cell_type": "code",
   "execution_count": 2,
   "metadata": {},
   "outputs": [
    {
     "ename": "SyntaxError",
     "evalue": "invalid syntax (<ipython-input-2-a2eb2b88b9c0>, line 13)",
     "output_type": "error",
     "traceback": [
      "\u001b[0;36m  File \u001b[0;32m\"<ipython-input-2-a2eb2b88b9c0>\"\u001b[0;36m, line \u001b[0;32m13\u001b[0m\n\u001b[0;31m    cimport cython\u001b[0m\n\u001b[0m                 ^\u001b[0m\n\u001b[0;31mSyntaxError\u001b[0m\u001b[0;31m:\u001b[0m invalid syntax\n"
     ]
    }
   ],
   "source": [
    "# !/usr/bin/env python3\n",
    "# -*-coding:utf-8-*-\n",
    "# @file: writeKT15ErrorLogColor.pyx\n",
    "# @brief:\n",
    "# @author: Changjiang Cai, ccai1@stevens.edu, caicj5351@gmail.com\n",
    "# @version: 0.0.1\n",
    "# @creation date: 28-10-2019\n",
    "# @last modified: Mon 28 Oct 2019 07:21:09 PM EDT\n",
    "\n",
    "# cython: infer_types=True\n",
    "from __future__ import print_function\n",
    "import numpy as np\n",
    "cimport cython\n",
    "from libc.math cimport fabs # fabs() from <cmath>;\n",
    "#The primitive types supported are tied closely to those in C:\n",
    "ctypedef float MY_DTYPE # means float in C type\n",
    "\n",
    "@cython.boundscheck(False)\n",
    "@cython.wraparound(False)\n",
    "\n",
    "#For extra speed gains, if you know that the NumPy arrays \n",
    "#you are providing are contiguous in memory, you can \n",
    "#declare the memoryview as contiguous. \n",
    "    \n",
    "#We give an example on an array that has 3 dimensions. \n",
    "#If you want to give Cython the information that the \n",
    "#data is C-contiguous you have to declare the memoryview like this:\n",
    "#cdef int [:,:,::1] a\n",
    "\n",
    "#The cdef statement is used to declare C variables, either local or module-level:\n",
    "#NOTE:The code is adopted from the C/C++ code provided by KITTI15 official website;\n",
    "def writeKT15ErrorDispLogColor(\n",
    "        MY_DTYPE [:,::1] array_disp, # prediciton\n",
    "        MY_DTYPE [:,::1] array_disp_gt # ground truth\n",
    "        ):\n",
    "    # size: [10,5]\n",
    "    log_clr_map = np.array(\n",
    "           [[0,0.0625,49,54,149],\n",
    "            [0.0625,0.125,69,117,180],\n",
    "            [0.125,0.25,116,173,209],\n",
    "            [0.25,0.5,171,217,233],\n",
    "            [0.5,1,224,243,248],\n",
    "            [1,2,254,224,144],\n",
    "            [2,4,253,174,97],\n",
    "            [4,8,244,109,67],\n",
    "            [8,16,215,48,39],\n",
    "            [16,1000000000.0,165,0,38]\n",
    "           ],dtype=np.float32)\n",
    "    \n",
    "    cdef MY_DTYPE[:,::1] log_clr_map_view = log_clr_map\n",
    "    cdef Py_ssize_t h = array_disp.shape[0]\n",
    "    cdef Py_ssize_t w = array_disp.shape[1]\n",
    "    cdef Py_ssize_t i, v,u,v2,u2\n",
    "    cdef float val_red = .0, val_gre = .0, val_blu = .0, d_err, d_mag, n_err\n",
    "    disp_err = np.zeros([h, w, 3], dtype=np.float32)\n",
    "    cdef MY_DTYPE[:,:,::1] disp_err_view = disp_err\n",
    "    for v in range(1, h-1):\n",
    "        for u in range(1, w-1):\n",
    "            if array_disp_gt[v,u] > 0: # if valid\n",
    "                d_err = fabs(array_disp[v,u] - array_disp_gt[v,u])\n",
    "                d_mag = fabs(array_disp_gt[v,u])\n",
    "                n_err = min(d_err / 3.0, 20.0*d_err/d_mag)\n",
    "                for i in range(0, 10):\n",
    "                    if (n_err >= log_clr_map_view[i,0]) and (n_err < log_clr_map_view[i,1]):\n",
    "                        val_red = log_clr_map_view[i,2]\n",
    "                        val_gre = log_clr_map_view[i,3]\n",
    "                        val_blu = log_clr_map_view[i,4]\n",
    "                disp_err_view[v,u,0] = val_red\n",
    "                disp_err_view[v,u,1] = val_gre\n",
    "                disp_err_view[v,u,2] = val_blu\n",
    "    return disp_err"
   ]
  },
  {
   "cell_type": "markdown",
   "metadata": {},
   "source": [
    "## Write a setup file"
   ]
  },
  {
   "cell_type": "code",
   "execution_count": 4,
   "metadata": {},
   "outputs": [
    {
     "ename": "ValueError",
     "evalue": "'writeKT15FalseColor.pyx' doesn't match any files",
     "output_type": "error",
     "traceback": [
      "\u001b[0;31m---------------------------------------------------------------------------\u001b[0m",
      "\u001b[0;31mValueError\u001b[0m                                Traceback (most recent call last)",
      "\u001b[0;32m<ipython-input-4-9a254bca82eb>\u001b[0m in \u001b[0;36m<module>\u001b[0;34m\u001b[0m\n\u001b[1;32m      6\u001b[0m \u001b[0;34m\u001b[0m\u001b[0m\n\u001b[1;32m      7\u001b[0m setup(\n\u001b[0;32m----> 8\u001b[0;31m         \u001b[0mext_modules\u001b[0m \u001b[0;34m=\u001b[0m \u001b[0mcythonize\u001b[0m\u001b[0;34m(\u001b[0m\u001b[0mext_modules\u001b[0m\u001b[0;34m)\u001b[0m\u001b[0;34m\u001b[0m\u001b[0;34m\u001b[0m\u001b[0m\n\u001b[0m\u001b[1;32m      9\u001b[0m     )\n",
      "\u001b[0;32m/usr/local/lib/python3.7/site-packages/Cython/Build/Dependencies.py\u001b[0m in \u001b[0;36mcythonize\u001b[0;34m(module_list, exclude, nthreads, aliases, quiet, force, language, exclude_failures, **options)\u001b[0m\n\u001b[1;32m    965\u001b[0m         \u001b[0mexclude_failures\u001b[0m\u001b[0;34m=\u001b[0m\u001b[0mexclude_failures\u001b[0m\u001b[0;34m,\u001b[0m\u001b[0;34m\u001b[0m\u001b[0;34m\u001b[0m\u001b[0m\n\u001b[1;32m    966\u001b[0m         \u001b[0mlanguage\u001b[0m\u001b[0;34m=\u001b[0m\u001b[0mlanguage\u001b[0m\u001b[0;34m,\u001b[0m\u001b[0;34m\u001b[0m\u001b[0;34m\u001b[0m\u001b[0m\n\u001b[0;32m--> 967\u001b[0;31m         aliases=aliases)\n\u001b[0m\u001b[1;32m    968\u001b[0m     \u001b[0mdeps\u001b[0m \u001b[0;34m=\u001b[0m \u001b[0mcreate_dependency_tree\u001b[0m\u001b[0;34m(\u001b[0m\u001b[0mctx\u001b[0m\u001b[0;34m,\u001b[0m \u001b[0mquiet\u001b[0m\u001b[0;34m=\u001b[0m\u001b[0mquiet\u001b[0m\u001b[0;34m)\u001b[0m\u001b[0;34m\u001b[0m\u001b[0;34m\u001b[0m\u001b[0m\n\u001b[1;32m    969\u001b[0m     \u001b[0mbuild_dir\u001b[0m \u001b[0;34m=\u001b[0m \u001b[0mgetattr\u001b[0m\u001b[0;34m(\u001b[0m\u001b[0moptions\u001b[0m\u001b[0;34m,\u001b[0m \u001b[0;34m'build_dir'\u001b[0m\u001b[0;34m,\u001b[0m \u001b[0;32mNone\u001b[0m\u001b[0;34m)\u001b[0m\u001b[0;34m\u001b[0m\u001b[0;34m\u001b[0m\u001b[0m\n",
      "\u001b[0;32m/usr/local/lib/python3.7/site-packages/Cython/Build/Dependencies.py\u001b[0m in \u001b[0;36mcreate_extension_list\u001b[0;34m(patterns, exclude, ctx, aliases, quiet, language, exclude_failures)\u001b[0m\n\u001b[1;32m    810\u001b[0m             \u001b[0;32mraise\u001b[0m \u001b[0mTypeError\u001b[0m\u001b[0;34m(\u001b[0m\u001b[0mmsg\u001b[0m\u001b[0;34m)\u001b[0m\u001b[0;34m\u001b[0m\u001b[0;34m\u001b[0m\u001b[0m\n\u001b[1;32m    811\u001b[0m \u001b[0;34m\u001b[0m\u001b[0m\n\u001b[0;32m--> 812\u001b[0;31m         \u001b[0;32mfor\u001b[0m \u001b[0mfile\u001b[0m \u001b[0;32min\u001b[0m \u001b[0mnonempty\u001b[0m\u001b[0;34m(\u001b[0m\u001b[0msorted\u001b[0m\u001b[0;34m(\u001b[0m\u001b[0mextended_iglob\u001b[0m\u001b[0;34m(\u001b[0m\u001b[0mfilepattern\u001b[0m\u001b[0;34m)\u001b[0m\u001b[0;34m)\u001b[0m\u001b[0;34m,\u001b[0m \u001b[0;34m\"'%s' doesn't match any files\"\u001b[0m \u001b[0;34m%\u001b[0m \u001b[0mfilepattern\u001b[0m\u001b[0;34m)\u001b[0m\u001b[0;34m:\u001b[0m\u001b[0;34m\u001b[0m\u001b[0;34m\u001b[0m\u001b[0m\n\u001b[0m\u001b[1;32m    813\u001b[0m             \u001b[0;32mif\u001b[0m \u001b[0mos\u001b[0m\u001b[0;34m.\u001b[0m\u001b[0mpath\u001b[0m\u001b[0;34m.\u001b[0m\u001b[0mabspath\u001b[0m\u001b[0;34m(\u001b[0m\u001b[0mfile\u001b[0m\u001b[0;34m)\u001b[0m \u001b[0;32min\u001b[0m \u001b[0mto_exclude\u001b[0m\u001b[0;34m:\u001b[0m\u001b[0;34m\u001b[0m\u001b[0;34m\u001b[0m\u001b[0m\n\u001b[1;32m    814\u001b[0m                 \u001b[0;32mcontinue\u001b[0m\u001b[0;34m\u001b[0m\u001b[0;34m\u001b[0m\u001b[0m\n",
      "\u001b[0;32m/usr/local/lib/python3.7/site-packages/Cython/Build/Dependencies.py\u001b[0m in \u001b[0;36mnonempty\u001b[0;34m(it, error_msg)\u001b[0m\n\u001b[1;32m    109\u001b[0m         \u001b[0;32myield\u001b[0m \u001b[0mvalue\u001b[0m\u001b[0;34m\u001b[0m\u001b[0;34m\u001b[0m\u001b[0m\n\u001b[1;32m    110\u001b[0m     \u001b[0;32mif\u001b[0m \u001b[0mempty\u001b[0m\u001b[0;34m:\u001b[0m\u001b[0;34m\u001b[0m\u001b[0;34m\u001b[0m\u001b[0m\n\u001b[0;32m--> 111\u001b[0;31m         \u001b[0;32mraise\u001b[0m \u001b[0mValueError\u001b[0m\u001b[0;34m(\u001b[0m\u001b[0merror_msg\u001b[0m\u001b[0;34m)\u001b[0m\u001b[0;34m\u001b[0m\u001b[0;34m\u001b[0m\u001b[0m\n\u001b[0m\u001b[1;32m    112\u001b[0m \u001b[0;34m\u001b[0m\u001b[0m\n\u001b[1;32m    113\u001b[0m \u001b[0;34m\u001b[0m\u001b[0m\n",
      "\u001b[0;31mValueError\u001b[0m: 'writeKT15FalseColor.pyx' doesn't match any files"
     ]
    }
   ],
   "source": [
    "from distutils.core import setup\n",
    "from Cython.Build import cythonize\n",
    "from distutils.extension import Extension\n",
    "\n",
    "ext_modules = [Extension('writeKT15FalseColor', ['writeKT15FalseColor.pyx'])]\n",
    "\n",
    "setup(\n",
    "        ext_modules = cythonize(ext_modules)\n",
    "    )"
   ]
  },
  {
   "cell_type": "markdown",
   "metadata": {},
   "source": [
    "## Compile it"
   ]
  },
  {
   "cell_type": "markdown",
   "metadata": {},
   "source": [
    "```\n",
    "MY_PYTHON=python3\n",
    "rm ./__init__.py\n",
    "rm ./__init__.pyc\n",
    "rm *.so\n",
    "rm *.c\n",
    "$MY_PYTHON ./setup_KT15ErrLogColor.py clean\n",
    "rm -rf build\n",
    "$MY_PYTHON ./setup_KT15ErrLogColor.py build_ext --inplace\n",
    "\n",
    "\n",
    "$MY_PYTHON ./setup_KT15FalseColor.py clean\n",
    "rm -rf build\n",
    "$MY_PYTHON ./setup_KT15FalseColor.py build_ext --inplace\n",
    "\n",
    "cp ../__init__.py ./\n",
    "```"
   ]
  },
  {
   "cell_type": "markdown",
   "metadata": {},
   "source": [
    "## Use the `.so` lib in Python Code"
   ]
  },
  {
   "cell_type": "code",
   "execution_count": 5,
   "metadata": {},
   "outputs": [
    {
     "ename": "ImportError",
     "evalue": "cannot import name 'writeKT15FalseColor' from 'cython' (/usr/local/lib/python3.7/site-packages/cython.py)",
     "output_type": "error",
     "traceback": [
      "\u001b[0;31m---------------------------------------------------------------------------\u001b[0m",
      "\u001b[0;31mImportError\u001b[0m                               Traceback (most recent call last)",
      "\u001b[0;32m<ipython-input-5-7954f3bb94db>\u001b[0m in \u001b[0;36m<module>\u001b[0;34m\u001b[0m\n\u001b[0;32m----> 1\u001b[0;31m \u001b[0;32mfrom\u001b[0m \u001b[0mcython\u001b[0m \u001b[0;32mimport\u001b[0m \u001b[0mwriteKT15FalseColor\u001b[0m \u001b[0;32mas\u001b[0m \u001b[0mKT15FalseClr\u001b[0m\u001b[0;34m\u001b[0m\u001b[0;34m\u001b[0m\u001b[0m\n\u001b[0m\u001b[1;32m      2\u001b[0m \u001b[0;32mfrom\u001b[0m \u001b[0mcython\u001b[0m \u001b[0;32mimport\u001b[0m \u001b[0mwriteKT15ErrorLogColor\u001b[0m \u001b[0;32mas\u001b[0m \u001b[0mKT15LogClr\u001b[0m\u001b[0;34m\u001b[0m\u001b[0;34m\u001b[0m\u001b[0m\n\u001b[1;32m      3\u001b[0m \u001b[0;32mif\u001b[0m \u001b[0m__name__\u001b[0m \u001b[0;34m==\u001b[0m \u001b[0;34m\"__main__\"\u001b[0m\u001b[0;34m:\u001b[0m\u001b[0;34m\u001b[0m\u001b[0;34m\u001b[0m\u001b[0m\n\u001b[1;32m      4\u001b[0m         \u001b[0msince\u001b[0m \u001b[0;34m=\u001b[0m \u001b[0mtime\u001b[0m\u001b[0;34m.\u001b[0m\u001b[0mtime\u001b[0m\u001b[0;34m(\u001b[0m\u001b[0;34m)\u001b[0m\u001b[0;34m\u001b[0m\u001b[0;34m\u001b[0m\u001b[0m\n\u001b[1;32m      5\u001b[0m         \u001b[0;32mfor\u001b[0m \u001b[0mi\u001b[0m \u001b[0;32min\u001b[0m \u001b[0mrange\u001b[0m\u001b[0;34m(\u001b[0m\u001b[0;36m5\u001b[0m\u001b[0;34m,\u001b[0m\u001b[0;36m6\u001b[0m\u001b[0;34m)\u001b[0m\u001b[0;34m:\u001b[0m\u001b[0;34m\u001b[0m\u001b[0;34m\u001b[0m\u001b[0m\n",
      "\u001b[0;31mImportError\u001b[0m: cannot import name 'writeKT15FalseColor' from 'cython' (/usr/local/lib/python3.7/site-packages/cython.py)"
     ]
    }
   ],
   "source": [
    "from cython import writeKT15FalseColor as KT15FalseClr\n",
    "from cython import writeKT15ErrorLogColor as KT15LogClr\n",
    "if __name__ == \"__main__\":\n",
    "        since = time.time()\n",
    "        for i in range(5,6):\n",
    "            disp_gt = readPFM('/data/ccjData/datasets/KITTI-2015/training/disp_occ_0_pfm/%06d_10.pfm' %i)\n",
    "            disp_gt[disp_gt == np.inf] = .0\n",
    "            #disp = readPFM('/media/ccjData2/research-projects/GCNet/results/gcnet-F8-RMSp-sfF3k-epo31-4dsConv-k5-testKT15/disp-epo-030/%06d_10.pfm' %i)\n",
    "            disp = readPFM('/home/ccj/atten-stereo/results/ganet-sfepo10-kt15epo100/val-30/%06d_10.pfm' %i)\n",
    "            disp[disp == np.inf] = .0\n",
    "            rst_disp = KT15FalseClr.writeKT15FalseColor(disp).astype(np.uint8)\n",
    "            rst_disp_gt = KT15FalseClr.writeKT15FalseColor(disp_gt).astype(np.uint8)\n",
    "            show_uint8(rst_disp, title = 'disp_kt15_false_color')\n",
    "            show_uint8(rst_disp_gt, title = 'disp_gt_kt15_false_color')\n",
    "            err = np.abs(disp_gt - disp)\n",
    "            rst_err = KT15LogClr.writeKT15ErrorDispLogColor(disp, disp_gt)\n",
    "            show_uint8(rst_err, title = 'err_kt15_log_color')\n",
    "            show(err, title = 'err gray color')\n",
    "\n",
    "        time_elapsed = time.time() - since\n",
    "        print('Training complete in {:.0f}s'.format(time_elapsed))"
   ]
  },
  {
   "cell_type": "markdown",
   "metadata": {},
   "source": [
    "## Note:\n",
    "\n",
    "The above cannot be run, but the code itself is right."
   ]
  }
 ],
 "metadata": {
  "kernelspec": {
   "display_name": "Python 3",
   "language": "python",
   "name": "python3"
  },
  "language_info": {
   "codemirror_mode": {
    "name": "ipython",
    "version": 3
   },
   "file_extension": ".py",
   "mimetype": "text/x-python",
   "name": "python",
   "nbconvert_exporter": "python",
   "pygments_lexer": "ipython3",
   "version": "3.7.2"
  }
 },
 "nbformat": 4,
 "nbformat_minor": 4
}
