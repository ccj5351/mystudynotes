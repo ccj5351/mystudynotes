{
 "cells": [
  {
   "cell_type": "markdown",
   "metadata": {},
   "source": [
    "## im2col from pyinn\n",
    "> see original code at https://github.com/szagoruyko/pyinn/pyinn/im2col.py\n",
    "> see updated one by CCJ at https://github.com/ccj5351/pyinn/blob/master/src/im2col.py"
   ]
  },
  {
   "cell_type": "markdown",
   "metadata": {},
   "source": [
    "The code is saved at `~/atten-stereo/debug/im2col_pyinn.py`, shown below:\n",
    "\n",
    "```python\n",
    "import torch\n",
    "from src.tools.pyinn import im2col as P\n",
    "import time\n",
    "from src.modules.im2col import im2col_layer\n",
    "\n",
    "if __name__ == '__main__':\n",
    "    N,C,H,W = 20,64,64,128\n",
    "    x = torch.randn(N,C,H,W).cuda()\n",
    "    k = 11\n",
    "    d = 1\n",
    "    pad = d * (k - 1) // 2\n",
    "    s = (1,1)\n",
    "    t0 = time.time()\n",
    "    test_N = 10000\n",
    "    if 1:\n",
    "        for _ in range(0, test_N):\n",
    "            y1 = P.im2col(x, (k, k), s, pad)\n",
    "        print (y1.shape)\n",
    "        t = time.time() - t0\n",
    "        print ('Total = {:.3f}, avg time = {:.6f} /step'.format(\n",
    "            t, t/test_N))\n",
    "\n",
    "    if 1: \n",
    "        t0 = time.time()\n",
    "        for _ in range(0, test_N):\n",
    "            y2 = im2col_layer(k, d, True)(x).view(N, C, k, k, H, W)\n",
    "        print (y2.shape)\n",
    "        t = time.time() - t0\n",
    "        print ('Total = {:.3f}, avg time = {:.6f} /step'.format(\n",
    "            t, t/test_N))\n",
    "    print (torch.sum(y1 - y2))\n",
    "```\n",
    "\n",
    "We can run it via\n",
    "\n",
    "```\n",
    "cd ~/atten-stereo/\n",
    "python3 -m debug.im2col_pyinn\n",
    "```"
   ]
  },
  {
   "cell_type": "code",
   "execution_count": 12,
   "metadata": {},
   "outputs": [
    {
     "name": "stdout",
     "output_type": "stream",
     "text": [
      "pwd =  /home/ccj/atten-stereo\n"
     ]
    }
   ],
   "source": [
    "#cd ~/atten-stereo/\n",
    "import os\n",
    "os.chdir('/home/ccj/atten-stereo/')\n",
    "print('pwd = ', os.getcwd())\n",
    "#python3 -m debug.im2col_pyinn"
   ]
  },
  {
   "cell_type": "markdown",
   "metadata": {},
   "source": [
    "The result is shown as:\n",
    "```\n",
    "ccj@vision5:~/atten-stereo$ python3 -m debug.im2col_pyinn\n",
    "torch.Size([20, 64, 11, 11, 64, 128])\n",
    "Total = 102.361, avg time = 0.010236 /step # pyinn - im2col()\n",
    "torch.Size([20, 64, 11, 11, 64, 128])\n",
    "Total = 191.888, avg time = 0.019189 /step # PyTorch Unfold to implement m2col()\n",
    "tensor(0., device='cuda:0')\n",
    "```"
   ]
  }
 ],
 "metadata": {
  "kernelspec": {
   "display_name": "Python 3",
   "language": "python",
   "name": "python3"
  },
  "language_info": {
   "codemirror_mode": {
    "name": "ipython",
    "version": 3
   },
   "file_extension": ".py",
   "mimetype": "text/x-python",
   "name": "python",
   "nbconvert_exporter": "python",
   "pygments_lexer": "ipython3",
   "version": "3.7.2"
  }
 },
 "nbformat": 4,
 "nbformat_minor": 4
}
