{
 "cells": [
  {
   "cell_type": "markdown",
   "metadata": {},
   "source": [
    "## implement img2col via tf.image.extract_image_patches in TensorFlow  \n",
    "\n",
    "> see this stackoverflow question [Implementing im2col in TensorFlow](https://stackoverflow.com/questions/45553929/implementing-im2col-in-tensorflow)  "
   ]
  },
  {
   "cell_type": "code",
   "execution_count": 1,
   "metadata": {},
   "outputs": [
    {
     "name": "stderr",
     "output_type": "stream",
     "text": [
      "/home/ccj/.local/lib/python2.7/site-packages/h5py/__init__.py:36: FutureWarning: Conversion of the second argument of issubdtype from `float` to `np.floating` is deprecated. In future, it will be treated as `np.float64 == np.dtype(float).type`.\n",
      "  from ._conv import register_converters as _register_converters\n"
     ]
    },
    {
     "name": "stdout",
     "output_type": "stream",
     "text": [
      "err =  0.0\n",
      "image_patches shape =  [ 1 10 10 18]\n",
      "input image[0, 0:3,0:3,:]  =  [[[ 0  1]\n",
      "  [ 2  3]\n",
      "  [ 4  5]]\n",
      "\n",
      " [[20 21]\n",
      "  [22 23]\n",
      "  [24 25]]\n",
      "\n",
      " [[40 41]\n",
      "  [42 43]\n",
      "  [44 45]]]\n",
      "im2col image_patche[0,1,1,:] =  [ 0.  1.  2.  3.  4.  5. 20. 21. 22. 23. 24. 25. 40. 41. 42. 43. 44. 45.]\n"
     ]
    }
   ],
   "source": [
    "# !/usr/bin/env python3\n",
    "# -*-coding:utf-8-*-\n",
    "# @file: epe_loss_test.py\n",
    "# @brief:\n",
    "# @author: Changjiang Cai, ccai1@stevens.edu, caicj5351@gmail.com\n",
    "# @version: 0.0.1\n",
    "# @creation date: 12-01-2019\n",
    "# @last modified: Thu 28 Feb 2019 12:11:23 AM EST\n",
    "import tensorflow as tf\n",
    "import numpy as np\n",
    "\n",
    "\"\"\" Implementing im2col in TensorFlow \"\"\"\n",
    "# > see https://stackoverflow.com/questions/45553929/implementing-im2col-in-tensorflow;\n",
    "if __name__ == '__main__':\n",
    "    channels = 2\n",
    "    image = np.arange(10 * 10 * channels).reshape(1, 10, 10, channels)\n",
    "    images = tf.convert_to_tensor(image.astype(np.float32))\n",
    "\n",
    "    filter_size = 3\n",
    "    sobel_x = tf.constant([[-1, 0, 1], [-2, 0, 2], [-1, 0, 1]], tf.float32)\n",
    "    # a filter / kernel tensor of shape [filter_height, filter_width, in_channels, out_channels]\n",
    "    sobel_x_filter = tf.reshape(sobel_x, [3, 3, 1, 1])\n",
    "    sobel_x_filter = tf.tile(sobel_x_filter, [1,1,channels,1])\n",
    "\n",
    "    image_patches = tf.extract_image_patches(\n",
    "            images,[1, filter_size, filter_size, 1],\n",
    "            [1, 1, 1, 1], [1, 1, 1, 1],\n",
    "            padding='SAME')\n",
    "\n",
    "    #actual = tf.reduce_sum(tf.multiply(image_patches, tf.reshape(sobel_x_filter, [9])), 3, keep_dims=True)\n",
    "    actual = tf.reduce_sum(tf.multiply(image_patches, tf.reshape(sobel_x_filter, [filter_size*filter_size*channels])), 3, keepdims=True)\n",
    "    expected = tf.nn.conv2d(images, sobel_x_filter, strides=[1, 1, 1, 1], padding='SAME')\n",
    "    res = tf.reduce_sum(expected - actual)\n",
    "\n",
    "    with tf.Session() as sess:\n",
    "            print \"err = \", sess.run(res)\n",
    "            print \"image_patches shape = \", sess.run(tf.shape(image_patches))\n",
    "            print \"input image[0, 0:3,0:3,:]  = \", image[0,0:3,0:3,:]\n",
    "            print \"im2col image_patche[0,1,1,:] = \", sess.run(image_patches)[0,1,1,:]"
   ]
  },
  {
   "cell_type": "markdown",
   "metadata": {},
   "source": [
    "The first $3 \\times 3$ patch is:  \n",
    "![im2col-test](./files/im2col-test.png)\n",
    "\n",
    "The im2col operation will generate:  \n",
    "`image_patche[0,1,1,:] =  [ 0.  1.  2.  3.  4.  5. 20. 21. 22. 23. 24. 25. 40. 41. 42. 43. 44. 45.]`\n",
    "That is `(channels, channels, channels, ..., channels)`"
   ]
  }
 ],
 "metadata": {
  "kernelspec": {
   "display_name": "Python 2",
   "language": "python",
   "name": "python2"
  },
  "language_info": {
   "codemirror_mode": {
    "name": "ipython",
    "version": 2
   },
   "file_extension": ".py",
   "mimetype": "text/x-python",
   "name": "python",
   "nbconvert_exporter": "python",
   "pygments_lexer": "ipython2",
   "version": "2.7.12"
  }
 },
 "nbformat": 4,
 "nbformat_minor": 2
}
