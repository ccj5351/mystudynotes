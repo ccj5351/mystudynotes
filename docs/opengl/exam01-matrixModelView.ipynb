{
 "cells": [
  {
   "cell_type": "markdown",
   "id": "2df441d7-f0ea-4e95-acec-b2c62a17a66e",
   "metadata": {},
   "source": [
    "# OpenGL Transformation with PyOpenGL\n",
    "\n",
    "> Wroten by CCJ on Feb 08, 2023;\n",
    "\n",
    "> see: https://www.songho.ca/opengl/gl_transform.html  \n",
    "> see: https://pythonprogramming.net/opengl-rotating-cube-example-pyopengl-tutorial/  "
   ]
  },
  {
   "cell_type": "markdown",
   "id": "118b75e9-e1e6-452b-acd8-d5b98b15418f",
   "metadata": {},
   "source": [
    "## Model-View Matrix (GL_MODELVIEW)\n",
    "\n",
    "GL_MODELVIEW matrix combines the viewing matrix and modeling matrix into one matrix. In order to transform the view (camera), you need to move the whole scene with the inverse transformation.  **gluLookAt()**  is particularly used to set viewing transform.\n",
    "\n",
    "<img src=\"./data/gl_anglestoaxes01.png\" alt=\"4 columns of GL_MODELVIEW matrix \" width=\"600\"/>\n",
    "\n",
    "The 3 matrix elements of the rightmost column (_$m_{12}$_,  _$m_{13}$_,  _$m_{14}$_) are for the translation transformation,  **glTranslatef()**. The element  _$m_{15}$_  is the  [homogeneous coordinate](https://www.songho.ca/math/homogeneous/homogeneous.html). It is specially used for projective transformation.\n",
    "\n",
    "3 elements sets, ($m_{0}$,  $m_{1}$,  $m_{2}$), ($m_{4}$,  $m_{5}$,  $m_{6}$) and ($m_{8}$,  $m_{9}$,  $m_{10}$) are for Euclidean and affine transformation, such as rotation  **glRotatef()**  or scaling  **glScalef()**. Note that these 3 sets are actually representing 3 orthogonal axes;\n",
    "\n",
    "\n",
    "-   ($m_{0}$,  $m_{1}$,  $m_{2}$): +X axis,  _left_  vector, (1, 0, 0) by default\n",
    "-   ($m_{4}$,  $m_{5}$,  $m_{6}$) : +Y axis,  _up_  vector, (0, 1, 0) by default\n",
    "-   ($m_{8}$,  $m_{9}$,  $m_{10}$) : +Z axis,  _forward_  vector, (0, 0, 1) by default"
   ]
  },
  {
   "cell_type": "markdown",
   "id": "73fe5436-48f8-4902-b41f-b2a3dcbd6c40",
   "metadata": {},
   "source": [
    "### Demo with PyOpenGL\n",
    "\n",
    "This demo application shows how to manipulate GL_MODELVIEW matrix by translation and rotation transforms."
   ]
  },
  {
   "cell_type": "code",
   "execution_count": null,
   "id": "dad48c75-8bd9-4936-baff-3e6e0b89091f",
   "metadata": {},
   "outputs": [],
   "source": [
    "import OpenGL.GL as gl\n",
    "import OpenGL.GLUT as glut\n",
    "\n",
    "def display():\n",
    "    # Clear the color and depth buffers\n",
    "    gl.glClear(gl.GL_COLOR_BUFFER_BIT | gl.GL_DEPTH_BUFFER_BIT)\n",
    "\n",
    "    # Draw a triangle\n",
    "    gl.glBegin(gl.GL_TRIANGLES)\n",
    "    gl.glVertex2f(0.0, 1.0)\n",
    "    gl.glVertex2f(-1.0, -1.0)\n",
    "    gl.glVertex2f(1.0, -1.0)\n",
    "    gl.glEnd()\n",
    "\n",
    "    # Swap the front and back buffers to display the rendered scene\n",
    "    glut.glutSwapBuffers()\n",
    "\n",
    "# Initialize GLUT\n",
    "glut.glutInit()\n",
    "# Create a window with the specified title\n",
    "glut.glutCreateWindow(\"Triangle\")\n",
    "# Set the display function as the callback for rendering the contents of the window\n",
    "glut.glutDisplayFunc(display)\n",
    "# Start the GLUT main loop\n",
    "glut.glutMainLoop()\n"
   ]
  },
  {
   "cell_type": "code",
   "execution_count": null,
   "id": "02d53ff7-4991-4e43-8650-8e4875973f7f",
   "metadata": {},
   "outputs": [],
   "source": []
  }
 ],
 "metadata": {
  "kernelspec": {
   "display_name": "Python 3 (ipykernel)",
   "language": "python",
   "name": "python3"
  },
  "language_info": {
   "codemirror_mode": {
    "name": "ipython",
    "version": 3
   },
   "file_extension": ".py",
   "mimetype": "text/x-python",
   "name": "python",
   "nbconvert_exporter": "python",
   "pygments_lexer": "ipython3",
   "version": "3.8.10"
  }
 },
 "nbformat": 4,
 "nbformat_minor": 5
}
