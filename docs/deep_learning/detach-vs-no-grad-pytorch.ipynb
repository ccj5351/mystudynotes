{
 "cells": [
  {
   "cell_type": "markdown",
   "metadata": {},
   "source": [
    "# Difference between “detach()” and “with torch.nograd()” in PyTorch?"
   ]
  },
  {
   "cell_type": "markdown",
   "metadata": {},
   "source": [
    "> see: https://stackoverflow.com/questions/56816241/difference-between-detach-and-with-torch-nograd-in-pytorch\n",
    "\n",
    "> see: https://discuss.pytorch.org/t/detach-no-grad-and-requires-grad/16915/10"
   ]
  },
  {
   "cell_type": "markdown",
   "metadata": {},
   "source": [
    "- `tensor.detach()` creates a tensor that shares storage with tensor that does not require grad. It detaches the output from the computational graph. So no gradient will be back-propagated along this variable.\n",
    "\n",
    "- The wrapper with `torch.no_grad()` **temporarily** set all the `requires_grad` flag to false. `torch.no_grad` says that no operation should build the graph.\n",
    "\n",
    "- The difference is that one refers to only a given variable on which it is called. The other affects all operations taking place within the `with` statement. Also, `torch.no_grad` will use less memory because it knows from the beginning that no gradients are needed so it doesn’t need to keep intermediary results."
   ]
  },
  {
   "cell_type": "markdown",
   "metadata": {},
   "source": [
    "See the following code."
   ]
  },
  {
   "cell_type": "code",
   "execution_count": 2,
   "metadata": {},
   "outputs": [],
   "source": [
    "import torch\n",
    "from torchviz import make_dot\n",
    "\n",
    "if 1: # case 1: full one\n",
    "    x=torch.ones(2, requires_grad=True)\n",
    "    y=2*x\n",
    "    z=3+x\n",
    "    r=(y+z).sum()\n",
    "    mydot = make_dot(r)\n",
    "    # if you want to save to png file;\n",
    "    #mydot.format = 'png'\n",
    "    mydot.render(\"./results/no_detach_exam02\")\n",
    "\n",
    "    \n",
    "if 1: # case 2: with detach\n",
    "    x=torch.ones(2, requires_grad=True)\n",
    "    y=2*x\n",
    "    z=3+x.data\n",
    "    r=(y+z).sum()    \n",
    "    mydot = make_dot(r)\n",
    "    # if you want to save to png file;\n",
    "    #mydot.format = 'png'\n",
    "    mydot.render(\"./results/detach_exam01\")\n",
    "\n",
    "if 1: # case 3: with no_grad\n",
    "    x=torch.ones(2, requires_grad=True)\n",
    "    y=2*x\n",
    "    with torch.no_grad():\n",
    "        z = 3+x\n",
    "    r = (y+z).sum()\n",
    "    mydot = make_dot(r)\n",
    "    # if you want to save to png file;\n",
    "    #mydot.format = 'png'\n",
    "    mydot.render(\"./results/with_no_grad_exam03\")"
   ]
  },
  {
   "cell_type": "markdown",
   "metadata": {},
   "source": [
    "- After running the code, the figures are saved as \"./results/*.pdf\" or \"./results/*.png\" files."
   ]
  },
  {
   "cell_type": "markdown",
   "metadata": {},
   "source": [
    "### case 1: full one"
   ]
  },
  {
   "cell_type": "markdown",
   "metadata": {},
   "source": [
    "<img src=\"./results/no_detach_exam02.png\" alt=\"case 1: full\" width=\"300\"/>"
   ]
  },
  {
   "cell_type": "markdown",
   "metadata": {},
   "source": [
    "### case 2: use detach"
   ]
  },
  {
   "cell_type": "markdown",
   "metadata": {},
   "source": [
    "<img src=\"./results/detach_exam01.png\" alt=\"case 2: detach\" width=\"150\"/>"
   ]
  },
  {
   "cell_type": "markdown",
   "metadata": {},
   "source": [
    "### case 3: with no_grad"
   ]
  },
  {
   "cell_type": "markdown",
   "metadata": {},
   "source": [
    "<img src=\"./results/with_no_grad_exam03.png\" alt=\"case 3: with no_grad\" width=\"150\"/>"
   ]
  },
  {
   "cell_type": "code",
   "execution_count": null,
   "metadata": {},
   "outputs": [],
   "source": []
  }
 ],
 "metadata": {
  "kernelspec": {
   "display_name": "Python 3",
   "language": "python",
   "name": "python3"
  },
  "language_info": {
   "codemirror_mode": {
    "name": "ipython",
    "version": 3
   },
   "file_extension": ".py",
   "mimetype": "text/x-python",
   "name": "python",
   "nbconvert_exporter": "python",
   "pygments_lexer": "ipython3",
   "version": "3.7.10"
  }
 },
 "nbformat": 4,
 "nbformat_minor": 4
}
