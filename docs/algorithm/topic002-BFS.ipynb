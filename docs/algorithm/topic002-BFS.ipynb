{
 "cells": [
  {
   "cell_type": "markdown",
   "metadata": {},
   "source": [
    "# Topic 1: Breadth-First Search (BFS)"
   ]
  },
  {
   "cell_type": "markdown",
   "metadata": {},
   "source": [
    "## What BFS can do: A BFS traversal graph G:\n",
    "- Visits all the edges of G\n",
    "- Determines whether G is connected\n",
    "- Computes the connected components of G\n",
    "- Computes a spannin forest of G\n",
    "- `Note:` Find and report a path with the minimum number  of edges between two given vertices;\n",
    "- `Note:` Find a simple cycle in the graph if there is one\n",
    "\n",
    "## Basics:\n",
    "- BFS on a graph with $V$ vertices and $E$ edges takes $O(V+E)$ time. Recall that $\\sum_v deg(v) = 2E$."
   ]
  },
  {
   "cell_type": "markdown",
   "metadata": {},
   "source": [
    "## BFS Algorithm\n",
    "\n",
    "<div align=\"center\"><img src=\"../files/bfs-1.png\" alt=\"drawing\" width=\"800\"/></div>"
   ]
  },
  {
   "cell_type": "markdown",
   "metadata": {
    "jp-MarkdownHeadingCollapsed": true
   },
   "source": [
    "## One Example:\n",
    "<div align=\"center\"><img src=\"../files/bfs-exam1.png\" alt=\"drawing\" width=\"600\"/></div>\n",
    "<div align=\"center\"><img src=\"../files/bfs-exam2.png\" alt=\"drawing\" width=\"600\"/></div>\n",
    "<div align=\"center\"><img src=\"../files/bfs-exam3.png\" alt=\"drawing\" width=\"600\"/></div>"
   ]
  },
  {
   "cell_type": "markdown",
   "metadata": {},
   "source": [
    "## Properties\n",
    "- Notation: $G_s$, connected components of s, (`Note: A connected component of a graph G is a maximal connected subgraph of G`)\n",
    "- Property 1: BFS(G, s) visits all the vertices and edges of $G_s$\n",
    "- Property 2: The discovery edges labeled by BFS(G, s) form a spanning tree $T_s$ of $G_s$\n",
    "- Property 3: For each vertex v in $L_i$: 1) the path of $T_s$ from s to v has i edges; 2) Every path from s to v in $G_s$ has at least i edges\n",
    "\n",
    "- Analysis: \n",
    " - Each vertex is labeled twice: once as UNEXPLORED, and once as VISITED\n",
    " - Each edge is labeled twice: once as UNEXPLORED, and once as DISCOVERY or CROSS\n",
    " - Each vertex is inserted once into a sequence $L_i$\n",
    " - Method incidentEdges() is called once for each vertex\n",
    " - BFS runs in $O(n + m)$ time provided the graph is represented by the adjacency list structure\n",
    "\n",
    "Shown as below:\n",
    "\n",
    "\n",
    "<div align=\"center\"><img src=\"../files/bfs-property.png\" alt=\"drawing\" width=\"700\"/></div>"
   ]
  },
  {
   "cell_type": "markdown",
   "metadata": {},
   "source": [
    "## BFS Application\n",
    "\n",
    "we can specialize the BFS traversal of a graph G to solve the following problems in $O(n + m)$ time\n",
    "- find a path between two given vertices u an z;\n",
    "- Use a stack S to keep track of the path between the start vertex and the current vertex\n",
    "\n",
    "<div align=\"center\"><img src=\"../files/bfs-applicaiton.png\" alt=\"drawing\" width=\"600\"/></div>"
   ]
  },
  {
   "cell_type": "markdown",
   "metadata": {},
   "source": [
    "## DFS vs. BFS\n",
    "\n",
    "<div align=\"center\"><img src=\"../files/dfs-vs-bfs-1.png\" alt=\"drawing\" width=\"600\"/></div>\n",
    "<div align=\"center\"><img src=\"../files/dfs-vs-bfs-2.png\" alt=\"drawing\" width=\"600\"/></div>"
   ]
  },
  {
   "cell_type": "code",
   "execution_count": null,
   "metadata": {},
   "outputs": [],
   "source": []
  }
 ],
 "metadata": {
  "kernelspec": {
   "display_name": "Python 3 (ipykernel)",
   "language": "python",
   "name": "python3"
  },
  "language_info": {
   "codemirror_mode": {
    "name": "ipython",
    "version": 3
   },
   "file_extension": ".py",
   "mimetype": "text/x-python",
   "name": "python",
   "nbconvert_exporter": "python",
   "pygments_lexer": "ipython3",
   "version": "3.12.3"
  }
 },
 "nbformat": 4,
 "nbformat_minor": 4
}
