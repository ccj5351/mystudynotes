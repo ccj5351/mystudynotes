{
 "cells": [
  {
   "cell_type": "markdown",
   "metadata": {},
   "source": [
    "# Leet Code 701: Binary Search Tree\n",
    "\n",
    "```\n",
    "Given the root node of a binary search tree (BST) and a value to be inserted into the tree, insert the value into the BST. Return the root node of the BST after the insertion. It is guaranteed that the new value does not exist in the original BST.\n",
    "\n",
    "Note that there may exist multiple valid ways for the insertion, as long as the tree remains a BST after insertion. You can return any of them.\n",
    "\n",
    "For example, \n",
    "\n",
    "Given the tree:\n",
    "        4\n",
    "       / \\\n",
    "      2   7\n",
    "     / \\\n",
    "    1   3\n",
    "And the value to insert: 5\n",
    "You can return this binary search tree:\n",
    "\n",
    "         4\n",
    "       /   \\\n",
    "      2     7\n",
    "     / \\   /\n",
    "    1   3 5\n",
    "This tree is also valid:\n",
    "\n",
    "         5\n",
    "       /   \\\n",
    "      2     7\n",
    "     / \\   \n",
    "    1   3\n",
    "         \\\n",
    "          4\n",
    "```"
   ]
  },
  {
   "cell_type": "markdown",
   "metadata": {},
   "source": [
    "## BST Definition\n",
    "\n",
    "<div align=\"center\"><img src=\"../files/bst-definition.png\" alt=\"drawing\" width=\"600\"/></div>"
   ]
  },
  {
   "cell_type": "markdown",
   "metadata": {},
   "source": [
    "## Preorder Traversal\n",
    "\n",
    "- A traversal visits the nodes of a tree in a systematic manner\n",
    "- In a preorder traversal, a node is visited before its descendants\n",
    "- Application: print a structured document\n",
    "\n",
    "<div align=\"center\"><img src=\"../files/pre-order.png\" alt=\"drawing\" width=\"600\"/></div>"
   ]
  },
  {
   "cell_type": "markdown",
   "metadata": {},
   "source": [
    "## Postorder Traversal\n",
    "\n",
    "- In a postorder traversal, a node is visited after its descendants\n",
    "- Application: compute space used by files in a directory and its subdirectories\n",
    "\n",
    "<div align=\"center\"><img src=\"../files/post-order.png\" alt=\"drawing\" width=\"600\"/></div>"
   ]
  },
  {
   "cell_type": "markdown",
   "metadata": {},
   "source": [
    "## Inorder Traversal\n",
    "\n",
    "- In an inorder traversal a node is visited after its left subtree and before its right\n",
    "subtree\n",
    "- Application: draw a binary tree\n",
    "\n",
    "<div align=\"center\"> <img src=\"../files/in-order.png\" alt=\"drawing\" width=\"600\"/> </div>\n",
    "\n",
    "### Printing Arithmetic Expressions\n",
    "\n",
    "<div align=\"center\"> <img src=\"../files/print-arithmetic-expression.png\" alt=\"drawing\" width=\"600\"/> </div>"
   ]
  },
  {
   "cell_type": "markdown",
   "metadata": {},
   "source": [
    "## Construct a BST via insert note:"
   ]
  },
  {
   "cell_type": "code",
   "execution_count": 13,
   "metadata": {},
   "outputs": [
    {
     "name": "stdout",
     "output_type": "stream",
     "text": [
      "True\n",
      "True\n",
      "True\n"
     ]
    }
   ],
   "source": [
    "class Node:\n",
    "    def __init__(self, x):\n",
    "        self.left= None\n",
    "        self.right = None\n",
    "        self.val = x\n",
    "\n",
    "def binary_insert(root, node):\n",
    "    if root is None:\n",
    "        root = node\n",
    "        return root\n",
    "    else:\n",
    "        if node.val < root.val:\n",
    "            #if root.left is None:\n",
    "            #    root.left = node\n",
    "            #else:\n",
    "            #    binary_insert(root.left, node)\n",
    "            root.left = binary_insert(root.left, node)\n",
    "        else:\n",
    "            #if root.right is None:\n",
    "            #    root.right = node\n",
    "            #else:\n",
    "            #    binary_insert(root.right, node)\n",
    "            root.right = binary_insert(root.right, node)\n",
    "        return root\n",
    "\n",
    "def in_order_print(root):\n",
    "    if not root:\n",
    "        return\n",
    "    in_order_print(root.left)\n",
    "    print (root.val)\n",
    "    in_order_print(root.right)\n",
    "\n",
    "def pre_order_print(root):\n",
    "    if not root:\n",
    "        return        \n",
    "    print (root.val)\n",
    "    pre_order_print(root.left)\n",
    "    pre_order_print(root.right) \n",
    "\n",
    "r = Node(3)\n",
    "r1 = binary_insert(r, Node(7))\n",
    "r2 = binary_insert(r, Node(1))\n",
    "r3 = binary_insert(r, Node(5))\n",
    "print(r is r1)\n",
    "print(r1 is r2)\n",
    "print(r1 is r3)\n",
    "#     3\n",
    "#    / \\\n",
    "#   1  7\n",
    "#     /\n",
    "#    5"
   ]
  },
  {
   "cell_type": "code",
   "execution_count": 9,
   "metadata": {},
   "outputs": [
    {
     "name": "stdout",
     "output_type": "stream",
     "text": [
      "in order:\n",
      "1\n",
      "3\n",
      "5\n",
      "7\n",
      "pre order\n",
      "3\n",
      "1\n",
      "7\n",
      "5\n"
     ]
    }
   ],
   "source": [
    "print (\"in order:\")\n",
    "in_order_print(r)\n",
    "\n",
    "print (\"pre order\")\n",
    "pre_order_print(r)"
   ]
  }
 ],
 "metadata": {
  "kernelspec": {
   "display_name": "Python 3 (ipykernel)",
   "language": "python",
   "name": "python3"
  },
  "language_info": {
   "codemirror_mode": {
    "name": "ipython",
    "version": 3
   },
   "file_extension": ".py",
   "mimetype": "text/x-python",
   "name": "python",
   "nbconvert_exporter": "python",
   "pygments_lexer": "ipython3",
   "version": "3.12.3"
  }
 },
 "nbformat": 4,
 "nbformat_minor": 4
}
