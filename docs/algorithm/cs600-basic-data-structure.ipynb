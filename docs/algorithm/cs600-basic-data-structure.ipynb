{
 "cells": [
  {
   "cell_type": "markdown",
   "metadata": {},
   "source": [
    "# Stevens CS 600 - (1) : Basic Data Structure\n"
   ]
  },
  {
   "cell_type": "markdown",
   "metadata": {},
   "source": [
    "## The Heap Data Structure\n",
    "### What is Heap\n",
    "- Heap-Order: for every internal node v other than the root, key(v) $\\geq$ key (parent(v)). $\\Longrightarrow $ As a consequence of this property, the keys encountered on a path from the root to an external node of T are in **nondecreasing** order.\n",
    "- Completer Binary Tree : let ha be the height of the heap,  \n",
    " * for $i = 0, \\dots, h-1$, there are $2^i$ nodes of depth $i$;\n",
    " * at depth $h -1$, the internal nodes are to the left of the external nodes. By saying that all the internal nodes on level h-1 are \"to the left\" of the external nodes, we mean that all the internal nodes on this level will be visited before any eternal nodes on this level in an inorder traversal.  \n",
    " * $\\Longrightarrow $ By satisfying this structual prooerty, the heap T is enforced to have as small a height as possible.\n",
    "- height of a heap : a heap storing n keys has height $O(\\log n)$ ( actualy $ h = \\lceil (\\log(n+1) \\rceil$)"
   ]
  },
  {
   "cell_type": "code",
   "execution_count": null,
   "metadata": {},
   "outputs": [],
   "source": []
  }
 ],
 "metadata": {
  "kernelspec": {
   "display_name": "Python 3",
   "language": "python",
   "name": "python3"
  },
  "language_info": {
   "codemirror_mode": {
    "name": "ipython",
    "version": 3
   },
   "file_extension": ".py",
   "mimetype": "text/x-python",
   "name": "python",
   "nbconvert_exporter": "python",
   "pygments_lexer": "ipython3",
   "version": "3.7.9"
  }
 },
 "nbformat": 4,
 "nbformat_minor": 4
}
