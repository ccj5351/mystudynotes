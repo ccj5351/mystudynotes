{
 "cells": [
  {
   "cell_type": "markdown",
   "metadata": {},
   "source": [
    "# Sorting"
   ]
  },
  {
   "cell_type": "markdown",
   "metadata": {},
   "source": [
    "## Quick Sort\n",
    "\n",
    "<img src=\"../files/quicksort-0.png\" alt=\"drawing\" width=\"600\"/>\n",
    "\n",
    "See the following code:"
   ]
  },
  {
   "cell_type": "code",
   "execution_count": 3,
   "metadata": {},
   "outputs": [
    {
     "data": {
      "text/plain": [
       "[1, 3, 4, 5, 6, 7, 12, 15]"
      ]
     },
     "execution_count": 3,
     "metadata": {},
     "output_type": "execute_result"
    }
   ],
   "source": [
    "# > see the code at https://stackoverflow.com/questions/18262306/quicksort-with-python\n",
    "def sort(array=[12,4,5,6,7,3,1,15]):\n",
    "    \"\"\"Sort the array by using quicksort.\"\"\"\n",
    "\n",
    "    less = []\n",
    "    equal = []\n",
    "    greater = []\n",
    "\n",
    "    if len(array) > 1:\n",
    "        pivot = array[0]\n",
    "        for x in array:\n",
    "            if x < pivot:\n",
    "                less.append(x)\n",
    "            elif x == pivot:\n",
    "                equal.append(x)\n",
    "            elif x > pivot:\n",
    "                greater.append(x)\n",
    "        # Don't forget to return something!\n",
    "        return sort(less) + equal + sort(greater)  # Just use the + operator to join lists\n",
    "    \n",
    "    # Note that you want equal ^^^^^ not pivot\n",
    "    else:  \n",
    "        # You need to handle the part at the end of the recursion \n",
    "        # - when you only have one element in your array, \n",
    "        # just return the array.\n",
    "        return array\n",
    "    \n",
    "#--------------------------\n",
    "# calling this function\n",
    "sort()"
   ]
  },
  {
   "cell_type": "markdown",
   "metadata": {},
   "source": [
    "### Partition\n",
    "<img src=\"../files/quicksort-1.png\" alt=\"drawing\" width=\"700\"/>\n",
    "\n",
    "### In-place QuickSort\n",
    "\n",
    "<img src=\"../files/quicksort-2.png\" alt=\"drawing\" width=\"700\"/>\n",
    "\n",
    "<img src=\"../files/quicksort-3.png\" alt=\"drawing\" width=\"700\"/>"
   ]
  },
  {
   "cell_type": "code",
   "execution_count": 12,
   "metadata": {},
   "outputs": [
    {
     "name": "stdout",
     "output_type": "stream",
     "text": [
      "[1, 1, 1, 2]\n",
      "[-100, -1, 1, 2, 3, 3, 9, 23]\n"
     ]
    }
   ],
   "source": [
    "#???????? maybe have some problems !!!\n",
    "def partition(a_list, low, high):\n",
    "    pivot = a_list[low]\n",
    "    while True:\n",
    "        while a_list[low] < pivot:\n",
    "            low += 1\n",
    "        while a_list[high] > pivot:\n",
    "            high -= 1\n",
    "        if low >= high:\n",
    "            return high\n",
    "        a_list[low], a_list[high] = a_list[high], a_list[low]\n",
    "        low += 1\n",
    "        high -= 1\n",
    "            \n",
    "def _quicksort(a_list, low, high):\n",
    "    # must run partition on sections with 2 elements or more\n",
    "    if low < high: \n",
    "        p = partition(a_list, low, high)\n",
    "        _quicksort(a_list, low, p)\n",
    "        _quicksort(a_list, p+1, high)\n",
    "\n",
    "def quicksort(a_list):\n",
    "    _quicksort(a_list, 0, len(a_list)-1)\n",
    "    return a_list\n",
    "\n",
    "\n",
    "assert quicksort([1]) == [1]\n",
    "assert quicksort([1,2]) == [1,2]\n",
    "assert quicksort([1,2,3]) == [1,2,3]\n",
    "assert quicksort([1,2,3,4]) == [1,2,3,4]\n",
    "assert quicksort([2,1,3,4]) == [1,2,3,4]\n",
    "assert quicksort([1,3,2,4]) == [1,2,3,4]\n",
    "assert quicksort([1,2,4,3]) == [1,2,3,4]\n",
    "assert quicksort([2,1,1,1]) == [1,1,1,2]\n",
    "assert quicksort([1,2,1,1]) == [1,1,1,2]\n",
    "assert quicksort([1,1,2,1]) == [1,1,1,2]\n",
    "assert quicksort([1,1,1,2]) == [1,1,1,2]\n",
    "\n",
    "print (quicksort([1,1,1,2]))\n",
    "print (quicksort([1,3,2,9, -1, 3, 23, -100]))"
   ]
  },
  {
   "cell_type": "code",
   "execution_count": null,
   "metadata": {},
   "outputs": [],
   "source": []
  },
  {
   "cell_type": "code",
   "execution_count": null,
   "metadata": {},
   "outputs": [],
   "source": []
  }
 ],
 "metadata": {
  "kernelspec": {
   "display_name": "Python 3",
   "language": "python",
   "name": "python3"
  },
  "language_info": {
   "codemirror_mode": {
    "name": "ipython",
    "version": 3
   },
   "file_extension": ".py",
   "mimetype": "text/x-python",
   "name": "python",
   "nbconvert_exporter": "python",
   "pygments_lexer": "ipython3",
   "version": "3.6.0"
  }
 },
 "nbformat": 4,
 "nbformat_minor": 4
}
