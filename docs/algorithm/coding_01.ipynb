{
 "cells": [
  {
   "cell_type": "code",
   "execution_count": 3,
   "metadata": {},
   "outputs": [
    {
     "name": "stdout",
     "output_type": "stream",
     "text": [
      "h =  [0, 1, 2, 3, 4, 5, 6, 7, 8, 9]\n"
     ]
    }
   ],
   "source": [
    "import heapq\n",
    "# https://docs.python.org/2/library/heapq.html\n",
    "def heapsort(iterable):\n",
    "    h = []\n",
    "    for v in iterable:\n",
    "        heapq.heappush(h, v)\n",
    "    return [heapq.heappop(h) for i in range(len(h))]\n",
    "\n",
    "a = [1, 3, 5, 7, 9, 2, 4, 6, 8, 0]\n",
    "h = heapsort(a)\n",
    "print \"heapsort h = \", h"
   ]
  },
  {
   "cell_type": "code",
   "execution_count": 12,
   "metadata": {},
   "outputs": [
    {
     "name": "stdout",
     "output_type": "stream",
     "text": [
      "<type 'list'>\n",
      "heapify():  [3, 4, 9, 5, 7]\n"
     ]
    }
   ],
   "source": [
    "# initializing list 1 \n",
    "li1 = [5, 7, 9, 4, 3]\n",
    "print type(li1)\n",
    "# using heapify() to convert list into heap \n",
    "# Heaps are binary trees for which every parent node has a value less than or equal to any of its children.\n",
    "# This implementation uses arrays for which heap[k] <= heap[2*k+1] and heap[k] <= heap[2*k+2] for all k, \n",
    "# counting elements from zero. \n",
    "heapq.heapify(li1) \n",
    "print \"heapify(): \", li1"
   ]
  },
  {
   "cell_type": "markdown",
   "metadata": {},
   "source": [
    "## Problem: \n",
    "- Seen in Amazon interview:\n",
    "- You have a 2D matrix (of size MxN) and the vlaues are 0 and 1 only. You want to find how many connected components are in the image.\n"
   ]
  },
  {
   "cell_type": "markdown",
   "metadata": {},
   "source": [
    "you have a 2D matrix (of size MxN) and the vlaues are 0 and 1 only. \n",
    "You want to find how many connected components are in the image\n",
    "```python\n",
    "Input = { {1, 1, 0, 0, 0},\n",
    "          {0, 1, 0, 0, 1*},\n",
    "          {1, 0, 0, 1*, 1*},\n",
    "          {0, 0, 0, 0, 0},\n",
    "          {1, 0, 1, 0, 1} }\n",
    "```"
   ]
  },
  {
   "cell_type": "code",
   "execution_count": 2,
   "metadata": {},
   "outputs": [],
   "source": [
    "import numpy as np\n",
    "\n",
    "def help_func(A, s):\n",
    "    if np.sum(A) == s*s:\n",
    "        return 1\n",
    "    elif np.sum(A) < s*s:\n",
    "        return 0\n",
    "        \n",
    "\n",
    "def find_connected_compents(A, s = 2):\n",
    "    h, w = A.shape\n",
    "    cl = np.zeros([h/s, w/s])\n",
    "    n = 0\n",
    "    for r in range(0, s, h):\n",
    "        for c in range(0,s,w):\n",
    "            cl[r,c] = help_func(A[r*s:(r+1)*s, c*s:(c+1)*s], s)\n",
    "            cl_h, cl_w = cl.shape\n",
    "            \n",
    "            if cl_h <= s or cl_r <=s:\n",
    "                return \n",
    "            else:\n",
    "                cl_new = cl[0:s:, 0:s:]\n",
    "                find_connected_compents(cl_new, s)"
   ]
  }
 ],
 "metadata": {
  "kernelspec": {
   "display_name": "Python 3 (ipykernel)",
   "language": "python",
   "name": "python3"
  },
  "language_info": {
   "codemirror_mode": {
    "name": "ipython",
    "version": 3
   },
   "file_extension": ".py",
   "mimetype": "text/x-python",
   "name": "python",
   "nbconvert_exporter": "python",
   "pygments_lexer": "ipython3",
   "version": "3.12.3"
  }
 },
 "nbformat": 4,
 "nbformat_minor": 4
}
