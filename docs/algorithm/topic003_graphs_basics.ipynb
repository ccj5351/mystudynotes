{
 "cells": [
  {
   "cell_type": "markdown",
   "metadata": {},
   "source": [
    "# Graphs\n",
    "\n",
    "## Terminology\n",
    "\n",
    "- Path: sequence of alternating vertices and edges;\n",
    "- Simple path: path such that all its vetices and edges are distinct\n",
    "- Examples: \n",
    " - $P_1$ = (V, b, X, h, Z) is a simple path;\n",
    " - $P_2$ = (U, c, W,e,X,g,Y,f,W,d,V) is a path that is not simple;\n",
    " \n",
    "<div align=\"center\"> <img src=\"../files/path_simple_path.png\" alt=\"drawing\" width=\"300\"/></div>"
   ]
  },
  {
   "cell_type": "markdown",
   "metadata": {},
   "source": [
    "## Properties\n",
    "\n",
    "- $\\sum_v deg(v) = 2m$, where $n$ is nubmer of vertices, $m$ is number of edges, $deg(v)$ is the degree of vertex $v$; Hint: each edge is counted twice!!\n",
    "\n",
    "- In an undiredted graph with no self-loops and no multiple edges $m \\le n(n-1)/2$; Hint: each vertex has degree at most $(n-1)$;"
   ]
  },
  {
   "cell_type": "markdown",
   "metadata": {},
   "source": [
    "## Subgraphs\n",
    "\n",
    "- A subgraph $S$ of a graph $G$ is a graph such that a) the vertices of `S` are a subset of the vertices of `G`; b) the edges of `S` are a subset of the edges of `G`\n",
    "\n",
    "- A `spanning subgraph` of G is a subgraph that contains `ALL the vertices` of G: spanning --> all vertices\n",
    "\n",
    "Show as below:\n",
    "\n",
    "<div align=\"center\"><img src=\"../files/subgraphs.png\" alt=\"drawing\" width=\"600\"/></div>"
   ]
  },
  {
   "cell_type": "markdown",
   "metadata": {},
   "source": [
    "## Connectivity\n",
    "- connected: A graph is connected if there is a path between every pair of vertices\n",
    "- A connected component of a graph G is a maximal connected subgraph of G\n",
    "\n",
    "Shown as below: \n",
    "\n",
    "\n",
    "<div align=\"center\"><img src=\"../files/connectivity.png\" alt=\"drawing\" width=\"600\"/></div>\n",
    "\n",
    "## Trees and Forests\n",
    "- A (free) tree is an undirected graph T such that a) T is connected, b) T has `no cycles`\n",
    "\n",
    "\n",
    "<div align=\"center\"><img src=\"../files/connectivity.png\" alt=\"drawing\" width=\"600\"/></div>\n",
    "\n",
    "\n",
    "## Spanning Trees and Forests\n",
    "\n",
    "\n",
    "<div align=\"center\"><img src=\"../files/spanning-tree.png\" alt=\"drawing\" width=\"600\"/></div>"
   ]
  },
  {
   "cell_type": "markdown",
   "metadata": {},
   "source": [
    "## Data Structure for Graphs\n",
    "\n",
    "- Edge List Structure: a) Vertex object; b) Edge object; c) Vertex sequence and d) Edge sequence;\n",
    "\n",
    "<div align=\"center\"><img src=\"../files/edge-list-structure.png\" alt=\"drawing\" width=\"700\"/></div>\n",
    "\n",
    "- Adjacency List Structure: a) Edge list structure; b) Incidence sequence for each vertex; c) Augmented edge objects;\n",
    "\n",
    "\n",
    "<div align=\"center\"><img src=\"../files/adjacency-list-structure.png\" alt=\"drawing\" width=\"700\"/></div>\n",
    "\n",
    "- Adjacency Matrix Structure\n",
    "\n",
    "\n",
    "<div align=\"center\"><img src=\"../files/adjacency-matrix-structure.png\" alt=\"drawing\" width=\"700\"/></div>"
   ]
  },
  {
   "cell_type": "markdown",
   "metadata": {},
   "source": [
    "## Asymptotic Performance\n",
    "\n",
    "- Adjacency Matrix: incidentEdges() and adjacentVertices() require that we examine an entire row or column of the array, which takes $O(n)$ time.\n",
    "\n",
    "<div align=\"center\"><img src=\"../files/graph-asymptotic-performance.png\" alt=\"drawing\" width=\"600\"/></div>"
   ]
  },
  {
   "cell_type": "code",
   "execution_count": null,
   "metadata": {},
   "outputs": [],
   "source": []
  }
 ],
 "metadata": {
  "kernelspec": {
   "display_name": "Python 3 (ipykernel)",
   "language": "python",
   "name": "python3"
  },
  "language_info": {
   "codemirror_mode": {
    "name": "ipython",
    "version": 3
   },
   "file_extension": ".py",
   "mimetype": "text/x-python",
   "name": "python",
   "nbconvert_exporter": "python",
   "pygments_lexer": "ipython3",
   "version": "3.12.3"
  }
 },
 "nbformat": 4,
 "nbformat_minor": 4
}
