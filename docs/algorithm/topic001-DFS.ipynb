{
 "cells": [
  {
   "cell_type": "markdown",
   "metadata": {},
   "source": [
    "# Topic 1: Depth-First Search - DFS"
   ]
  },
  {
   "cell_type": "markdown",
   "metadata": {},
   "source": [
    "## What DFS can do: A DFS traversal graph G:\n",
    "- Visits all the edges of G\n",
    "- Determines whether G is connected\n",
    "- Computes the connected components of G\n",
    "- Computes a spannin forest of G\n",
    "- Find and report a path between two given vertices;\n",
    "- Find a cycle in the graph\n",
    "\n",
    "\n",
    "## Basics:\n",
    "\n",
    "- DFS on a graph with $V$ vertices and $E$ edges takes $O(V+E)$ time. Recall that $\\sum_v deg(v) = 2E$."
   ]
  },
  {
   "cell_type": "markdown",
   "metadata": {},
   "source": [
    "## DFS Algorithm\n",
    "\n",
    "<div align=\"center\"><img src=\"../files/dfs.png\" width=\"700\"/></div>\n",
    "\n",
    "`DFS大法:`\n",
    "```\n",
    "DFS(G,v)\n",
    "起于新点\n",
    "置其为旧\n",
    "遍历通径\n",
    "择新探之\n",
    "遇新递归\n",
    "遇旧撤回\n",
    "```"
   ]
  },
  {
   "cell_type": "markdown",
   "metadata": {},
   "source": [
    "## One Example:\n",
    "<div align=\"center\"><img src=\"../files/dfs-exam1.png\" alt=\"drawing\" width=\"500\"/></div>\n",
    "<div align=\"center\"><img src=\"../files/dfs-exam2.png\" alt=\"drawing\" width=\"500\"/></div>"
   ]
  },
  {
   "cell_type": "markdown",
   "metadata": {},
   "source": [
    "## Path Finding\n",
    "\n",
    "- find a path between two given vertices u an z;\n",
    "- Use a stack S to keep track of the path between the start vertex and the current vertex\n",
    "\n",
    "```\n",
    "Algorithm pathDFS(G,v,z)\n",
    "  setLabel (v, VISITED)\n",
    "  S.push(v)\n",
    "  if v == z\n",
    "     return S.elements()\n",
    "  for all e in G.incidentEdges(v)\n",
    "     if getLabel(e) == UNEXPLORED # for edge\n",
    "         w <-- opposite(v, e)\n",
    "         if getLabel(w) == UNXEPLORED\n",
    "            setLabel(e, DISCOVERY)\n",
    "            S.push(e)\n",
    "            pathDFS(G, w, z)\n",
    "            S.pop() # e gets poped!\n",
    "         ese\n",
    "            setLabel(e, BACK)\n",
    "  S.pop() # v gets popped!\n",
    "```"
   ]
  },
  {
   "cell_type": "markdown",
   "metadata": {},
   "source": [
    "- Shown as below: \n",
    "\n",
    "<div align=\"center\"><img src=\"../files/dfs_path_1.png\" alt=\"drawing\" width=\"350\"/></div>"
   ]
  },
  {
   "cell_type": "markdown",
   "metadata": {},
   "source": [
    "## Cycle Finding\n",
    "- use a `stack S` to keep track of the path between the start vertex and the current vertex\n",
    "- As soon as a `back` edge (v, w) is encountered, we return the `cycle` as the protion of the stack from the top to vertex $w$\n",
    "- Shown as below:\n",
    "\n",
    "\n",
    "<div align=\"center\"><img src=\"../files/dfs_cyclepath.png\" alt=\"drawing\" width=\"400\"/></div>"
   ]
  },
  {
   "cell_type": "code",
   "execution_count": null,
   "metadata": {},
   "outputs": [],
   "source": []
  }
 ],
 "metadata": {
  "kernelspec": {
   "display_name": "Python 3 (ipykernel)",
   "language": "python",
   "name": "python3"
  },
  "language_info": {
   "codemirror_mode": {
    "name": "ipython",
    "version": 3
   },
   "file_extension": ".py",
   "mimetype": "text/x-python",
   "name": "python",
   "nbconvert_exporter": "python",
   "pygments_lexer": "ipython3",
   "version": "3.12.3"
  }
 },
 "nbformat": 4,
 "nbformat_minor": 4
}
