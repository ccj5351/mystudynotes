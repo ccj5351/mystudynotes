{
 "cells": [
  {
   "cell_type": "markdown",
   "id": "b85b51f6-8e54-4914-857c-e4082b5d2490",
   "metadata": {},
   "source": [
    "# Homography"
   ]
  },
  {
   "cell_type": "markdown",
   "id": "34d9b888-cfd4-46c9-98d6-864f0a575e40",
   "metadata": {},
   "source": [
    "> see: OpenCV tutorial at https://docs.opencv.org/4.x/d9/dab/tutorial_homography.html\n",
    "\n",
    "> see: Multiple View Geometry Tutorials at https://www.robots.ox.ac.uk/~az/tutorials/\n",
    "\n",
    "> see: Wiki https://en.wikipedia.org/wiki/Homography_(computer_vision)\n",
    "\n",
    "> April 9, 2024, my study note for homography"
   ]
  },
  {
   "cell_type": "markdown",
   "id": "bafebdd9-fd45-417f-a395-1abe28a65368",
   "metadata": {},
   "source": [
    "## Plane Projective Transformations"
   ]
  },
  {
   "cell_type": "markdown",
   "id": "7004927a-e872-4b0a-9f27-6e136c239242",
   "metadata": {},
   "source": [
    "## What is the homography matrix?\n",
    "\n",
    "Briefly, the planar homography relates the transformation between two planes (up to a scale factor):\n",
    "\n",
    "$$\n",
    "\\begin{bmatrix}\n",
    "x^{'} \\\\\n",
    "y^{'} \\\\\n",
    "1\n",
    "\\end{bmatrix} = \\mathbf{H}\n",
    "\\begin{bmatrix}\n",
    "x \\\\\n",
    "y \\\\\n",
    "1\n",
    "\\end{bmatrix} =\n",
    "\\begin{bmatrix}\n",
    "h_{11} & h_{12} & h_{13} \\\\\n",
    "h_{21} & h_{22} & h_{23} \\\\\n",
    "h_{31} & h_{32} & h_{33}\n",
    "\\end{bmatrix}\n",
    "\\begin{bmatrix}\n",
    "x \\\\\n",
    "y \\\\\n",
    "1\n",
    "\\end{bmatrix}\n",
    "$$\n",
    "\n",
    "\n",
    "The homography matrix is a  `3x3`  matrix but with 8 DoF (degrees of freedom) as it is estimated up to a scale. It is generally normalized with  $ℎ_{33}=1$  or  $h_{11}^2 + h_{12}^2 + h_{13}^2 + h_{21}^2 + h_{22}^2 + h_{23}^2 + h_{31}^2 + h_{32}^2 + h_{33}^2 = 1$.\n",
    "\n",
    "The following examples show different kinds of transformation but all relate a transformation between two planes.\n",
    "\n",
    "### Without \n",
    "\n",
    "\n",
    "All feature maps are warped into different frontoparallel planes of the reference camera to form $N$ feature volumes $\\{\\mathbf{V}_i\\}^N_{i=1}$. \n",
    "\n",
    "The coordinate mapping from the warped feature map $\\mathbf{V}_i(d)$ to $\\mathbf{F}_i$ (of source frame $I_{i}$) at depth $d$ is determined by the planar transformation $\\mathbf{p}^{\\text{src}} \\sim \\mathbf{H}_{i}(d) \\cdot \\mathbf{p}^{\\text{ref}}$, where `$\\sim$' denotes the projective equality and $\\mathbf{H}_{i}(d)$ the homography between the $i^\\text{th}$ feature map and the reference feature map at depth $d$. \n",
    "\n",
    "Let $\\mathbf{n}_\\text{ref}$ be the principle axis of the reference camera, and $\\mathbf{K}_i$ and  $\\mathbf{R}_i$ the intrinsic matrix and rotation matrix of source frame $I_i$, $\\mathbf{K}_i$ and  $\\mathbf{R}_i$ for reference frame $I_\\text{ref}$, the homography is expressed by a $3 \\times 3$ matrix:\n",
    "\n",
    "$$\n",
    "    \\mathbf{H}_{i}(d) = \\mathbf{K}_{i} \\cdot  \\mathbf{R}_{i} \\cdot \\left(\\mathbf{I} - \\frac{\\mathbf{c}_{i}^{\\text{ref}}\\cdot \\mathbf{n}^{T}_\\text{ref}}{d}\\right) \\cdot \\mathbf{R}^{T}_\\text{ref} \\cdot \\mathbf{K}^{-1}_\\text{ref}\n",
    "$$\n",
    "\n",
    "where $\\mathbf{c}_{i}^{\\text{ref}}$ is the translation of source camera (for $I_i$) with respect to the reference camera (for $I_\\text{ref}$), i.e., $\\mathbf{c}_{i}^{\\text{ref}} = {}^{\\text{\\{ref\\}}}\\mathbf{p}_{\\text{src-ORG}}$, to indicate the origin of source camera $\\{\\text{src}\\}$ w.r.t. the reference camera coordinate system $\\{\\text{ref}\\}$.\n",
    "\n",
    "As for $\\mathbf{n}_\\text{ref}$, it is the unit length normal of the sweeping plane and $d$ is the distance (i.e., depth) of the plane to the origin (namely the center of the reference camera). For a fronto-parallel sweep \\cite{gallup2007real}, $\\mathbf{n}_\\text{ref} = [0, 0, 1]$.\n",
    "\n",
    "\n",
    "Applying the homography to map the reference coordinates :\n",
    "\n",
    "$$\n",
    "\\begin{split}\n",
    "\\mathbf{p}^{\\text{src}} &\\sim \\mathbf{H}_{i}(d) \\cdot \\mathbf{p}^{\\text{ref}} \\\\ \n",
    "&\\Longleftrightarrow \\\\\n",
    " \\lambda \\cdot \\begin{pmatrix} x'\\\\ y' \\\\ 1 \\end{pmatrix}\n",
    "&= \\mathbf{H}_{i}(d) \\cdot \\begin{pmatrix} x \\\\ y \\\\ 1 \\end{pmatrix}\n",
    "\\end{split}\n",
    "$$"
   ]
  },
  {
   "cell_type": "code",
   "execution_count": null,
   "id": "49ad178b-aded-443f-8cd6-58b35bac27fa",
   "metadata": {},
   "outputs": [],
   "source": []
  }
 ],
 "metadata": {
  "kernelspec": {
   "display_name": "Python 3 (ipykernel)",
   "language": "python",
   "name": "python3"
  },
  "language_info": {
   "codemirror_mode": {
    "name": "ipython",
    "version": 3
   },
   "file_extension": ".py",
   "mimetype": "text/x-python",
   "name": "python",
   "nbconvert_exporter": "python",
   "pygments_lexer": "ipython3",
   "version": "3.10.12"
  }
 },
 "nbformat": 4,
 "nbformat_minor": 5
}
